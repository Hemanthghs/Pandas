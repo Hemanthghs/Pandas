{
 "metadata": {
  "language_info": {
   "codemirror_mode": {
    "name": "ipython",
    "version": 3
   },
   "file_extension": ".py",
   "mimetype": "text/x-python",
   "name": "python",
   "nbconvert_exporter": "python",
   "pygments_lexer": "ipython3",
   "version": "3.9.2-final"
  },
  "orig_nbformat": 2,
  "kernelspec": {
   "name": "python392jvsc74a57bd0e2ffade49fbeff3d7d29c1dd63a6b6f42d75a3b20c79e6b4a74ef6aaf29122c5",
   "display_name": "Python 3.9.2 64-bit"
  },
  "metadata": {
   "interpreter": {
    "hash": "e2ffade49fbeff3d7d29c1dd63a6b6f42d75a3b20c79e6b4a74ef6aaf29122c5"
   }
  }
 },
 "nbformat": 4,
 "nbformat_minor": 2,
 "cells": [
  {
   "cell_type": "code",
   "execution_count": 2,
   "metadata": {},
   "outputs": [],
   "source": [
    "import numpy as np \n",
    "import pandas as pd "
   ]
  },
  {
   "cell_type": "code",
   "execution_count": 3,
   "metadata": {},
   "outputs": [],
   "source": [
    "df = pd.DataFrame(data = np.arange(0,20))"
   ]
  },
  {
   "cell_type": "code",
   "execution_count": 4,
   "metadata": {},
   "outputs": [
    {
     "output_type": "execute_result",
     "data": {
      "text/plain": [
       "   0\n",
       "0  0\n",
       "1  1\n",
       "2  2\n",
       "3  3\n",
       "4  4"
      ],
      "text/html": "<div>\n<style scoped>\n    .dataframe tbody tr th:only-of-type {\n        vertical-align: middle;\n    }\n\n    .dataframe tbody tr th {\n        vertical-align: top;\n    }\n\n    .dataframe thead th {\n        text-align: right;\n    }\n</style>\n<table border=\"1\" class=\"dataframe\">\n  <thead>\n    <tr style=\"text-align: right;\">\n      <th></th>\n      <th>0</th>\n    </tr>\n  </thead>\n  <tbody>\n    <tr>\n      <th>0</th>\n      <td>0</td>\n    </tr>\n    <tr>\n      <th>1</th>\n      <td>1</td>\n    </tr>\n    <tr>\n      <th>2</th>\n      <td>2</td>\n    </tr>\n    <tr>\n      <th>3</th>\n      <td>3</td>\n    </tr>\n    <tr>\n      <th>4</th>\n      <td>4</td>\n    </tr>\n  </tbody>\n</table>\n</div>"
     },
     "metadata": {},
     "execution_count": 4
    }
   ],
   "source": [
    "df.head()"
   ]
  },
  {
   "cell_type": "code",
   "execution_count": 5,
   "metadata": {},
   "outputs": [
    {
     "output_type": "execute_result",
     "data": {
      "text/plain": [
       "(20, 1)"
      ]
     },
     "metadata": {},
     "execution_count": 5
    }
   ],
   "source": [
    "df.shape"
   ]
  },
  {
   "cell_type": "code",
   "execution_count": 6,
   "metadata": {},
   "outputs": [
    {
     "output_type": "execute_result",
     "data": {
      "text/plain": [
       "pandas.core.frame.DataFrame"
      ]
     },
     "metadata": {},
     "execution_count": 6
    }
   ],
   "source": [
    "type(df)"
   ]
  },
  {
   "cell_type": "code",
   "execution_count": 7,
   "metadata": {},
   "outputs": [],
   "source": [
    "df = pd.DataFrame(data = np.arange(0,20).reshape(4,5))"
   ]
  },
  {
   "cell_type": "code",
   "execution_count": 7,
   "metadata": {},
   "outputs": [
    {
     "output_type": "execute_result",
     "data": {
      "text/plain": [
       "    0   1   2   3   4\n",
       "0   0   1   2   3   4\n",
       "1   5   6   7   8   9\n",
       "2  10  11  12  13  14\n",
       "3  15  16  17  18  19"
      ],
      "text/html": "<div>\n<style scoped>\n    .dataframe tbody tr th:only-of-type {\n        vertical-align: middle;\n    }\n\n    .dataframe tbody tr th {\n        vertical-align: top;\n    }\n\n    .dataframe thead th {\n        text-align: right;\n    }\n</style>\n<table border=\"1\" class=\"dataframe\">\n  <thead>\n    <tr style=\"text-align: right;\">\n      <th></th>\n      <th>0</th>\n      <th>1</th>\n      <th>2</th>\n      <th>3</th>\n      <th>4</th>\n    </tr>\n  </thead>\n  <tbody>\n    <tr>\n      <th>0</th>\n      <td>0</td>\n      <td>1</td>\n      <td>2</td>\n      <td>3</td>\n      <td>4</td>\n    </tr>\n    <tr>\n      <th>1</th>\n      <td>5</td>\n      <td>6</td>\n      <td>7</td>\n      <td>8</td>\n      <td>9</td>\n    </tr>\n    <tr>\n      <th>2</th>\n      <td>10</td>\n      <td>11</td>\n      <td>12</td>\n      <td>13</td>\n      <td>14</td>\n    </tr>\n    <tr>\n      <th>3</th>\n      <td>15</td>\n      <td>16</td>\n      <td>17</td>\n      <td>18</td>\n      <td>19</td>\n    </tr>\n  </tbody>\n</table>\n</div>"
     },
     "metadata": {},
     "execution_count": 7
    }
   ],
   "source": [
    "df"
   ]
  },
  {
   "cell_type": "code",
   "execution_count": 8,
   "metadata": {},
   "outputs": [],
   "source": [
    "df = pd.DataFrame(data = np.arange(0,20).reshape(4,5), columns = ['col1','col2','col3','col4','col5'], index=['row1','row2','row3','row4'])"
   ]
  },
  {
   "cell_type": "code",
   "execution_count": 10,
   "metadata": {},
   "outputs": [
    {
     "output_type": "execute_result",
     "data": {
      "text/plain": [
       "      col1  col2  col3  col4  col5\n",
       "row1     0     1     2     3     4\n",
       "row2     5     6     7     8     9\n",
       "row3    10    11    12    13    14\n",
       "row4    15    16    17    18    19"
      ],
      "text/html": "<div>\n<style scoped>\n    .dataframe tbody tr th:only-of-type {\n        vertical-align: middle;\n    }\n\n    .dataframe tbody tr th {\n        vertical-align: top;\n    }\n\n    .dataframe thead th {\n        text-align: right;\n    }\n</style>\n<table border=\"1\" class=\"dataframe\">\n  <thead>\n    <tr style=\"text-align: right;\">\n      <th></th>\n      <th>col1</th>\n      <th>col2</th>\n      <th>col3</th>\n      <th>col4</th>\n      <th>col5</th>\n    </tr>\n  </thead>\n  <tbody>\n    <tr>\n      <th>row1</th>\n      <td>0</td>\n      <td>1</td>\n      <td>2</td>\n      <td>3</td>\n      <td>4</td>\n    </tr>\n    <tr>\n      <th>row2</th>\n      <td>5</td>\n      <td>6</td>\n      <td>7</td>\n      <td>8</td>\n      <td>9</td>\n    </tr>\n    <tr>\n      <th>row3</th>\n      <td>10</td>\n      <td>11</td>\n      <td>12</td>\n      <td>13</td>\n      <td>14</td>\n    </tr>\n    <tr>\n      <th>row4</th>\n      <td>15</td>\n      <td>16</td>\n      <td>17</td>\n      <td>18</td>\n      <td>19</td>\n    </tr>\n  </tbody>\n</table>\n</div>"
     },
     "metadata": {},
     "execution_count": 10
    }
   ],
   "source": [
    "df"
   ]
  },
  {
   "cell_type": "code",
   "execution_count": 11,
   "metadata": {},
   "outputs": [
    {
     "output_type": "execute_result",
     "data": {
      "text/plain": [
       "      col1  col2  col3  col4  col5\n",
       "row1     0     1     2     3     4\n",
       "row2     5     6     7     8     9\n",
       "row3    10    11    12    13    14\n",
       "row4    15    16    17    18    19"
      ],
      "text/html": "<div>\n<style scoped>\n    .dataframe tbody tr th:only-of-type {\n        vertical-align: middle;\n    }\n\n    .dataframe tbody tr th {\n        vertical-align: top;\n    }\n\n    .dataframe thead th {\n        text-align: right;\n    }\n</style>\n<table border=\"1\" class=\"dataframe\">\n  <thead>\n    <tr style=\"text-align: right;\">\n      <th></th>\n      <th>col1</th>\n      <th>col2</th>\n      <th>col3</th>\n      <th>col4</th>\n      <th>col5</th>\n    </tr>\n  </thead>\n  <tbody>\n    <tr>\n      <th>row1</th>\n      <td>0</td>\n      <td>1</td>\n      <td>2</td>\n      <td>3</td>\n      <td>4</td>\n    </tr>\n    <tr>\n      <th>row2</th>\n      <td>5</td>\n      <td>6</td>\n      <td>7</td>\n      <td>8</td>\n      <td>9</td>\n    </tr>\n    <tr>\n      <th>row3</th>\n      <td>10</td>\n      <td>11</td>\n      <td>12</td>\n      <td>13</td>\n      <td>14</td>\n    </tr>\n    <tr>\n      <th>row4</th>\n      <td>15</td>\n      <td>16</td>\n      <td>17</td>\n      <td>18</td>\n      <td>19</td>\n    </tr>\n  </tbody>\n</table>\n</div>"
     },
     "metadata": {},
     "execution_count": 11
    }
   ],
   "source": [
    "df.head()"
   ]
  },
  {
   "cell_type": "code",
   "execution_count": 19,
   "metadata": {},
   "outputs": [
    {
     "output_type": "execute_result",
     "data": {
      "text/plain": [
       "array([[350, 380, 410, 440, 470],\n",
       "       [380, 414, 448, 482, 516],\n",
       "       [410, 448, 486, 524, 562],\n",
       "       [440, 482, 524, 566, 608],\n",
       "       [470, 516, 562, 608, 654]])"
      ]
     },
     "metadata": {},
     "execution_count": 19
    }
   ],
   "source": [
    "df.transpose().values @ df.values"
   ]
  },
  {
   "cell_type": "code",
   "execution_count": 20,
   "metadata": {},
   "outputs": [
    {
     "output_type": "execute_result",
     "data": {
      "text/plain": [
       "      col1  col2  col3  col4  col5\n",
       "row1     0     1     2     3     4\n",
       "row2     5     6     7     8     9\n",
       "row3    10    11    12    13    14\n",
       "row4    15    16    17    18    19"
      ],
      "text/html": "<div>\n<style scoped>\n    .dataframe tbody tr th:only-of-type {\n        vertical-align: middle;\n    }\n\n    .dataframe tbody tr th {\n        vertical-align: top;\n    }\n\n    .dataframe thead th {\n        text-align: right;\n    }\n</style>\n<table border=\"1\" class=\"dataframe\">\n  <thead>\n    <tr style=\"text-align: right;\">\n      <th></th>\n      <th>col1</th>\n      <th>col2</th>\n      <th>col3</th>\n      <th>col4</th>\n      <th>col5</th>\n    </tr>\n  </thead>\n  <tbody>\n    <tr>\n      <th>row1</th>\n      <td>0</td>\n      <td>1</td>\n      <td>2</td>\n      <td>3</td>\n      <td>4</td>\n    </tr>\n    <tr>\n      <th>row2</th>\n      <td>5</td>\n      <td>6</td>\n      <td>7</td>\n      <td>8</td>\n      <td>9</td>\n    </tr>\n    <tr>\n      <th>row3</th>\n      <td>10</td>\n      <td>11</td>\n      <td>12</td>\n      <td>13</td>\n      <td>14</td>\n    </tr>\n    <tr>\n      <th>row4</th>\n      <td>15</td>\n      <td>16</td>\n      <td>17</td>\n      <td>18</td>\n      <td>19</td>\n    </tr>\n  </tbody>\n</table>\n</div>"
     },
     "metadata": {},
     "execution_count": 20
    }
   ],
   "source": [
    "df"
   ]
  },
  {
   "cell_type": "code",
   "execution_count": 22,
   "metadata": {},
   "outputs": [
    {
     "output_type": "execute_result",
     "data": {
      "text/plain": [
       "col1  row1     0\n",
       "      row2     5\n",
       "      row3    10\n",
       "      row4    15\n",
       "col2  row1     1\n",
       "      row2     6\n",
       "      row3    11\n",
       "      row4    16\n",
       "col3  row1     2\n",
       "      row2     7\n",
       "      row3    12\n",
       "      row4    17\n",
       "col4  row1     3\n",
       "      row2     8\n",
       "      row3    13\n",
       "      row4    18\n",
       "col5  row1     4\n",
       "      row2     9\n",
       "      row3    14\n",
       "      row4    19\n",
       "dtype: int32"
      ]
     },
     "metadata": {},
     "execution_count": 22
    }
   ],
   "source": [
    "df.unstack()"
   ]
  },
  {
   "cell_type": "code",
   "execution_count": 23,
   "metadata": {},
   "outputs": [
    {
     "output_type": "execute_result",
     "data": {
      "text/plain": [
       "row1  col1     0\n",
       "      col2     1\n",
       "      col3     2\n",
       "      col4     3\n",
       "      col5     4\n",
       "row2  col1     5\n",
       "      col2     6\n",
       "      col3     7\n",
       "      col4     8\n",
       "      col5     9\n",
       "row3  col1    10\n",
       "      col2    11\n",
       "      col3    12\n",
       "      col4    13\n",
       "      col5    14\n",
       "row4  col1    15\n",
       "      col2    16\n",
       "      col3    17\n",
       "      col4    18\n",
       "      col5    19\n",
       "dtype: int32"
      ]
     },
     "metadata": {},
     "execution_count": 23
    }
   ],
   "source": [
    "df.stack()"
   ]
  },
  {
   "cell_type": "code",
   "execution_count": 24,
   "metadata": {},
   "outputs": [
    {
     "output_type": "execute_result",
     "data": {
      "text/plain": [
       "      col1  col2  col3  col4  col5\n",
       "row1     0     1     2     3     4\n",
       "row2     5     6     7     8     9\n",
       "row3    10    11    12    13    14\n",
       "row4    15    16    17    18    19"
      ],
      "text/html": "<div>\n<style scoped>\n    .dataframe tbody tr th:only-of-type {\n        vertical-align: middle;\n    }\n\n    .dataframe tbody tr th {\n        vertical-align: top;\n    }\n\n    .dataframe thead th {\n        text-align: right;\n    }\n</style>\n<table border=\"1\" class=\"dataframe\">\n  <thead>\n    <tr style=\"text-align: right;\">\n      <th></th>\n      <th>col1</th>\n      <th>col2</th>\n      <th>col3</th>\n      <th>col4</th>\n      <th>col5</th>\n    </tr>\n  </thead>\n  <tbody>\n    <tr>\n      <th>row1</th>\n      <td>0</td>\n      <td>1</td>\n      <td>2</td>\n      <td>3</td>\n      <td>4</td>\n    </tr>\n    <tr>\n      <th>row2</th>\n      <td>5</td>\n      <td>6</td>\n      <td>7</td>\n      <td>8</td>\n      <td>9</td>\n    </tr>\n    <tr>\n      <th>row3</th>\n      <td>10</td>\n      <td>11</td>\n      <td>12</td>\n      <td>13</td>\n      <td>14</td>\n    </tr>\n    <tr>\n      <th>row4</th>\n      <td>15</td>\n      <td>16</td>\n      <td>17</td>\n      <td>18</td>\n      <td>19</td>\n    </tr>\n  </tbody>\n</table>\n</div>"
     },
     "metadata": {},
     "execution_count": 24
    }
   ],
   "source": [
    "df"
   ]
  },
  {
   "cell_type": "code",
   "execution_count": 25,
   "metadata": {},
   "outputs": [
    {
     "output_type": "execute_result",
     "data": {
      "text/plain": [
       "Index(['col1', 'col2', 'col3', 'col4', 'col5'], dtype='object')"
      ]
     },
     "metadata": {},
     "execution_count": 25
    }
   ],
   "source": [
    "df.columns"
   ]
  },
  {
   "cell_type": "code",
   "execution_count": 26,
   "metadata": {},
   "outputs": [
    {
     "output_type": "execute_result",
     "data": {
      "text/plain": [
       "Index(['row1', 'row2', 'row3', 'row4'], dtype='object')"
      ]
     },
     "metadata": {},
     "execution_count": 26
    }
   ],
   "source": [
    "df.index"
   ]
  },
  {
   "cell_type": "code",
   "execution_count": 27,
   "metadata": {},
   "outputs": [
    {
     "output_type": "execute_result",
     "data": {
      "text/plain": [
       "0     1\n",
       "10    1\n",
       "5     1\n",
       "15    1\n",
       "Name: col1, dtype: int64"
      ]
     },
     "metadata": {},
     "execution_count": 27
    }
   ],
   "source": [
    "df.col1.value_counts()"
   ]
  },
  {
   "cell_type": "code",
   "execution_count": 28,
   "metadata": {},
   "outputs": [
    {
     "output_type": "execute_result",
     "data": {
      "text/plain": [
       "array([ 0,  5, 10, 15])"
      ]
     },
     "metadata": {},
     "execution_count": 28
    }
   ],
   "source": [
    "df.col1.unique()"
   ]
  },
  {
   "cell_type": "code",
   "execution_count": 29,
   "metadata": {},
   "outputs": [
    {
     "output_type": "execute_result",
     "data": {
      "text/plain": [
       "row1     0\n",
       "row2     5\n",
       "row3    10\n",
       "row4    15\n",
       "Name: col1, dtype: int32"
      ]
     },
     "metadata": {},
     "execution_count": 29
    }
   ],
   "source": [
    "df.col1.truncate()"
   ]
  },
  {
   "cell_type": "code",
   "execution_count": 30,
   "metadata": {},
   "outputs": [
    {
     "output_type": "execute_result",
     "data": {
      "text/plain": [
       "      col1  col2  col3  col4  col5\n",
       "row1     0     1     2     3     4\n",
       "row2     5     6     7     8     9\n",
       "row3    10    11    12    13    14\n",
       "row4    15    16    17    18    19"
      ],
      "text/html": "<div>\n<style scoped>\n    .dataframe tbody tr th:only-of-type {\n        vertical-align: middle;\n    }\n\n    .dataframe tbody tr th {\n        vertical-align: top;\n    }\n\n    .dataframe thead th {\n        text-align: right;\n    }\n</style>\n<table border=\"1\" class=\"dataframe\">\n  <thead>\n    <tr style=\"text-align: right;\">\n      <th></th>\n      <th>col1</th>\n      <th>col2</th>\n      <th>col3</th>\n      <th>col4</th>\n      <th>col5</th>\n    </tr>\n  </thead>\n  <tbody>\n    <tr>\n      <th>row1</th>\n      <td>0</td>\n      <td>1</td>\n      <td>2</td>\n      <td>3</td>\n      <td>4</td>\n    </tr>\n    <tr>\n      <th>row2</th>\n      <td>5</td>\n      <td>6</td>\n      <td>7</td>\n      <td>8</td>\n      <td>9</td>\n    </tr>\n    <tr>\n      <th>row3</th>\n      <td>10</td>\n      <td>11</td>\n      <td>12</td>\n      <td>13</td>\n      <td>14</td>\n    </tr>\n    <tr>\n      <th>row4</th>\n      <td>15</td>\n      <td>16</td>\n      <td>17</td>\n      <td>18</td>\n      <td>19</td>\n    </tr>\n  </tbody>\n</table>\n</div>"
     },
     "metadata": {},
     "execution_count": 30
    }
   ],
   "source": [
    "df"
   ]
  },
  {
   "cell_type": "code",
   "execution_count": 32,
   "metadata": {},
   "outputs": [
    {
     "output_type": "stream",
     "name": "stdout",
     "text": [
      "Help on method truncate in module pandas.core.generic:\n\ntruncate(before=None, after=None, axis=None, copy: 'bool_t' = True) -> 'FrameOrSeries' method of pandas.core.frame.DataFrame instance\n    Truncate a Series or DataFrame before and after some index value.\n    \n    This is a useful shorthand for boolean indexing based on index\n    values above or below certain thresholds.\n    \n    Parameters\n    ----------\n    before : date, str, int\n        Truncate all rows before this index value.\n    after : date, str, int\n        Truncate all rows after this index value.\n    axis : {0 or 'index', 1 or 'columns'}, optional\n        Axis to truncate. Truncates the index (rows) by default.\n    copy : bool, default is True,\n        Return a copy of the truncated section.\n    \n    Returns\n    -------\n    type of caller\n        The truncated Series or DataFrame.\n    \n    See Also\n    --------\n    DataFrame.loc : Select a subset of a DataFrame by label.\n    DataFrame.iloc : Select a subset of a DataFrame by position.\n    \n    Notes\n    -----\n    If the index being truncated contains only datetime values,\n    `before` and `after` may be specified as strings instead of\n    Timestamps.\n    \n    Examples\n    --------\n    >>> df = pd.DataFrame({'A': ['a', 'b', 'c', 'd', 'e'],\n    ...                    'B': ['f', 'g', 'h', 'i', 'j'],\n    ...                    'C': ['k', 'l', 'm', 'n', 'o']},\n    ...                   index=[1, 2, 3, 4, 5])\n    >>> df\n       A  B  C\n    1  a  f  k\n    2  b  g  l\n    3  c  h  m\n    4  d  i  n\n    5  e  j  o\n    \n    >>> df.truncate(before=2, after=4)\n       A  B  C\n    2  b  g  l\n    3  c  h  m\n    4  d  i  n\n    \n    The columns of a DataFrame can be truncated.\n    \n    >>> df.truncate(before=\"A\", after=\"B\", axis=\"columns\")\n       A  B\n    1  a  f\n    2  b  g\n    3  c  h\n    4  d  i\n    5  e  j\n    \n    For Series, only rows can be truncated.\n    \n    >>> df['A'].truncate(before=2, after=4)\n    2    b\n    3    c\n    4    d\n    Name: A, dtype: object\n    \n    The index values in ``truncate`` can be datetimes or string\n    dates.\n    \n    >>> dates = pd.date_range('2016-01-01', '2016-02-01', freq='s')\n    >>> df = pd.DataFrame(index=dates, data={'A': 1})\n    >>> df.tail()\n                         A\n    2016-01-31 23:59:56  1\n    2016-01-31 23:59:57  1\n    2016-01-31 23:59:58  1\n    2016-01-31 23:59:59  1\n    2016-02-01 00:00:00  1\n    \n    >>> df.truncate(before=pd.Timestamp('2016-01-05'),\n    ...             after=pd.Timestamp('2016-01-10')).tail()\n                         A\n    2016-01-09 23:59:56  1\n    2016-01-09 23:59:57  1\n    2016-01-09 23:59:58  1\n    2016-01-09 23:59:59  1\n    2016-01-10 00:00:00  1\n    \n    Because the index is a DatetimeIndex containing only dates, we can\n    specify `before` and `after` as strings. They will be coerced to\n    Timestamps before truncation.\n    \n    >>> df.truncate('2016-01-05', '2016-01-10').tail()\n                         A\n    2016-01-09 23:59:56  1\n    2016-01-09 23:59:57  1\n    2016-01-09 23:59:58  1\n    2016-01-09 23:59:59  1\n    2016-01-10 00:00:00  1\n    \n    Note that ``truncate`` assumes a 0 value for any unspecified time\n    component (midnight). This differs from partial string slicing, which\n    returns any partially matching dates.\n    \n    >>> df.loc['2016-01-05':'2016-01-10', :].tail()\n                         A\n    2016-01-10 23:59:55  1\n    2016-01-10 23:59:56  1\n    2016-01-10 23:59:57  1\n    2016-01-10 23:59:58  1\n    2016-01-10 23:59:59  1\n\n"
     ]
    }
   ],
   "source": [
    "help(df.truncate)"
   ]
  },
  {
   "cell_type": "code",
   "execution_count": 33,
   "metadata": {},
   "outputs": [
    {
     "output_type": "execute_result",
     "data": {
      "text/plain": [
       "       col1   col2   col3   col4   col5\n",
       "row1  False  False  False  False  False\n",
       "row2  False  False  False  False  False\n",
       "row3  False  False  False  False  False\n",
       "row4  False  False  False  False  False"
      ],
      "text/html": "<div>\n<style scoped>\n    .dataframe tbody tr th:only-of-type {\n        vertical-align: middle;\n    }\n\n    .dataframe tbody tr th {\n        vertical-align: top;\n    }\n\n    .dataframe thead th {\n        text-align: right;\n    }\n</style>\n<table border=\"1\" class=\"dataframe\">\n  <thead>\n    <tr style=\"text-align: right;\">\n      <th></th>\n      <th>col1</th>\n      <th>col2</th>\n      <th>col3</th>\n      <th>col4</th>\n      <th>col5</th>\n    </tr>\n  </thead>\n  <tbody>\n    <tr>\n      <th>row1</th>\n      <td>False</td>\n      <td>False</td>\n      <td>False</td>\n      <td>False</td>\n      <td>False</td>\n    </tr>\n    <tr>\n      <th>row2</th>\n      <td>False</td>\n      <td>False</td>\n      <td>False</td>\n      <td>False</td>\n      <td>False</td>\n    </tr>\n    <tr>\n      <th>row3</th>\n      <td>False</td>\n      <td>False</td>\n      <td>False</td>\n      <td>False</td>\n      <td>False</td>\n    </tr>\n    <tr>\n      <th>row4</th>\n      <td>False</td>\n      <td>False</td>\n      <td>False</td>\n      <td>False</td>\n      <td>False</td>\n    </tr>\n  </tbody>\n</table>\n</div>"
     },
     "metadata": {},
     "execution_count": 33
    }
   ],
   "source": [
    "df.isnull()"
   ]
  },
  {
   "cell_type": "code",
   "execution_count": 34,
   "metadata": {},
   "outputs": [
    {
     "output_type": "execute_result",
     "data": {
      "text/plain": [
       "col1    False\n",
       "col2    False\n",
       "col3    False\n",
       "col4    False\n",
       "col5    False\n",
       "dtype: bool"
      ]
     },
     "metadata": {},
     "execution_count": 34
    }
   ],
   "source": [
    "df.isnull().any()"
   ]
  },
  {
   "cell_type": "code",
   "execution_count": 35,
   "metadata": {},
   "outputs": [
    {
     "output_type": "execute_result",
     "data": {
      "text/plain": [
       "col1    0\n",
       "col2    0\n",
       "col3    0\n",
       "col4    0\n",
       "col5    0\n",
       "dtype: int64"
      ]
     },
     "metadata": {},
     "execution_count": 35
    }
   ],
   "source": [
    "df.isnull().sum()"
   ]
  },
  {
   "cell_type": "code",
   "execution_count": 36,
   "metadata": {},
   "outputs": [
    {
     "output_type": "execute_result",
     "data": {
      "text/plain": [
       "0"
      ]
     },
     "metadata": {},
     "execution_count": 36
    }
   ],
   "source": [
    "df.isnull().sum().sum()"
   ]
  },
  {
   "cell_type": "code",
   "execution_count": 37,
   "metadata": {},
   "outputs": [
    {
     "output_type": "execute_result",
     "data": {
      "text/plain": [
       "False"
      ]
     },
     "metadata": {},
     "execution_count": 37
    }
   ],
   "source": [
    "df.isnull().values.any()"
   ]
  },
  {
   "cell_type": "code",
   "execution_count": 38,
   "metadata": {},
   "outputs": [
    {
     "output_type": "execute_result",
     "data": {
      "text/plain": [
       "      col1  col2\n",
       "row1     0     1\n",
       "row2     5     6\n",
       "row3    10    11\n",
       "row4    15    16"
      ],
      "text/html": "<div>\n<style scoped>\n    .dataframe tbody tr th:only-of-type {\n        vertical-align: middle;\n    }\n\n    .dataframe tbody tr th {\n        vertical-align: top;\n    }\n\n    .dataframe thead th {\n        text-align: right;\n    }\n</style>\n<table border=\"1\" class=\"dataframe\">\n  <thead>\n    <tr style=\"text-align: right;\">\n      <th></th>\n      <th>col1</th>\n      <th>col2</th>\n    </tr>\n  </thead>\n  <tbody>\n    <tr>\n      <th>row1</th>\n      <td>0</td>\n      <td>1</td>\n    </tr>\n    <tr>\n      <th>row2</th>\n      <td>5</td>\n      <td>6</td>\n    </tr>\n    <tr>\n      <th>row3</th>\n      <td>10</td>\n      <td>11</td>\n    </tr>\n    <tr>\n      <th>row4</th>\n      <td>15</td>\n      <td>16</td>\n    </tr>\n  </tbody>\n</table>\n</div>"
     },
     "metadata": {},
     "execution_count": 38
    }
   ],
   "source": [
    "df[['col1','col2']]"
   ]
  },
  {
   "cell_type": "code",
   "execution_count": 39,
   "metadata": {},
   "outputs": [
    {
     "output_type": "execute_result",
     "data": {
      "text/plain": [
       "0     1\n",
       "10    1\n",
       "5     1\n",
       "15    1\n",
       "Name: col1, dtype: int64"
      ]
     },
     "metadata": {},
     "execution_count": 39
    }
   ],
   "source": [
    "df.col1.value_counts()"
   ]
  },
  {
   "cell_type": "code",
   "execution_count": 41,
   "metadata": {},
   "outputs": [
    {
     "output_type": "execute_result",
     "data": {
      "text/plain": [
       "row1     0\n",
       "row2     5\n",
       "row3    10\n",
       "row4    15\n",
       "Name: col1, dtype: int32"
      ]
     },
     "metadata": {},
     "execution_count": 41
    }
   ],
   "source": [
    "df.col1.sort_values()"
   ]
  },
  {
   "cell_type": "code",
   "execution_count": 42,
   "metadata": {},
   "outputs": [],
   "source": [
    "from io import StringIO, BytesIO"
   ]
  },
  {
   "cell_type": "code",
   "execution_count": 43,
   "metadata": {},
   "outputs": [],
   "source": [
    "dt = (\n",
    "    'col1,col2,col3\\n'\n",
    "    '1,2,3\\n'\n",
    "    '4,5,6\\n'\n",
    "    '7,8,9\\n'\n",
    ")"
   ]
  },
  {
   "cell_type": "code",
   "execution_count": 44,
   "metadata": {},
   "outputs": [
    {
     "output_type": "execute_result",
     "data": {
      "text/plain": [
       "<_io.StringIO at 0x22d9daad8b0>"
      ]
     },
     "metadata": {},
     "execution_count": 44
    }
   ],
   "source": [
    "StringIO(dt)"
   ]
  },
  {
   "cell_type": "code",
   "execution_count": 45,
   "metadata": {},
   "outputs": [],
   "source": [
    "data = pd.read_csv(StringIO(dt))"
   ]
  },
  {
   "cell_type": "code",
   "execution_count": 46,
   "metadata": {},
   "outputs": [
    {
     "output_type": "execute_result",
     "data": {
      "text/plain": [
       "   col1  col2  col3\n",
       "0     1     2     3\n",
       "1     4     5     6\n",
       "2     7     8     9"
      ],
      "text/html": "<div>\n<style scoped>\n    .dataframe tbody tr th:only-of-type {\n        vertical-align: middle;\n    }\n\n    .dataframe tbody tr th {\n        vertical-align: top;\n    }\n\n    .dataframe thead th {\n        text-align: right;\n    }\n</style>\n<table border=\"1\" class=\"dataframe\">\n  <thead>\n    <tr style=\"text-align: right;\">\n      <th></th>\n      <th>col1</th>\n      <th>col2</th>\n      <th>col3</th>\n    </tr>\n  </thead>\n  <tbody>\n    <tr>\n      <th>0</th>\n      <td>1</td>\n      <td>2</td>\n      <td>3</td>\n    </tr>\n    <tr>\n      <th>1</th>\n      <td>4</td>\n      <td>5</td>\n      <td>6</td>\n    </tr>\n    <tr>\n      <th>2</th>\n      <td>7</td>\n      <td>8</td>\n      <td>9</td>\n    </tr>\n  </tbody>\n</table>\n</div>"
     },
     "metadata": {},
     "execution_count": 46
    }
   ],
   "source": [
    "data"
   ]
  },
  {
   "cell_type": "code",
   "execution_count": 47,
   "metadata": {},
   "outputs": [
    {
     "output_type": "execute_result",
     "data": {
      "text/plain": [
       "       col1  col2  col3\n",
       "count   3.0   3.0   3.0\n",
       "mean    4.0   5.0   6.0\n",
       "std     3.0   3.0   3.0\n",
       "min     1.0   2.0   3.0\n",
       "25%     2.5   3.5   4.5\n",
       "50%     4.0   5.0   6.0\n",
       "75%     5.5   6.5   7.5\n",
       "max     7.0   8.0   9.0"
      ],
      "text/html": "<div>\n<style scoped>\n    .dataframe tbody tr th:only-of-type {\n        vertical-align: middle;\n    }\n\n    .dataframe tbody tr th {\n        vertical-align: top;\n    }\n\n    .dataframe thead th {\n        text-align: right;\n    }\n</style>\n<table border=\"1\" class=\"dataframe\">\n  <thead>\n    <tr style=\"text-align: right;\">\n      <th></th>\n      <th>col1</th>\n      <th>col2</th>\n      <th>col3</th>\n    </tr>\n  </thead>\n  <tbody>\n    <tr>\n      <th>count</th>\n      <td>3.0</td>\n      <td>3.0</td>\n      <td>3.0</td>\n    </tr>\n    <tr>\n      <th>mean</th>\n      <td>4.0</td>\n      <td>5.0</td>\n      <td>6.0</td>\n    </tr>\n    <tr>\n      <th>std</th>\n      <td>3.0</td>\n      <td>3.0</td>\n      <td>3.0</td>\n    </tr>\n    <tr>\n      <th>min</th>\n      <td>1.0</td>\n      <td>2.0</td>\n      <td>3.0</td>\n    </tr>\n    <tr>\n      <th>25%</th>\n      <td>2.5</td>\n      <td>3.5</td>\n      <td>4.5</td>\n    </tr>\n    <tr>\n      <th>50%</th>\n      <td>4.0</td>\n      <td>5.0</td>\n      <td>6.0</td>\n    </tr>\n    <tr>\n      <th>75%</th>\n      <td>5.5</td>\n      <td>6.5</td>\n      <td>7.5</td>\n    </tr>\n    <tr>\n      <th>max</th>\n      <td>7.0</td>\n      <td>8.0</td>\n      <td>9.0</td>\n    </tr>\n  </tbody>\n</table>\n</div>"
     },
     "metadata": {},
     "execution_count": 47
    }
   ],
   "source": [
    "data.describe()"
   ]
  },
  {
   "cell_type": "code",
   "execution_count": 50,
   "metadata": {},
   "outputs": [
    {
     "output_type": "execute_result",
     "data": {
      "text/plain": [
       "col1    int64\n",
       "col2    int64\n",
       "col3    int64\n",
       "dtype: object"
      ]
     },
     "metadata": {},
     "execution_count": 50
    }
   ],
   "source": [
    "data.dtypes"
   ]
  },
  {
   "cell_type": "code",
   "execution_count": 52,
   "metadata": {},
   "outputs": [
    {
     "output_type": "stream",
     "name": "stdout",
     "text": [
      "<class 'pandas.core.frame.DataFrame'>\nRangeIndex: 3 entries, 0 to 2\nData columns (total 3 columns):\n #   Column  Non-Null Count  Dtype\n---  ------  --------------  -----\n 0   col1    3 non-null      int64\n 1   col2    3 non-null      int64\n 2   col3    3 non-null      int64\ndtypes: int64(3)\nmemory usage: 200.0 bytes\n"
     ]
    }
   ],
   "source": [
    "data.info()"
   ]
  },
  {
   "source": [
    "<h1>Pandas Indexing"
   ],
   "cell_type": "markdown",
   "metadata": {}
  },
  {
   "cell_type": "code",
   "execution_count": 54,
   "metadata": {},
   "outputs": [],
   "source": [
    "data = pd.DataFrame(data = np.arange(0,100).reshape(10,10),index=['row0','row1','row2','row3','row4','row5','row6','row7','row8','row9'], columns=['col0','col1','col2','col3','col4','col5','col6','col7','col8','col9'])"
   ]
  },
  {
   "cell_type": "code",
   "execution_count": 55,
   "metadata": {},
   "outputs": [
    {
     "output_type": "execute_result",
     "data": {
      "text/plain": [
       "      col0  col1  col2  col3  col4  col5  col6  col7  col8  col9\n",
       "row0     0     1     2     3     4     5     6     7     8     9\n",
       "row1    10    11    12    13    14    15    16    17    18    19\n",
       "row2    20    21    22    23    24    25    26    27    28    29\n",
       "row3    30    31    32    33    34    35    36    37    38    39\n",
       "row4    40    41    42    43    44    45    46    47    48    49"
      ],
      "text/html": "<div>\n<style scoped>\n    .dataframe tbody tr th:only-of-type {\n        vertical-align: middle;\n    }\n\n    .dataframe tbody tr th {\n        vertical-align: top;\n    }\n\n    .dataframe thead th {\n        text-align: right;\n    }\n</style>\n<table border=\"1\" class=\"dataframe\">\n  <thead>\n    <tr style=\"text-align: right;\">\n      <th></th>\n      <th>col0</th>\n      <th>col1</th>\n      <th>col2</th>\n      <th>col3</th>\n      <th>col4</th>\n      <th>col5</th>\n      <th>col6</th>\n      <th>col7</th>\n      <th>col8</th>\n      <th>col9</th>\n    </tr>\n  </thead>\n  <tbody>\n    <tr>\n      <th>row0</th>\n      <td>0</td>\n      <td>1</td>\n      <td>2</td>\n      <td>3</td>\n      <td>4</td>\n      <td>5</td>\n      <td>6</td>\n      <td>7</td>\n      <td>8</td>\n      <td>9</td>\n    </tr>\n    <tr>\n      <th>row1</th>\n      <td>10</td>\n      <td>11</td>\n      <td>12</td>\n      <td>13</td>\n      <td>14</td>\n      <td>15</td>\n      <td>16</td>\n      <td>17</td>\n      <td>18</td>\n      <td>19</td>\n    </tr>\n    <tr>\n      <th>row2</th>\n      <td>20</td>\n      <td>21</td>\n      <td>22</td>\n      <td>23</td>\n      <td>24</td>\n      <td>25</td>\n      <td>26</td>\n      <td>27</td>\n      <td>28</td>\n      <td>29</td>\n    </tr>\n    <tr>\n      <th>row3</th>\n      <td>30</td>\n      <td>31</td>\n      <td>32</td>\n      <td>33</td>\n      <td>34</td>\n      <td>35</td>\n      <td>36</td>\n      <td>37</td>\n      <td>38</td>\n      <td>39</td>\n    </tr>\n    <tr>\n      <th>row4</th>\n      <td>40</td>\n      <td>41</td>\n      <td>42</td>\n      <td>43</td>\n      <td>44</td>\n      <td>45</td>\n      <td>46</td>\n      <td>47</td>\n      <td>48</td>\n      <td>49</td>\n    </tr>\n  </tbody>\n</table>\n</div>"
     },
     "metadata": {},
     "execution_count": 55
    }
   ],
   "source": [
    "data.head()"
   ]
  },
  {
   "cell_type": "code",
   "execution_count": 56,
   "metadata": {},
   "outputs": [
    {
     "output_type": "execute_result",
     "data": {
      "text/plain": [
       "      col0  col1  col2  col3  col4  col5  col6  col7  col8  col9\n",
       "row0     0     1     2     3     4     5     6     7     8     9\n",
       "row1    10    11    12    13    14    15    16    17    18    19\n",
       "row2    20    21    22    23    24    25    26    27    28    29\n",
       "row3    30    31    32    33    34    35    36    37    38    39\n",
       "row4    40    41    42    43    44    45    46    47    48    49\n",
       "row5    50    51    52    53    54    55    56    57    58    59\n",
       "row6    60    61    62    63    64    65    66    67    68    69\n",
       "row7    70    71    72    73    74    75    76    77    78    79\n",
       "row8    80    81    82    83    84    85    86    87    88    89\n",
       "row9    90    91    92    93    94    95    96    97    98    99"
      ],
      "text/html": "<div>\n<style scoped>\n    .dataframe tbody tr th:only-of-type {\n        vertical-align: middle;\n    }\n\n    .dataframe tbody tr th {\n        vertical-align: top;\n    }\n\n    .dataframe thead th {\n        text-align: right;\n    }\n</style>\n<table border=\"1\" class=\"dataframe\">\n  <thead>\n    <tr style=\"text-align: right;\">\n      <th></th>\n      <th>col0</th>\n      <th>col1</th>\n      <th>col2</th>\n      <th>col3</th>\n      <th>col4</th>\n      <th>col5</th>\n      <th>col6</th>\n      <th>col7</th>\n      <th>col8</th>\n      <th>col9</th>\n    </tr>\n  </thead>\n  <tbody>\n    <tr>\n      <th>row0</th>\n      <td>0</td>\n      <td>1</td>\n      <td>2</td>\n      <td>3</td>\n      <td>4</td>\n      <td>5</td>\n      <td>6</td>\n      <td>7</td>\n      <td>8</td>\n      <td>9</td>\n    </tr>\n    <tr>\n      <th>row1</th>\n      <td>10</td>\n      <td>11</td>\n      <td>12</td>\n      <td>13</td>\n      <td>14</td>\n      <td>15</td>\n      <td>16</td>\n      <td>17</td>\n      <td>18</td>\n      <td>19</td>\n    </tr>\n    <tr>\n      <th>row2</th>\n      <td>20</td>\n      <td>21</td>\n      <td>22</td>\n      <td>23</td>\n      <td>24</td>\n      <td>25</td>\n      <td>26</td>\n      <td>27</td>\n      <td>28</td>\n      <td>29</td>\n    </tr>\n    <tr>\n      <th>row3</th>\n      <td>30</td>\n      <td>31</td>\n      <td>32</td>\n      <td>33</td>\n      <td>34</td>\n      <td>35</td>\n      <td>36</td>\n      <td>37</td>\n      <td>38</td>\n      <td>39</td>\n    </tr>\n    <tr>\n      <th>row4</th>\n      <td>40</td>\n      <td>41</td>\n      <td>42</td>\n      <td>43</td>\n      <td>44</td>\n      <td>45</td>\n      <td>46</td>\n      <td>47</td>\n      <td>48</td>\n      <td>49</td>\n    </tr>\n    <tr>\n      <th>row5</th>\n      <td>50</td>\n      <td>51</td>\n      <td>52</td>\n      <td>53</td>\n      <td>54</td>\n      <td>55</td>\n      <td>56</td>\n      <td>57</td>\n      <td>58</td>\n      <td>59</td>\n    </tr>\n    <tr>\n      <th>row6</th>\n      <td>60</td>\n      <td>61</td>\n      <td>62</td>\n      <td>63</td>\n      <td>64</td>\n      <td>65</td>\n      <td>66</td>\n      <td>67</td>\n      <td>68</td>\n      <td>69</td>\n    </tr>\n    <tr>\n      <th>row7</th>\n      <td>70</td>\n      <td>71</td>\n      <td>72</td>\n      <td>73</td>\n      <td>74</td>\n      <td>75</td>\n      <td>76</td>\n      <td>77</td>\n      <td>78</td>\n      <td>79</td>\n    </tr>\n    <tr>\n      <th>row8</th>\n      <td>80</td>\n      <td>81</td>\n      <td>82</td>\n      <td>83</td>\n      <td>84</td>\n      <td>85</td>\n      <td>86</td>\n      <td>87</td>\n      <td>88</td>\n      <td>89</td>\n    </tr>\n    <tr>\n      <th>row9</th>\n      <td>90</td>\n      <td>91</td>\n      <td>92</td>\n      <td>93</td>\n      <td>94</td>\n      <td>95</td>\n      <td>96</td>\n      <td>97</td>\n      <td>98</td>\n      <td>99</td>\n    </tr>\n  </tbody>\n</table>\n</div>"
     },
     "metadata": {},
     "execution_count": 56
    }
   ],
   "source": [
    "data"
   ]
  },
  {
   "cell_type": "code",
   "execution_count": 57,
   "metadata": {},
   "outputs": [
    {
     "output_type": "execute_result",
     "data": {
      "text/plain": [
       "(10, 10)"
      ]
     },
     "metadata": {},
     "execution_count": 57
    }
   ],
   "source": [
    "data.shape"
   ]
  },
  {
   "cell_type": "code",
   "execution_count": 60,
   "metadata": {},
   "outputs": [
    {
     "output_type": "execute_result",
     "data": {
      "text/plain": [
       "100"
      ]
     },
     "metadata": {},
     "execution_count": 60
    }
   ],
   "source": [
    "data.size"
   ]
  },
  {
   "cell_type": "code",
   "execution_count": 61,
   "metadata": {},
   "outputs": [
    {
     "output_type": "execute_result",
     "data": {
      "text/plain": [
       "False"
      ]
     },
     "metadata": {},
     "execution_count": 61
    }
   ],
   "source": [
    "data.empty"
   ]
  },
  {
   "cell_type": "code",
   "execution_count": 64,
   "metadata": {},
   "outputs": [
    {
     "output_type": "execute_result",
     "data": {
      "text/plain": [
       "      col0  col1  col2  col3  col4  col5  col6  col7  col8  col9\n",
       "row0     0     1     2     3     4     5     6     7     8     9\n",
       "row1    10    11    12    13    14    15    16    17    18    19\n",
       "row2    20    21    22    23    24    25    26    27    28    29\n",
       "row3    30    31    32    33    34    35    36    37    38    39\n",
       "row4    40    41    42    43    44    45    46    47    48    49\n",
       "row5    50    51    52    53    54    55    56    57    58    59\n",
       "row6    60    61    62    63    64    65    66    67    68    69\n",
       "row7    70    71    72    73    74    75    76    77    78    79\n",
       "row8    80    81    82    83    84    85    86    87    88    89\n",
       "row9    90    91    92    93    94    95    96    97    98    99"
      ],
      "text/html": "<div>\n<style scoped>\n    .dataframe tbody tr th:only-of-type {\n        vertical-align: middle;\n    }\n\n    .dataframe tbody tr th {\n        vertical-align: top;\n    }\n\n    .dataframe thead th {\n        text-align: right;\n    }\n</style>\n<table border=\"1\" class=\"dataframe\">\n  <thead>\n    <tr style=\"text-align: right;\">\n      <th></th>\n      <th>col0</th>\n      <th>col1</th>\n      <th>col2</th>\n      <th>col3</th>\n      <th>col4</th>\n      <th>col5</th>\n      <th>col6</th>\n      <th>col7</th>\n      <th>col8</th>\n      <th>col9</th>\n    </tr>\n  </thead>\n  <tbody>\n    <tr>\n      <th>row0</th>\n      <td>0</td>\n      <td>1</td>\n      <td>2</td>\n      <td>3</td>\n      <td>4</td>\n      <td>5</td>\n      <td>6</td>\n      <td>7</td>\n      <td>8</td>\n      <td>9</td>\n    </tr>\n    <tr>\n      <th>row1</th>\n      <td>10</td>\n      <td>11</td>\n      <td>12</td>\n      <td>13</td>\n      <td>14</td>\n      <td>15</td>\n      <td>16</td>\n      <td>17</td>\n      <td>18</td>\n      <td>19</td>\n    </tr>\n    <tr>\n      <th>row2</th>\n      <td>20</td>\n      <td>21</td>\n      <td>22</td>\n      <td>23</td>\n      <td>24</td>\n      <td>25</td>\n      <td>26</td>\n      <td>27</td>\n      <td>28</td>\n      <td>29</td>\n    </tr>\n    <tr>\n      <th>row3</th>\n      <td>30</td>\n      <td>31</td>\n      <td>32</td>\n      <td>33</td>\n      <td>34</td>\n      <td>35</td>\n      <td>36</td>\n      <td>37</td>\n      <td>38</td>\n      <td>39</td>\n    </tr>\n    <tr>\n      <th>row4</th>\n      <td>40</td>\n      <td>41</td>\n      <td>42</td>\n      <td>43</td>\n      <td>44</td>\n      <td>45</td>\n      <td>46</td>\n      <td>47</td>\n      <td>48</td>\n      <td>49</td>\n    </tr>\n    <tr>\n      <th>row5</th>\n      <td>50</td>\n      <td>51</td>\n      <td>52</td>\n      <td>53</td>\n      <td>54</td>\n      <td>55</td>\n      <td>56</td>\n      <td>57</td>\n      <td>58</td>\n      <td>59</td>\n    </tr>\n    <tr>\n      <th>row6</th>\n      <td>60</td>\n      <td>61</td>\n      <td>62</td>\n      <td>63</td>\n      <td>64</td>\n      <td>65</td>\n      <td>66</td>\n      <td>67</td>\n      <td>68</td>\n      <td>69</td>\n    </tr>\n    <tr>\n      <th>row7</th>\n      <td>70</td>\n      <td>71</td>\n      <td>72</td>\n      <td>73</td>\n      <td>74</td>\n      <td>75</td>\n      <td>76</td>\n      <td>77</td>\n      <td>78</td>\n      <td>79</td>\n    </tr>\n    <tr>\n      <th>row8</th>\n      <td>80</td>\n      <td>81</td>\n      <td>82</td>\n      <td>83</td>\n      <td>84</td>\n      <td>85</td>\n      <td>86</td>\n      <td>87</td>\n      <td>88</td>\n      <td>89</td>\n    </tr>\n    <tr>\n      <th>row9</th>\n      <td>90</td>\n      <td>91</td>\n      <td>92</td>\n      <td>93</td>\n      <td>94</td>\n      <td>95</td>\n      <td>96</td>\n      <td>97</td>\n      <td>98</td>\n      <td>99</td>\n    </tr>\n  </tbody>\n</table>\n</div>"
     },
     "metadata": {},
     "execution_count": 64
    }
   ],
   "source": [
    "data.loc[:,:]"
   ]
  },
  {
   "cell_type": "code",
   "execution_count": 65,
   "metadata": {},
   "outputs": [
    {
     "output_type": "execute_result",
     "data": {
      "text/plain": [
       "      col0  col1  col2  col3  col4  col5  col6  col7  col8  col9\n",
       "row0     0     1     2     3     4     5     6     7     8     9\n",
       "row1    10    11    12    13    14    15    16    17    18    19\n",
       "row2    20    21    22    23    24    25    26    27    28    29\n",
       "row3    30    31    32    33    34    35    36    37    38    39\n",
       "row4    40    41    42    43    44    45    46    47    48    49\n",
       "row5    50    51    52    53    54    55    56    57    58    59\n",
       "row6    60    61    62    63    64    65    66    67    68    69\n",
       "row7    70    71    72    73    74    75    76    77    78    79\n",
       "row8    80    81    82    83    84    85    86    87    88    89\n",
       "row9    90    91    92    93    94    95    96    97    98    99"
      ],
      "text/html": "<div>\n<style scoped>\n    .dataframe tbody tr th:only-of-type {\n        vertical-align: middle;\n    }\n\n    .dataframe tbody tr th {\n        vertical-align: top;\n    }\n\n    .dataframe thead th {\n        text-align: right;\n    }\n</style>\n<table border=\"1\" class=\"dataframe\">\n  <thead>\n    <tr style=\"text-align: right;\">\n      <th></th>\n      <th>col0</th>\n      <th>col1</th>\n      <th>col2</th>\n      <th>col3</th>\n      <th>col4</th>\n      <th>col5</th>\n      <th>col6</th>\n      <th>col7</th>\n      <th>col8</th>\n      <th>col9</th>\n    </tr>\n  </thead>\n  <tbody>\n    <tr>\n      <th>row0</th>\n      <td>0</td>\n      <td>1</td>\n      <td>2</td>\n      <td>3</td>\n      <td>4</td>\n      <td>5</td>\n      <td>6</td>\n      <td>7</td>\n      <td>8</td>\n      <td>9</td>\n    </tr>\n    <tr>\n      <th>row1</th>\n      <td>10</td>\n      <td>11</td>\n      <td>12</td>\n      <td>13</td>\n      <td>14</td>\n      <td>15</td>\n      <td>16</td>\n      <td>17</td>\n      <td>18</td>\n      <td>19</td>\n    </tr>\n    <tr>\n      <th>row2</th>\n      <td>20</td>\n      <td>21</td>\n      <td>22</td>\n      <td>23</td>\n      <td>24</td>\n      <td>25</td>\n      <td>26</td>\n      <td>27</td>\n      <td>28</td>\n      <td>29</td>\n    </tr>\n    <tr>\n      <th>row3</th>\n      <td>30</td>\n      <td>31</td>\n      <td>32</td>\n      <td>33</td>\n      <td>34</td>\n      <td>35</td>\n      <td>36</td>\n      <td>37</td>\n      <td>38</td>\n      <td>39</td>\n    </tr>\n    <tr>\n      <th>row4</th>\n      <td>40</td>\n      <td>41</td>\n      <td>42</td>\n      <td>43</td>\n      <td>44</td>\n      <td>45</td>\n      <td>46</td>\n      <td>47</td>\n      <td>48</td>\n      <td>49</td>\n    </tr>\n    <tr>\n      <th>row5</th>\n      <td>50</td>\n      <td>51</td>\n      <td>52</td>\n      <td>53</td>\n      <td>54</td>\n      <td>55</td>\n      <td>56</td>\n      <td>57</td>\n      <td>58</td>\n      <td>59</td>\n    </tr>\n    <tr>\n      <th>row6</th>\n      <td>60</td>\n      <td>61</td>\n      <td>62</td>\n      <td>63</td>\n      <td>64</td>\n      <td>65</td>\n      <td>66</td>\n      <td>67</td>\n      <td>68</td>\n      <td>69</td>\n    </tr>\n    <tr>\n      <th>row7</th>\n      <td>70</td>\n      <td>71</td>\n      <td>72</td>\n      <td>73</td>\n      <td>74</td>\n      <td>75</td>\n      <td>76</td>\n      <td>77</td>\n      <td>78</td>\n      <td>79</td>\n    </tr>\n    <tr>\n      <th>row8</th>\n      <td>80</td>\n      <td>81</td>\n      <td>82</td>\n      <td>83</td>\n      <td>84</td>\n      <td>85</td>\n      <td>86</td>\n      <td>87</td>\n      <td>88</td>\n      <td>89</td>\n    </tr>\n    <tr>\n      <th>row9</th>\n      <td>90</td>\n      <td>91</td>\n      <td>92</td>\n      <td>93</td>\n      <td>94</td>\n      <td>95</td>\n      <td>96</td>\n      <td>97</td>\n      <td>98</td>\n      <td>99</td>\n    </tr>\n  </tbody>\n</table>\n</div>"
     },
     "metadata": {},
     "execution_count": 65
    }
   ],
   "source": [
    "data.loc[:]"
   ]
  },
  {
   "cell_type": "code",
   "execution_count": 68,
   "metadata": {},
   "outputs": [
    {
     "output_type": "execute_result",
     "data": {
      "text/plain": [
       "col0    10\n",
       "col1    11\n",
       "col2    12\n",
       "col3    13\n",
       "col4    14\n",
       "col5    15\n",
       "col6    16\n",
       "col7    17\n",
       "col8    18\n",
       "col9    19\n",
       "Name: row1, dtype: int32"
      ]
     },
     "metadata": {},
     "execution_count": 68
    }
   ],
   "source": [
    "data.loc['row1']"
   ]
  },
  {
   "cell_type": "code",
   "execution_count": 78,
   "metadata": {},
   "outputs": [
    {
     "output_type": "execute_result",
     "data": {
      "text/plain": [
       "      col0  col1  col2  col3  col4  col5  col6  col7  col8  col9\n",
       "row1    10    11    12    13    14    15    16    17    18    19\n",
       "row2    20    21    22    23    24    25    26    27    28    29\n",
       "row3    30    31    32    33    34    35    36    37    38    39\n",
       "row4    40    41    42    43    44    45    46    47    48    49"
      ],
      "text/html": "<div>\n<style scoped>\n    .dataframe tbody tr th:only-of-type {\n        vertical-align: middle;\n    }\n\n    .dataframe tbody tr th {\n        vertical-align: top;\n    }\n\n    .dataframe thead th {\n        text-align: right;\n    }\n</style>\n<table border=\"1\" class=\"dataframe\">\n  <thead>\n    <tr style=\"text-align: right;\">\n      <th></th>\n      <th>col0</th>\n      <th>col1</th>\n      <th>col2</th>\n      <th>col3</th>\n      <th>col4</th>\n      <th>col5</th>\n      <th>col6</th>\n      <th>col7</th>\n      <th>col8</th>\n      <th>col9</th>\n    </tr>\n  </thead>\n  <tbody>\n    <tr>\n      <th>row1</th>\n      <td>10</td>\n      <td>11</td>\n      <td>12</td>\n      <td>13</td>\n      <td>14</td>\n      <td>15</td>\n      <td>16</td>\n      <td>17</td>\n      <td>18</td>\n      <td>19</td>\n    </tr>\n    <tr>\n      <th>row2</th>\n      <td>20</td>\n      <td>21</td>\n      <td>22</td>\n      <td>23</td>\n      <td>24</td>\n      <td>25</td>\n      <td>26</td>\n      <td>27</td>\n      <td>28</td>\n      <td>29</td>\n    </tr>\n    <tr>\n      <th>row3</th>\n      <td>30</td>\n      <td>31</td>\n      <td>32</td>\n      <td>33</td>\n      <td>34</td>\n      <td>35</td>\n      <td>36</td>\n      <td>37</td>\n      <td>38</td>\n      <td>39</td>\n    </tr>\n    <tr>\n      <th>row4</th>\n      <td>40</td>\n      <td>41</td>\n      <td>42</td>\n      <td>43</td>\n      <td>44</td>\n      <td>45</td>\n      <td>46</td>\n      <td>47</td>\n      <td>48</td>\n      <td>49</td>\n    </tr>\n  </tbody>\n</table>\n</div>"
     },
     "metadata": {},
     "execution_count": 78
    }
   ],
   "source": [
    "data.loc['row1':'row4']"
   ]
  },
  {
   "cell_type": "code",
   "execution_count": 82,
   "metadata": {},
   "outputs": [
    {
     "output_type": "execute_result",
     "data": {
      "text/plain": [
       "0"
      ]
     },
     "metadata": {},
     "execution_count": 82
    }
   ],
   "source": [
    "data.iat[0,0]"
   ]
  },
  {
   "cell_type": "code",
   "execution_count": 85,
   "metadata": {},
   "outputs": [
    {
     "output_type": "execute_result",
     "data": {
      "text/plain": [
       "      col0  col1  col2  col3  col4  col5  col6  col7  col8  col9\n",
       "row0     0     1     2     3     4     5     6     7     8     9\n",
       "row1    10    11    12    13    14    15    16    17    18    19\n",
       "row2    20    21    22    23    24    25    26    27    28    29\n",
       "row3    30    31    32    33    34    35    36    37    38    39\n",
       "row4    40    41    42    43    44    45    46    47    48    49\n",
       "row5    50    51    52    53    54    55    56    57    58    59\n",
       "row6    60    61    62    63    64    65    66    67    68    69\n",
       "row7    70    71    72    73    74    75    76    77    78    79\n",
       "row8    80    81    82    83    84    85    86    87    88    89\n",
       "row9    90    91    92    93    94    95    96    97    98    99"
      ],
      "text/html": "<div>\n<style scoped>\n    .dataframe tbody tr th:only-of-type {\n        vertical-align: middle;\n    }\n\n    .dataframe tbody tr th {\n        vertical-align: top;\n    }\n\n    .dataframe thead th {\n        text-align: right;\n    }\n</style>\n<table border=\"1\" class=\"dataframe\">\n  <thead>\n    <tr style=\"text-align: right;\">\n      <th></th>\n      <th>col0</th>\n      <th>col1</th>\n      <th>col2</th>\n      <th>col3</th>\n      <th>col4</th>\n      <th>col5</th>\n      <th>col6</th>\n      <th>col7</th>\n      <th>col8</th>\n      <th>col9</th>\n    </tr>\n  </thead>\n  <tbody>\n    <tr>\n      <th>row0</th>\n      <td>0</td>\n      <td>1</td>\n      <td>2</td>\n      <td>3</td>\n      <td>4</td>\n      <td>5</td>\n      <td>6</td>\n      <td>7</td>\n      <td>8</td>\n      <td>9</td>\n    </tr>\n    <tr>\n      <th>row1</th>\n      <td>10</td>\n      <td>11</td>\n      <td>12</td>\n      <td>13</td>\n      <td>14</td>\n      <td>15</td>\n      <td>16</td>\n      <td>17</td>\n      <td>18</td>\n      <td>19</td>\n    </tr>\n    <tr>\n      <th>row2</th>\n      <td>20</td>\n      <td>21</td>\n      <td>22</td>\n      <td>23</td>\n      <td>24</td>\n      <td>25</td>\n      <td>26</td>\n      <td>27</td>\n      <td>28</td>\n      <td>29</td>\n    </tr>\n    <tr>\n      <th>row3</th>\n      <td>30</td>\n      <td>31</td>\n      <td>32</td>\n      <td>33</td>\n      <td>34</td>\n      <td>35</td>\n      <td>36</td>\n      <td>37</td>\n      <td>38</td>\n      <td>39</td>\n    </tr>\n    <tr>\n      <th>row4</th>\n      <td>40</td>\n      <td>41</td>\n      <td>42</td>\n      <td>43</td>\n      <td>44</td>\n      <td>45</td>\n      <td>46</td>\n      <td>47</td>\n      <td>48</td>\n      <td>49</td>\n    </tr>\n    <tr>\n      <th>row5</th>\n      <td>50</td>\n      <td>51</td>\n      <td>52</td>\n      <td>53</td>\n      <td>54</td>\n      <td>55</td>\n      <td>56</td>\n      <td>57</td>\n      <td>58</td>\n      <td>59</td>\n    </tr>\n    <tr>\n      <th>row6</th>\n      <td>60</td>\n      <td>61</td>\n      <td>62</td>\n      <td>63</td>\n      <td>64</td>\n      <td>65</td>\n      <td>66</td>\n      <td>67</td>\n      <td>68</td>\n      <td>69</td>\n    </tr>\n    <tr>\n      <th>row7</th>\n      <td>70</td>\n      <td>71</td>\n      <td>72</td>\n      <td>73</td>\n      <td>74</td>\n      <td>75</td>\n      <td>76</td>\n      <td>77</td>\n      <td>78</td>\n      <td>79</td>\n    </tr>\n    <tr>\n      <th>row8</th>\n      <td>80</td>\n      <td>81</td>\n      <td>82</td>\n      <td>83</td>\n      <td>84</td>\n      <td>85</td>\n      <td>86</td>\n      <td>87</td>\n      <td>88</td>\n      <td>89</td>\n    </tr>\n    <tr>\n      <th>row9</th>\n      <td>90</td>\n      <td>91</td>\n      <td>92</td>\n      <td>93</td>\n      <td>94</td>\n      <td>95</td>\n      <td>96</td>\n      <td>97</td>\n      <td>98</td>\n      <td>99</td>\n    </tr>\n  </tbody>\n</table>\n</div>"
     },
     "metadata": {},
     "execution_count": 85
    }
   ],
   "source": [
    "data[:]"
   ]
  },
  {
   "cell_type": "code",
   "execution_count": 86,
   "metadata": {},
   "outputs": [
    {
     "output_type": "execute_result",
     "data": {
      "text/plain": [
       "      col0  col1  col2  col3  col4  col5  col6  col7  col8  col9\n",
       "row0     0     1     2     3     4     5     6     7     8     9\n",
       "row1    10    11    12    13    14    15    16    17    18    19\n",
       "row2    20    21    22    23    24    25    26    27    28    29\n",
       "row3    30    31    32    33    34    35    36    37    38    39"
      ],
      "text/html": "<div>\n<style scoped>\n    .dataframe tbody tr th:only-of-type {\n        vertical-align: middle;\n    }\n\n    .dataframe tbody tr th {\n        vertical-align: top;\n    }\n\n    .dataframe thead th {\n        text-align: right;\n    }\n</style>\n<table border=\"1\" class=\"dataframe\">\n  <thead>\n    <tr style=\"text-align: right;\">\n      <th></th>\n      <th>col0</th>\n      <th>col1</th>\n      <th>col2</th>\n      <th>col3</th>\n      <th>col4</th>\n      <th>col5</th>\n      <th>col6</th>\n      <th>col7</th>\n      <th>col8</th>\n      <th>col9</th>\n    </tr>\n  </thead>\n  <tbody>\n    <tr>\n      <th>row0</th>\n      <td>0</td>\n      <td>1</td>\n      <td>2</td>\n      <td>3</td>\n      <td>4</td>\n      <td>5</td>\n      <td>6</td>\n      <td>7</td>\n      <td>8</td>\n      <td>9</td>\n    </tr>\n    <tr>\n      <th>row1</th>\n      <td>10</td>\n      <td>11</td>\n      <td>12</td>\n      <td>13</td>\n      <td>14</td>\n      <td>15</td>\n      <td>16</td>\n      <td>17</td>\n      <td>18</td>\n      <td>19</td>\n    </tr>\n    <tr>\n      <th>row2</th>\n      <td>20</td>\n      <td>21</td>\n      <td>22</td>\n      <td>23</td>\n      <td>24</td>\n      <td>25</td>\n      <td>26</td>\n      <td>27</td>\n      <td>28</td>\n      <td>29</td>\n    </tr>\n    <tr>\n      <th>row3</th>\n      <td>30</td>\n      <td>31</td>\n      <td>32</td>\n      <td>33</td>\n      <td>34</td>\n      <td>35</td>\n      <td>36</td>\n      <td>37</td>\n      <td>38</td>\n      <td>39</td>\n    </tr>\n  </tbody>\n</table>\n</div>"
     },
     "metadata": {},
     "execution_count": 86
    }
   ],
   "source": [
    "data[0:4]"
   ]
  },
  {
   "cell_type": "code",
   "execution_count": 90,
   "metadata": {},
   "outputs": [
    {
     "output_type": "execute_result",
     "data": {
      "text/plain": [
       "      col0  col1  col2  col3  col4  col5  col6  col7  col8  col9\n",
       "row0     0     1     2     3     4     5     6     7     8     9\n",
       "row2    20    21    22    23    24    25    26    27    28    29\n",
       "row4    40    41    42    43    44    45    46    47    48    49\n",
       "row6    60    61    62    63    64    65    66    67    68    69\n",
       "row8    80    81    82    83    84    85    86    87    88    89"
      ],
      "text/html": "<div>\n<style scoped>\n    .dataframe tbody tr th:only-of-type {\n        vertical-align: middle;\n    }\n\n    .dataframe tbody tr th {\n        vertical-align: top;\n    }\n\n    .dataframe thead th {\n        text-align: right;\n    }\n</style>\n<table border=\"1\" class=\"dataframe\">\n  <thead>\n    <tr style=\"text-align: right;\">\n      <th></th>\n      <th>col0</th>\n      <th>col1</th>\n      <th>col2</th>\n      <th>col3</th>\n      <th>col4</th>\n      <th>col5</th>\n      <th>col6</th>\n      <th>col7</th>\n      <th>col8</th>\n      <th>col9</th>\n    </tr>\n  </thead>\n  <tbody>\n    <tr>\n      <th>row0</th>\n      <td>0</td>\n      <td>1</td>\n      <td>2</td>\n      <td>3</td>\n      <td>4</td>\n      <td>5</td>\n      <td>6</td>\n      <td>7</td>\n      <td>8</td>\n      <td>9</td>\n    </tr>\n    <tr>\n      <th>row2</th>\n      <td>20</td>\n      <td>21</td>\n      <td>22</td>\n      <td>23</td>\n      <td>24</td>\n      <td>25</td>\n      <td>26</td>\n      <td>27</td>\n      <td>28</td>\n      <td>29</td>\n    </tr>\n    <tr>\n      <th>row4</th>\n      <td>40</td>\n      <td>41</td>\n      <td>42</td>\n      <td>43</td>\n      <td>44</td>\n      <td>45</td>\n      <td>46</td>\n      <td>47</td>\n      <td>48</td>\n      <td>49</td>\n    </tr>\n    <tr>\n      <th>row6</th>\n      <td>60</td>\n      <td>61</td>\n      <td>62</td>\n      <td>63</td>\n      <td>64</td>\n      <td>65</td>\n      <td>66</td>\n      <td>67</td>\n      <td>68</td>\n      <td>69</td>\n    </tr>\n    <tr>\n      <th>row8</th>\n      <td>80</td>\n      <td>81</td>\n      <td>82</td>\n      <td>83</td>\n      <td>84</td>\n      <td>85</td>\n      <td>86</td>\n      <td>87</td>\n      <td>88</td>\n      <td>89</td>\n    </tr>\n  </tbody>\n</table>\n</div>"
     },
     "metadata": {},
     "execution_count": 90
    }
   ],
   "source": [
    "data[0::2]"
   ]
  },
  {
   "cell_type": "code",
   "execution_count": 94,
   "metadata": {},
   "outputs": [
    {
     "output_type": "execute_result",
     "data": {
      "text/plain": [
       "      col0  col1  col2  col3  col4  col5  col6  col7  col8  col9\n",
       "row0     0     1     2     3     4     5     6     7     8     9\n",
       "row1    10    11    12    13    14    15    16    17    18    19\n",
       "row2    20    21    22    23    24    25    26    27    28    29\n",
       "row3    30    31    32    33    34    35    36    37    38    39\n",
       "row4    40    41    42    43    44    45    46    47    48    49"
      ],
      "text/html": "<div>\n<style scoped>\n    .dataframe tbody tr th:only-of-type {\n        vertical-align: middle;\n    }\n\n    .dataframe tbody tr th {\n        vertical-align: top;\n    }\n\n    .dataframe thead th {\n        text-align: right;\n    }\n</style>\n<table border=\"1\" class=\"dataframe\">\n  <thead>\n    <tr style=\"text-align: right;\">\n      <th></th>\n      <th>col0</th>\n      <th>col1</th>\n      <th>col2</th>\n      <th>col3</th>\n      <th>col4</th>\n      <th>col5</th>\n      <th>col6</th>\n      <th>col7</th>\n      <th>col8</th>\n      <th>col9</th>\n    </tr>\n  </thead>\n  <tbody>\n    <tr>\n      <th>row0</th>\n      <td>0</td>\n      <td>1</td>\n      <td>2</td>\n      <td>3</td>\n      <td>4</td>\n      <td>5</td>\n      <td>6</td>\n      <td>7</td>\n      <td>8</td>\n      <td>9</td>\n    </tr>\n    <tr>\n      <th>row1</th>\n      <td>10</td>\n      <td>11</td>\n      <td>12</td>\n      <td>13</td>\n      <td>14</td>\n      <td>15</td>\n      <td>16</td>\n      <td>17</td>\n      <td>18</td>\n      <td>19</td>\n    </tr>\n    <tr>\n      <th>row2</th>\n      <td>20</td>\n      <td>21</td>\n      <td>22</td>\n      <td>23</td>\n      <td>24</td>\n      <td>25</td>\n      <td>26</td>\n      <td>27</td>\n      <td>28</td>\n      <td>29</td>\n    </tr>\n    <tr>\n      <th>row3</th>\n      <td>30</td>\n      <td>31</td>\n      <td>32</td>\n      <td>33</td>\n      <td>34</td>\n      <td>35</td>\n      <td>36</td>\n      <td>37</td>\n      <td>38</td>\n      <td>39</td>\n    </tr>\n    <tr>\n      <th>row4</th>\n      <td>40</td>\n      <td>41</td>\n      <td>42</td>\n      <td>43</td>\n      <td>44</td>\n      <td>45</td>\n      <td>46</td>\n      <td>47</td>\n      <td>48</td>\n      <td>49</td>\n    </tr>\n  </tbody>\n</table>\n</div>"
     },
     "metadata": {},
     "execution_count": 94
    }
   ],
   "source": [
    "data.head()"
   ]
  },
  {
   "cell_type": "code",
   "execution_count": 96,
   "metadata": {},
   "outputs": [
    {
     "output_type": "execute_result",
     "data": {
      "text/plain": [
       "99"
      ]
     },
     "metadata": {},
     "execution_count": 96
    }
   ],
   "source": [
    "data.iat[9,9]"
   ]
  },
  {
   "cell_type": "code",
   "execution_count": 97,
   "metadata": {},
   "outputs": [
    {
     "output_type": "execute_result",
     "data": {
      "text/plain": [
       "      col0  col1  col2  col3  col4  col5  col6  col7  col8  col9\n",
       "row0     0     1     2     3     4     5     6     7     8     9\n",
       "row1    10    11    12    13    14    15    16    17    18    19\n",
       "row2    20    21    22    23    24    25    26    27    28    29\n",
       "row3    30    31    32    33    34    35    36    37    38    39\n",
       "row4    40    41    42    43    44    45    46    47    48    49\n",
       "row5    50    51    52    53    54    55    56    57    58    59\n",
       "row6    60    61    62    63    64    65    66    67    68    69\n",
       "row7    70    71    72    73    74    75    76    77    78    79\n",
       "row8    80    81    82    83    84    85    86    87    88    89\n",
       "row9    90    91    92    93    94    95    96    97    98    99"
      ],
      "text/html": "<div>\n<style scoped>\n    .dataframe tbody tr th:only-of-type {\n        vertical-align: middle;\n    }\n\n    .dataframe tbody tr th {\n        vertical-align: top;\n    }\n\n    .dataframe thead th {\n        text-align: right;\n    }\n</style>\n<table border=\"1\" class=\"dataframe\">\n  <thead>\n    <tr style=\"text-align: right;\">\n      <th></th>\n      <th>col0</th>\n      <th>col1</th>\n      <th>col2</th>\n      <th>col3</th>\n      <th>col4</th>\n      <th>col5</th>\n      <th>col6</th>\n      <th>col7</th>\n      <th>col8</th>\n      <th>col9</th>\n    </tr>\n  </thead>\n  <tbody>\n    <tr>\n      <th>row0</th>\n      <td>0</td>\n      <td>1</td>\n      <td>2</td>\n      <td>3</td>\n      <td>4</td>\n      <td>5</td>\n      <td>6</td>\n      <td>7</td>\n      <td>8</td>\n      <td>9</td>\n    </tr>\n    <tr>\n      <th>row1</th>\n      <td>10</td>\n      <td>11</td>\n      <td>12</td>\n      <td>13</td>\n      <td>14</td>\n      <td>15</td>\n      <td>16</td>\n      <td>17</td>\n      <td>18</td>\n      <td>19</td>\n    </tr>\n    <tr>\n      <th>row2</th>\n      <td>20</td>\n      <td>21</td>\n      <td>22</td>\n      <td>23</td>\n      <td>24</td>\n      <td>25</td>\n      <td>26</td>\n      <td>27</td>\n      <td>28</td>\n      <td>29</td>\n    </tr>\n    <tr>\n      <th>row3</th>\n      <td>30</td>\n      <td>31</td>\n      <td>32</td>\n      <td>33</td>\n      <td>34</td>\n      <td>35</td>\n      <td>36</td>\n      <td>37</td>\n      <td>38</td>\n      <td>39</td>\n    </tr>\n    <tr>\n      <th>row4</th>\n      <td>40</td>\n      <td>41</td>\n      <td>42</td>\n      <td>43</td>\n      <td>44</td>\n      <td>45</td>\n      <td>46</td>\n      <td>47</td>\n      <td>48</td>\n      <td>49</td>\n    </tr>\n    <tr>\n      <th>row5</th>\n      <td>50</td>\n      <td>51</td>\n      <td>52</td>\n      <td>53</td>\n      <td>54</td>\n      <td>55</td>\n      <td>56</td>\n      <td>57</td>\n      <td>58</td>\n      <td>59</td>\n    </tr>\n    <tr>\n      <th>row6</th>\n      <td>60</td>\n      <td>61</td>\n      <td>62</td>\n      <td>63</td>\n      <td>64</td>\n      <td>65</td>\n      <td>66</td>\n      <td>67</td>\n      <td>68</td>\n      <td>69</td>\n    </tr>\n    <tr>\n      <th>row7</th>\n      <td>70</td>\n      <td>71</td>\n      <td>72</td>\n      <td>73</td>\n      <td>74</td>\n      <td>75</td>\n      <td>76</td>\n      <td>77</td>\n      <td>78</td>\n      <td>79</td>\n    </tr>\n    <tr>\n      <th>row8</th>\n      <td>80</td>\n      <td>81</td>\n      <td>82</td>\n      <td>83</td>\n      <td>84</td>\n      <td>85</td>\n      <td>86</td>\n      <td>87</td>\n      <td>88</td>\n      <td>89</td>\n    </tr>\n    <tr>\n      <th>row9</th>\n      <td>90</td>\n      <td>91</td>\n      <td>92</td>\n      <td>93</td>\n      <td>94</td>\n      <td>95</td>\n      <td>96</td>\n      <td>97</td>\n      <td>98</td>\n      <td>99</td>\n    </tr>\n  </tbody>\n</table>\n</div>"
     },
     "metadata": {},
     "execution_count": 97
    }
   ],
   "source": [
    "data.iloc[::,::]"
   ]
  },
  {
   "cell_type": "code",
   "execution_count": 98,
   "metadata": {},
   "outputs": [
    {
     "output_type": "execute_result",
     "data": {
      "text/plain": [
       "      col0  col2  col4  col6  col8\n",
       "row0     0     2     4     6     8\n",
       "row2    20    22    24    26    28\n",
       "row4    40    42    44    46    48\n",
       "row6    60    62    64    66    68\n",
       "row8    80    82    84    86    88"
      ],
      "text/html": "<div>\n<style scoped>\n    .dataframe tbody tr th:only-of-type {\n        vertical-align: middle;\n    }\n\n    .dataframe tbody tr th {\n        vertical-align: top;\n    }\n\n    .dataframe thead th {\n        text-align: right;\n    }\n</style>\n<table border=\"1\" class=\"dataframe\">\n  <thead>\n    <tr style=\"text-align: right;\">\n      <th></th>\n      <th>col0</th>\n      <th>col2</th>\n      <th>col4</th>\n      <th>col6</th>\n      <th>col8</th>\n    </tr>\n  </thead>\n  <tbody>\n    <tr>\n      <th>row0</th>\n      <td>0</td>\n      <td>2</td>\n      <td>4</td>\n      <td>6</td>\n      <td>8</td>\n    </tr>\n    <tr>\n      <th>row2</th>\n      <td>20</td>\n      <td>22</td>\n      <td>24</td>\n      <td>26</td>\n      <td>28</td>\n    </tr>\n    <tr>\n      <th>row4</th>\n      <td>40</td>\n      <td>42</td>\n      <td>44</td>\n      <td>46</td>\n      <td>48</td>\n    </tr>\n    <tr>\n      <th>row6</th>\n      <td>60</td>\n      <td>62</td>\n      <td>64</td>\n      <td>66</td>\n      <td>68</td>\n    </tr>\n    <tr>\n      <th>row8</th>\n      <td>80</td>\n      <td>82</td>\n      <td>84</td>\n      <td>86</td>\n      <td>88</td>\n    </tr>\n  </tbody>\n</table>\n</div>"
     },
     "metadata": {},
     "execution_count": 98
    }
   ],
   "source": [
    "data.iloc[::2,0::2]"
   ]
  },
  {
   "cell_type": "code",
   "execution_count": 103,
   "metadata": {},
   "outputs": [
    {
     "output_type": "stream",
     "name": "stdout",
     "text": [
      "Help on method xs in module pandas.core.generic:\n\nxs(key, axis=0, level=None, drop_level: 'bool_t' = True) method of pandas.core.frame.DataFrame instance\n    Return cross-section from the Series/DataFrame.\n    \n    This method takes a `key` argument to select data at a particular\n    level of a MultiIndex.\n    \n    Parameters\n    ----------\n    key : label or tuple of label\n        Label contained in the index, or partially in a MultiIndex.\n    axis : {0 or 'index', 1 or 'columns'}, default 0\n        Axis to retrieve cross-section on.\n    level : object, defaults to first n levels (n=1 or len(key))\n        In case of a key partially contained in a MultiIndex, indicate\n        which levels are used. Levels can be referred by label or position.\n    drop_level : bool, default True\n        If False, returns object with same levels as self.\n    \n    Returns\n    -------\n    Series or DataFrame\n        Cross-section from the original Series or DataFrame\n        corresponding to the selected index levels.\n    \n    See Also\n    --------\n    DataFrame.loc : Access a group of rows and columns\n        by label(s) or a boolean array.\n    DataFrame.iloc : Purely integer-location based indexing\n        for selection by position.\n    \n    Notes\n    -----\n    `xs` can not be used to set values.\n    \n    MultiIndex Slicers is a generic way to get/set values on\n    any level or levels.\n    It is a superset of `xs` functionality, see\n    :ref:`MultiIndex Slicers <advanced.mi_slicers>`.\n    \n    Examples\n    --------\n    >>> d = {'num_legs': [4, 4, 2, 2],\n    ...      'num_wings': [0, 0, 2, 2],\n    ...      'class': ['mammal', 'mammal', 'mammal', 'bird'],\n    ...      'animal': ['cat', 'dog', 'bat', 'penguin'],\n    ...      'locomotion': ['walks', 'walks', 'flies', 'walks']}\n    >>> df = pd.DataFrame(data=d)\n    >>> df = df.set_index(['class', 'animal', 'locomotion'])\n    >>> df\n                               num_legs  num_wings\n    class  animal  locomotion\n    mammal cat     walks              4          0\n           dog     walks              4          0\n           bat     flies              2          2\n    bird   penguin walks              2          2\n    \n    Get values at specified index\n    \n    >>> df.xs('mammal')\n                       num_legs  num_wings\n    animal locomotion\n    cat    walks              4          0\n    dog    walks              4          0\n    bat    flies              2          2\n    \n    Get values at several indexes\n    \n    >>> df.xs(('mammal', 'dog'))\n                num_legs  num_wings\n    locomotion\n    walks              4          0\n    \n    Get values at specified index and level\n    \n    >>> df.xs('cat', level=1)\n                       num_legs  num_wings\n    class  locomotion\n    mammal walks              4          0\n    \n    Get values at several indexes and levels\n    \n    >>> df.xs(('bird', 'walks'),\n    ...       level=[0, 'locomotion'])\n             num_legs  num_wings\n    animal\n    penguin         2          2\n    \n    Get values at specified column and axis\n    \n    >>> df.xs('num_wings', axis=1)\n    class   animal   locomotion\n    mammal  cat      walks         0\n            dog      walks         0\n            bat      flies         2\n    bird    penguin  walks         2\n    Name: num_wings, dtype: int64\n\n"
     ]
    }
   ],
   "source": [
    "help(data.xs)"
   ]
  },
  {
   "cell_type": "code",
   "execution_count": 107,
   "metadata": {},
   "outputs": [
    {
     "output_type": "execute_result",
     "data": {
      "text/plain": [
       "col0    10\n",
       "col1    11\n",
       "col2    12\n",
       "col3    13\n",
       "col4    14\n",
       "col5    15\n",
       "col6    16\n",
       "col7    17\n",
       "col8    18\n",
       "col9    19\n",
       "Name: row1, dtype: int32"
      ]
     },
     "metadata": {},
     "execution_count": 107
    }
   ],
   "source": [
    "data.xs(('row1'))"
   ]
  },
  {
   "cell_type": "code",
   "execution_count": 105,
   "metadata": {},
   "outputs": [
    {
     "output_type": "execute_result",
     "data": {
      "text/plain": [
       "col0    10\n",
       "col1    11\n",
       "col2    12\n",
       "col3    13\n",
       "col4    14\n",
       "col5    15\n",
       "col6    16\n",
       "col7    17\n",
       "col8    18\n",
       "col9    19\n",
       "Name: row1, dtype: int32"
      ]
     },
     "metadata": {},
     "execution_count": 105
    }
   ],
   "source": [
    "data.xs('row1')"
   ]
  },
  {
   "cell_type": "code",
   "execution_count": 111,
   "metadata": {},
   "outputs": [
    {
     "output_type": "stream",
     "name": "stderr",
     "text": [
      "C:\\Users\\Heman\\AppData\\Local\\Programs\\Python\\Python39\\lib\\site-packages\\pandas\\plotting\\_matplotlib\\tools.py:400: MatplotlibDeprecationWarning: \nThe is_first_col function was deprecated in Matplotlib 3.4 and will be removed two minor releases later. Use ax.get_subplotspec().is_first_col() instead.\n  if ax.is_first_col():\n"
     ]
    },
    {
     "output_type": "execute_result",
     "data": {
      "text/plain": [
       "array([[<AxesSubplot:title={'center':'col0'}>,\n",
       "        <AxesSubplot:title={'center':'col1'}>,\n",
       "        <AxesSubplot:title={'center':'col2'}>],\n",
       "       [<AxesSubplot:title={'center':'col3'}>,\n",
       "        <AxesSubplot:title={'center':'col4'}>,\n",
       "        <AxesSubplot:title={'center':'col5'}>],\n",
       "       [<AxesSubplot:title={'center':'col6'}>,\n",
       "        <AxesSubplot:title={'center':'col7'}>,\n",
       "        <AxesSubplot:title={'center':'col8'}>],\n",
       "       [<AxesSubplot:title={'center':'col9'}>, <AxesSubplot:>,\n",
       "        <AxesSubplot:>]], dtype=object)"
      ]
     },
     "metadata": {},
     "execution_count": 111
    },
    {
     "output_type": "display_data",
     "data": {
      "text/plain": "<Figure size 432x288 with 12 Axes>",
      "image/svg+xml": "<?xml version=\"1.0\" encoding=\"utf-8\" standalone=\"no\"?>\r\n<!DOCTYPE svg PUBLIC \"-//W3C//DTD SVG 1.1//EN\"\r\n  \"http://www.w3.org/Graphics/SVG/1.1/DTD/svg11.dtd\">\r\n<svg height=\"263.63625pt\" version=\"1.1\" viewBox=\"0 0 369.757765 263.63625\" width=\"369.757765pt\" xmlns=\"http://www.w3.org/2000/svg\" xmlns:xlink=\"http://www.w3.org/1999/xlink\">\r\n <metadata>\r\n  <rdf:RDF xmlns:cc=\"http://creativecommons.org/ns#\" xmlns:dc=\"http://purl.org/dc/elements/1.1/\" xmlns:rdf=\"http://www.w3.org/1999/02/22-rdf-syntax-ns#\">\r\n   <cc:Work>\r\n    <dc:type rdf:resource=\"http://purl.org/dc/dcmitype/StillImage\"/>\r\n    <dc:date>2021-04-20T17:27:49.968347</dc:date>\r\n    <dc:format>image/svg+xml</dc:format>\r\n    <dc:creator>\r\n     <cc:Agent>\r\n      <dc:title>Matplotlib v3.4.1, https://matplotlib.org/</dc:title>\r\n     </cc:Agent>\r\n    </dc:creator>\r\n   </cc:Work>\r\n  </rdf:RDF>\r\n </metadata>\r\n <defs>\r\n  <style type=\"text/css\">*{stroke-linecap:butt;stroke-linejoin:round;}</style>\r\n </defs>\r\n <g id=\"figure_1\">\r\n  <g id=\"patch_1\">\r\n   <path d=\"M 0 263.63625 \r\nL 369.757765 263.63625 \r\nL 369.757765 0 \r\nL 0 0 \r\nz\r\n\" style=\"fill:none;\"/>\r\n  </g>\r\n  <g id=\"axes_1\">\r\n   <g id=\"patch_2\">\r\n    <path d=\"M 20.5625 66.693635 \r\nL 113.5625 66.693635 \r\nL 113.5625 22.318125 \r\nL 20.5625 22.318125 \r\nz\r\n\" style=\"fill:#ffffff;\"/>\r\n   </g>\r\n   <g id=\"patch_3\">\r\n    <path clip-path=\"url(#p8ee5059c99)\" d=\"M 24.789773 66.693635 \r\nL 33.244318 66.693635 \r\nL 33.244318 24.431245 \r\nL 24.789773 24.431245 \r\nz\r\n\" style=\"fill:#1f77b4;\"/>\r\n   </g>\r\n   <g id=\"patch_4\">\r\n    <path clip-path=\"url(#p8ee5059c99)\" d=\"M 33.244318 66.693635 \r\nL 41.698864 66.693635 \r\nL 41.698864 24.431245 \r\nL 33.244318 24.431245 \r\nz\r\n\" style=\"fill:#1f77b4;\"/>\r\n   </g>\r\n   <g id=\"patch_5\">\r\n    <path clip-path=\"url(#p8ee5059c99)\" d=\"M 41.698864 66.693635 \r\nL 50.153409 66.693635 \r\nL 50.153409 24.431245 \r\nL 41.698864 24.431245 \r\nz\r\n\" style=\"fill:#1f77b4;\"/>\r\n   </g>\r\n   <g id=\"patch_6\">\r\n    <path clip-path=\"url(#p8ee5059c99)\" d=\"M 50.153409 66.693635 \r\nL 58.607955 66.693635 \r\nL 58.607955 24.431245 \r\nL 50.153409 24.431245 \r\nz\r\n\" style=\"fill:#1f77b4;\"/>\r\n   </g>\r\n   <g id=\"patch_7\">\r\n    <path clip-path=\"url(#p8ee5059c99)\" d=\"M 58.607955 66.693635 \r\nL 67.0625 66.693635 \r\nL 67.0625 24.431245 \r\nL 58.607955 24.431245 \r\nz\r\n\" style=\"fill:#1f77b4;\"/>\r\n   </g>\r\n   <g id=\"patch_8\">\r\n    <path clip-path=\"url(#p8ee5059c99)\" d=\"M 67.0625 66.693635 \r\nL 75.517045 66.693635 \r\nL 75.517045 24.431245 \r\nL 67.0625 24.431245 \r\nz\r\n\" style=\"fill:#1f77b4;\"/>\r\n   </g>\r\n   <g id=\"patch_9\">\r\n    <path clip-path=\"url(#p8ee5059c99)\" d=\"M 75.517045 66.693635 \r\nL 83.971591 66.693635 \r\nL 83.971591 24.431245 \r\nL 75.517045 24.431245 \r\nz\r\n\" style=\"fill:#1f77b4;\"/>\r\n   </g>\r\n   <g id=\"patch_10\">\r\n    <path clip-path=\"url(#p8ee5059c99)\" d=\"M 83.971591 66.693635 \r\nL 92.426136 66.693635 \r\nL 92.426136 24.431245 \r\nL 83.971591 24.431245 \r\nz\r\n\" style=\"fill:#1f77b4;\"/>\r\n   </g>\r\n   <g id=\"patch_11\">\r\n    <path clip-path=\"url(#p8ee5059c99)\" d=\"M 92.426136 66.693635 \r\nL 100.880682 66.693635 \r\nL 100.880682 24.431245 \r\nL 92.426136 24.431245 \r\nz\r\n\" style=\"fill:#1f77b4;\"/>\r\n   </g>\r\n   <g id=\"patch_12\">\r\n    <path clip-path=\"url(#p8ee5059c99)\" d=\"M 100.880682 66.693635 \r\nL 109.335227 66.693635 \r\nL 109.335227 24.431245 \r\nL 100.880682 24.431245 \r\nz\r\n\" style=\"fill:#1f77b4;\"/>\r\n   </g>\r\n   <g id=\"matplotlib.axis_1\">\r\n    <g id=\"xtick_1\">\r\n     <g id=\"line2d_1\">\r\n      <path clip-path=\"url(#p8ee5059c99)\" d=\"M 24.789773 66.693635 \r\nL 24.789773 22.318125 \r\n\" style=\"fill:none;stroke:#b0b0b0;stroke-linecap:square;stroke-width:0.8;\"/>\r\n     </g>\r\n     <g id=\"line2d_2\">\r\n      <defs>\r\n       <path d=\"M 0 0 \r\nL 0 3.5 \r\n\" id=\"m5675cb51ae\" style=\"stroke:#000000;stroke-width:0.8;\"/>\r\n      </defs>\r\n      <g>\r\n       <use style=\"stroke:#000000;stroke-width:0.8;\" x=\"24.789773\" xlink:href=\"#m5675cb51ae\" y=\"66.693635\"/>\r\n      </g>\r\n     </g>\r\n     <g id=\"text_1\">\r\n      <!-- 0 -->\r\n      <g transform=\"translate(21.608523 81.292073)scale(0.1 -0.1)\">\r\n       <defs>\r\n        <path d=\"M 2034 4250 \r\nQ 1547 4250 1301 3770 \r\nQ 1056 3291 1056 2328 \r\nQ 1056 1369 1301 889 \r\nQ 1547 409 2034 409 \r\nQ 2525 409 2770 889 \r\nQ 3016 1369 3016 2328 \r\nQ 3016 3291 2770 3770 \r\nQ 2525 4250 2034 4250 \r\nz\r\nM 2034 4750 \r\nQ 2819 4750 3233 4129 \r\nQ 3647 3509 3647 2328 \r\nQ 3647 1150 3233 529 \r\nQ 2819 -91 2034 -91 \r\nQ 1250 -91 836 529 \r\nQ 422 1150 422 2328 \r\nQ 422 3509 836 4129 \r\nQ 1250 4750 2034 4750 \r\nz\r\n\" id=\"DejaVuSans-30\" transform=\"scale(0.015625)\"/>\r\n       </defs>\r\n       <use xlink:href=\"#DejaVuSans-30\"/>\r\n      </g>\r\n     </g>\r\n    </g>\r\n    <g id=\"xtick_2\">\r\n     <g id=\"line2d_3\">\r\n      <path clip-path=\"url(#p8ee5059c99)\" d=\"M 71.75947 66.693635 \r\nL 71.75947 22.318125 \r\n\" style=\"fill:none;stroke:#b0b0b0;stroke-linecap:square;stroke-width:0.8;\"/>\r\n     </g>\r\n     <g id=\"line2d_4\">\r\n      <g>\r\n       <use style=\"stroke:#000000;stroke-width:0.8;\" x=\"71.75947\" xlink:href=\"#m5675cb51ae\" y=\"66.693635\"/>\r\n      </g>\r\n     </g>\r\n     <g id=\"text_2\">\r\n      <!-- 50 -->\r\n      <g transform=\"translate(65.39697 81.292073)scale(0.1 -0.1)\">\r\n       <defs>\r\n        <path d=\"M 691 4666 \r\nL 3169 4666 \r\nL 3169 4134 \r\nL 1269 4134 \r\nL 1269 2991 \r\nQ 1406 3038 1543 3061 \r\nQ 1681 3084 1819 3084 \r\nQ 2600 3084 3056 2656 \r\nQ 3513 2228 3513 1497 \r\nQ 3513 744 3044 326 \r\nQ 2575 -91 1722 -91 \r\nQ 1428 -91 1123 -41 \r\nQ 819 9 494 109 \r\nL 494 744 \r\nQ 775 591 1075 516 \r\nQ 1375 441 1709 441 \r\nQ 2250 441 2565 725 \r\nQ 2881 1009 2881 1497 \r\nQ 2881 1984 2565 2268 \r\nQ 2250 2553 1709 2553 \r\nQ 1456 2553 1204 2497 \r\nQ 953 2441 691 2322 \r\nL 691 4666 \r\nz\r\n\" id=\"DejaVuSans-35\" transform=\"scale(0.015625)\"/>\r\n       </defs>\r\n       <use xlink:href=\"#DejaVuSans-35\"/>\r\n       <use x=\"63.623047\" xlink:href=\"#DejaVuSans-30\"/>\r\n      </g>\r\n     </g>\r\n    </g>\r\n   </g>\r\n   <g id=\"matplotlib.axis_2\">\r\n    <g id=\"ytick_1\">\r\n     <g id=\"line2d_5\">\r\n      <path clip-path=\"url(#p8ee5059c99)\" d=\"M 20.5625 66.693635 \r\nL 113.5625 66.693635 \r\n\" style=\"fill:none;stroke:#b0b0b0;stroke-linecap:square;stroke-width:0.8;\"/>\r\n     </g>\r\n     <g id=\"line2d_6\">\r\n      <defs>\r\n       <path d=\"M 0 0 \r\nL -3.5 0 \r\n\" id=\"m6e81fd6ea6\" style=\"stroke:#000000;stroke-width:0.8;\"/>\r\n      </defs>\r\n      <g>\r\n       <use style=\"stroke:#000000;stroke-width:0.8;\" x=\"20.5625\" xlink:href=\"#m6e81fd6ea6\" y=\"66.693635\"/>\r\n      </g>\r\n     </g>\r\n     <g id=\"text_3\">\r\n      <!-- 0 -->\r\n      <g transform=\"translate(7.2 70.492854)scale(0.1 -0.1)\">\r\n       <use xlink:href=\"#DejaVuSans-30\"/>\r\n      </g>\r\n     </g>\r\n    </g>\r\n    <g id=\"ytick_2\">\r\n     <g id=\"line2d_7\">\r\n      <path clip-path=\"url(#p8ee5059c99)\" d=\"M 20.5625 24.431245 \r\nL 113.5625 24.431245 \r\n\" style=\"fill:none;stroke:#b0b0b0;stroke-linecap:square;stroke-width:0.8;\"/>\r\n     </g>\r\n     <g id=\"line2d_8\">\r\n      <g>\r\n       <use style=\"stroke:#000000;stroke-width:0.8;\" x=\"20.5625\" xlink:href=\"#m6e81fd6ea6\" y=\"24.431245\"/>\r\n      </g>\r\n     </g>\r\n     <g id=\"text_4\">\r\n      <!-- 1 -->\r\n      <g transform=\"translate(7.2 28.230463)scale(0.1 -0.1)\">\r\n       <defs>\r\n        <path d=\"M 794 531 \r\nL 1825 531 \r\nL 1825 4091 \r\nL 703 3866 \r\nL 703 4441 \r\nL 1819 4666 \r\nL 2450 4666 \r\nL 2450 531 \r\nL 3481 531 \r\nL 3481 0 \r\nL 794 0 \r\nL 794 531 \r\nz\r\n\" id=\"DejaVuSans-31\" transform=\"scale(0.015625)\"/>\r\n       </defs>\r\n       <use xlink:href=\"#DejaVuSans-31\"/>\r\n      </g>\r\n     </g>\r\n    </g>\r\n   </g>\r\n   <g id=\"patch_13\">\r\n    <path d=\"M 20.5625 66.693635 \r\nL 20.5625 22.318125 \r\n\" style=\"fill:none;stroke:#000000;stroke-linecap:square;stroke-linejoin:miter;stroke-width:0.8;\"/>\r\n   </g>\r\n   <g id=\"patch_14\">\r\n    <path d=\"M 113.5625 66.693635 \r\nL 113.5625 22.318125 \r\n\" style=\"fill:none;stroke:#000000;stroke-linecap:square;stroke-linejoin:miter;stroke-width:0.8;\"/>\r\n   </g>\r\n   <g id=\"patch_15\">\r\n    <path d=\"M 20.5625 66.693635 \r\nL 113.5625 66.693635 \r\n\" style=\"fill:none;stroke:#000000;stroke-linecap:square;stroke-linejoin:miter;stroke-width:0.8;\"/>\r\n   </g>\r\n   <g id=\"patch_16\">\r\n    <path d=\"M 20.5625 22.318125 \r\nL 113.5625 22.318125 \r\n\" style=\"fill:none;stroke:#000000;stroke-linecap:square;stroke-linejoin:miter;stroke-width:0.8;\"/>\r\n   </g>\r\n   <g id=\"text_5\">\r\n    <!-- col0 -->\r\n    <g transform=\"translate(54.607813 16.318125)scale(0.12 -0.12)\">\r\n     <defs>\r\n      <path d=\"M 3122 3366 \r\nL 3122 2828 \r\nQ 2878 2963 2633 3030 \r\nQ 2388 3097 2138 3097 \r\nQ 1578 3097 1268 2742 \r\nQ 959 2388 959 1747 \r\nQ 959 1106 1268 751 \r\nQ 1578 397 2138 397 \r\nQ 2388 397 2633 464 \r\nQ 2878 531 3122 666 \r\nL 3122 134 \r\nQ 2881 22 2623 -34 \r\nQ 2366 -91 2075 -91 \r\nQ 1284 -91 818 406 \r\nQ 353 903 353 1747 \r\nQ 353 2603 823 3093 \r\nQ 1294 3584 2113 3584 \r\nQ 2378 3584 2631 3529 \r\nQ 2884 3475 3122 3366 \r\nz\r\n\" id=\"DejaVuSans-63\" transform=\"scale(0.015625)\"/>\r\n      <path d=\"M 1959 3097 \r\nQ 1497 3097 1228 2736 \r\nQ 959 2375 959 1747 \r\nQ 959 1119 1226 758 \r\nQ 1494 397 1959 397 \r\nQ 2419 397 2687 759 \r\nQ 2956 1122 2956 1747 \r\nQ 2956 2369 2687 2733 \r\nQ 2419 3097 1959 3097 \r\nz\r\nM 1959 3584 \r\nQ 2709 3584 3137 3096 \r\nQ 3566 2609 3566 1747 \r\nQ 3566 888 3137 398 \r\nQ 2709 -91 1959 -91 \r\nQ 1206 -91 779 398 \r\nQ 353 888 353 1747 \r\nQ 353 2609 779 3096 \r\nQ 1206 3584 1959 3584 \r\nz\r\n\" id=\"DejaVuSans-6f\" transform=\"scale(0.015625)\"/>\r\n      <path d=\"M 603 4863 \r\nL 1178 4863 \r\nL 1178 0 \r\nL 603 0 \r\nL 603 4863 \r\nz\r\n\" id=\"DejaVuSans-6c\" transform=\"scale(0.015625)\"/>\r\n     </defs>\r\n     <use xlink:href=\"#DejaVuSans-63\"/>\r\n     <use x=\"54.980469\" xlink:href=\"#DejaVuSans-6f\"/>\r\n     <use x=\"116.162109\" xlink:href=\"#DejaVuSans-6c\"/>\r\n     <use x=\"143.945312\" xlink:href=\"#DejaVuSans-30\"/>\r\n    </g>\r\n   </g>\r\n  </g>\r\n  <g id=\"axes_2\">\r\n   <g id=\"patch_17\">\r\n    <path d=\"M 141.4625 66.693635 \r\nL 234.4625 66.693635 \r\nL 234.4625 22.318125 \r\nL 141.4625 22.318125 \r\nz\r\n\" style=\"fill:#ffffff;\"/>\r\n   </g>\r\n   <g id=\"patch_18\">\r\n    <path clip-path=\"url(#p1c4a2434f8)\" d=\"M 145.689773 66.693635 \r\nL 154.144318 66.693635 \r\nL 154.144318 24.431245 \r\nL 145.689773 24.431245 \r\nz\r\n\" style=\"fill:#1f77b4;\"/>\r\n   </g>\r\n   <g id=\"patch_19\">\r\n    <path clip-path=\"url(#p1c4a2434f8)\" d=\"M 154.144318 66.693635 \r\nL 162.598864 66.693635 \r\nL 162.598864 24.431245 \r\nL 154.144318 24.431245 \r\nz\r\n\" style=\"fill:#1f77b4;\"/>\r\n   </g>\r\n   <g id=\"patch_20\">\r\n    <path clip-path=\"url(#p1c4a2434f8)\" d=\"M 162.598864 66.693635 \r\nL 171.053409 66.693635 \r\nL 171.053409 24.431245 \r\nL 162.598864 24.431245 \r\nz\r\n\" style=\"fill:#1f77b4;\"/>\r\n   </g>\r\n   <g id=\"patch_21\">\r\n    <path clip-path=\"url(#p1c4a2434f8)\" d=\"M 171.053409 66.693635 \r\nL 179.507955 66.693635 \r\nL 179.507955 24.431245 \r\nL 171.053409 24.431245 \r\nz\r\n\" style=\"fill:#1f77b4;\"/>\r\n   </g>\r\n   <g id=\"patch_22\">\r\n    <path clip-path=\"url(#p1c4a2434f8)\" d=\"M 179.507955 66.693635 \r\nL 187.9625 66.693635 \r\nL 187.9625 24.431245 \r\nL 179.507955 24.431245 \r\nz\r\n\" style=\"fill:#1f77b4;\"/>\r\n   </g>\r\n   <g id=\"patch_23\">\r\n    <path clip-path=\"url(#p1c4a2434f8)\" d=\"M 187.9625 66.693635 \r\nL 196.417045 66.693635 \r\nL 196.417045 24.431245 \r\nL 187.9625 24.431245 \r\nz\r\n\" style=\"fill:#1f77b4;\"/>\r\n   </g>\r\n   <g id=\"patch_24\">\r\n    <path clip-path=\"url(#p1c4a2434f8)\" d=\"M 196.417045 66.693635 \r\nL 204.871591 66.693635 \r\nL 204.871591 24.431245 \r\nL 196.417045 24.431245 \r\nz\r\n\" style=\"fill:#1f77b4;\"/>\r\n   </g>\r\n   <g id=\"patch_25\">\r\n    <path clip-path=\"url(#p1c4a2434f8)\" d=\"M 204.871591 66.693635 \r\nL 213.326136 66.693635 \r\nL 213.326136 24.431245 \r\nL 204.871591 24.431245 \r\nz\r\n\" style=\"fill:#1f77b4;\"/>\r\n   </g>\r\n   <g id=\"patch_26\">\r\n    <path clip-path=\"url(#p1c4a2434f8)\" d=\"M 213.326136 66.693635 \r\nL 221.780682 66.693635 \r\nL 221.780682 24.431245 \r\nL 213.326136 24.431245 \r\nz\r\n\" style=\"fill:#1f77b4;\"/>\r\n   </g>\r\n   <g id=\"patch_27\">\r\n    <path clip-path=\"url(#p1c4a2434f8)\" d=\"M 221.780682 66.693635 \r\nL 230.235227 66.693635 \r\nL 230.235227 24.431245 \r\nL 221.780682 24.431245 \r\nz\r\n\" style=\"fill:#1f77b4;\"/>\r\n   </g>\r\n   <g id=\"matplotlib.axis_3\">\r\n    <g id=\"xtick_3\">\r\n     <g id=\"line2d_9\">\r\n      <path clip-path=\"url(#p1c4a2434f8)\" d=\"M 144.750379 66.693635 \r\nL 144.750379 22.318125 \r\n\" style=\"fill:none;stroke:#b0b0b0;stroke-linecap:square;stroke-width:0.8;\"/>\r\n     </g>\r\n     <g id=\"line2d_10\">\r\n      <g>\r\n       <use style=\"stroke:#000000;stroke-width:0.8;\" x=\"144.750379\" xlink:href=\"#m5675cb51ae\" y=\"66.693635\"/>\r\n      </g>\r\n     </g>\r\n     <g id=\"text_6\">\r\n      <!-- 0 -->\r\n      <g transform=\"translate(141.569129 81.292073)scale(0.1 -0.1)\">\r\n       <use xlink:href=\"#DejaVuSans-30\"/>\r\n      </g>\r\n     </g>\r\n    </g>\r\n    <g id=\"xtick_4\">\r\n     <g id=\"line2d_11\">\r\n      <path clip-path=\"url(#p1c4a2434f8)\" d=\"M 191.720076 66.693635 \r\nL 191.720076 22.318125 \r\n\" style=\"fill:none;stroke:#b0b0b0;stroke-linecap:square;stroke-width:0.8;\"/>\r\n     </g>\r\n     <g id=\"line2d_12\">\r\n      <g>\r\n       <use style=\"stroke:#000000;stroke-width:0.8;\" x=\"191.720076\" xlink:href=\"#m5675cb51ae\" y=\"66.693635\"/>\r\n      </g>\r\n     </g>\r\n     <g id=\"text_7\">\r\n      <!-- 50 -->\r\n      <g transform=\"translate(185.357576 81.292073)scale(0.1 -0.1)\">\r\n       <use xlink:href=\"#DejaVuSans-35\"/>\r\n       <use x=\"63.623047\" xlink:href=\"#DejaVuSans-30\"/>\r\n      </g>\r\n     </g>\r\n    </g>\r\n   </g>\r\n   <g id=\"matplotlib.axis_4\">\r\n    <g id=\"ytick_3\">\r\n     <g id=\"line2d_13\">\r\n      <path clip-path=\"url(#p1c4a2434f8)\" d=\"M 141.4625 66.693635 \r\nL 234.4625 66.693635 \r\n\" style=\"fill:none;stroke:#b0b0b0;stroke-linecap:square;stroke-width:0.8;\"/>\r\n     </g>\r\n     <g id=\"line2d_14\">\r\n      <g>\r\n       <use style=\"stroke:#000000;stroke-width:0.8;\" x=\"141.4625\" xlink:href=\"#m6e81fd6ea6\" y=\"66.693635\"/>\r\n      </g>\r\n     </g>\r\n     <g id=\"text_8\">\r\n      <!-- 0 -->\r\n      <g transform=\"translate(128.1 70.492854)scale(0.1 -0.1)\">\r\n       <use xlink:href=\"#DejaVuSans-30\"/>\r\n      </g>\r\n     </g>\r\n    </g>\r\n    <g id=\"ytick_4\">\r\n     <g id=\"line2d_15\">\r\n      <path clip-path=\"url(#p1c4a2434f8)\" d=\"M 141.4625 24.431245 \r\nL 234.4625 24.431245 \r\n\" style=\"fill:none;stroke:#b0b0b0;stroke-linecap:square;stroke-width:0.8;\"/>\r\n     </g>\r\n     <g id=\"line2d_16\">\r\n      <g>\r\n       <use style=\"stroke:#000000;stroke-width:0.8;\" x=\"141.4625\" xlink:href=\"#m6e81fd6ea6\" y=\"24.431245\"/>\r\n      </g>\r\n     </g>\r\n     <g id=\"text_9\">\r\n      <!-- 1 -->\r\n      <g transform=\"translate(128.1 28.230463)scale(0.1 -0.1)\">\r\n       <use xlink:href=\"#DejaVuSans-31\"/>\r\n      </g>\r\n     </g>\r\n    </g>\r\n   </g>\r\n   <g id=\"patch_28\">\r\n    <path d=\"M 141.4625 66.693635 \r\nL 141.4625 22.318125 \r\n\" style=\"fill:none;stroke:#000000;stroke-linecap:square;stroke-linejoin:miter;stroke-width:0.8;\"/>\r\n   </g>\r\n   <g id=\"patch_29\">\r\n    <path d=\"M 234.4625 66.693635 \r\nL 234.4625 22.318125 \r\n\" style=\"fill:none;stroke:#000000;stroke-linecap:square;stroke-linejoin:miter;stroke-width:0.8;\"/>\r\n   </g>\r\n   <g id=\"patch_30\">\r\n    <path d=\"M 141.4625 66.693635 \r\nL 234.4625 66.693635 \r\n\" style=\"fill:none;stroke:#000000;stroke-linecap:square;stroke-linejoin:miter;stroke-width:0.8;\"/>\r\n   </g>\r\n   <g id=\"patch_31\">\r\n    <path d=\"M 141.4625 22.318125 \r\nL 234.4625 22.318125 \r\n\" style=\"fill:none;stroke:#000000;stroke-linecap:square;stroke-linejoin:miter;stroke-width:0.8;\"/>\r\n   </g>\r\n   <g id=\"text_10\">\r\n    <!-- col1 -->\r\n    <g transform=\"translate(175.507813 16.318125)scale(0.12 -0.12)\">\r\n     <use xlink:href=\"#DejaVuSans-63\"/>\r\n     <use x=\"54.980469\" xlink:href=\"#DejaVuSans-6f\"/>\r\n     <use x=\"116.162109\" xlink:href=\"#DejaVuSans-6c\"/>\r\n     <use x=\"143.945312\" xlink:href=\"#DejaVuSans-31\"/>\r\n    </g>\r\n   </g>\r\n  </g>\r\n  <g id=\"axes_3\">\r\n   <g id=\"patch_32\">\r\n    <path d=\"M 262.3625 66.693635 \r\nL 355.3625 66.693635 \r\nL 355.3625 22.318125 \r\nL 262.3625 22.318125 \r\nz\r\n\" style=\"fill:#ffffff;\"/>\r\n   </g>\r\n   <g id=\"patch_33\">\r\n    <path clip-path=\"url(#pd740bc0cc9)\" d=\"M 266.589773 66.693635 \r\nL 275.044318 66.693635 \r\nL 275.044318 24.431245 \r\nL 266.589773 24.431245 \r\nz\r\n\" style=\"fill:#1f77b4;\"/>\r\n   </g>\r\n   <g id=\"patch_34\">\r\n    <path clip-path=\"url(#pd740bc0cc9)\" d=\"M 275.044318 66.693635 \r\nL 283.498864 66.693635 \r\nL 283.498864 24.431245 \r\nL 275.044318 24.431245 \r\nz\r\n\" style=\"fill:#1f77b4;\"/>\r\n   </g>\r\n   <g id=\"patch_35\">\r\n    <path clip-path=\"url(#pd740bc0cc9)\" d=\"M 283.498864 66.693635 \r\nL 291.953409 66.693635 \r\nL 291.953409 24.431245 \r\nL 283.498864 24.431245 \r\nz\r\n\" style=\"fill:#1f77b4;\"/>\r\n   </g>\r\n   <g id=\"patch_36\">\r\n    <path clip-path=\"url(#pd740bc0cc9)\" d=\"M 291.953409 66.693635 \r\nL 300.407955 66.693635 \r\nL 300.407955 24.431245 \r\nL 291.953409 24.431245 \r\nz\r\n\" style=\"fill:#1f77b4;\"/>\r\n   </g>\r\n   <g id=\"patch_37\">\r\n    <path clip-path=\"url(#pd740bc0cc9)\" d=\"M 300.407955 66.693635 \r\nL 308.8625 66.693635 \r\nL 308.8625 24.431245 \r\nL 300.407955 24.431245 \r\nz\r\n\" style=\"fill:#1f77b4;\"/>\r\n   </g>\r\n   <g id=\"patch_38\">\r\n    <path clip-path=\"url(#pd740bc0cc9)\" d=\"M 308.8625 66.693635 \r\nL 317.317045 66.693635 \r\nL 317.317045 24.431245 \r\nL 308.8625 24.431245 \r\nz\r\n\" style=\"fill:#1f77b4;\"/>\r\n   </g>\r\n   <g id=\"patch_39\">\r\n    <path clip-path=\"url(#pd740bc0cc9)\" d=\"M 317.317045 66.693635 \r\nL 325.771591 66.693635 \r\nL 325.771591 24.431245 \r\nL 317.317045 24.431245 \r\nz\r\n\" style=\"fill:#1f77b4;\"/>\r\n   </g>\r\n   <g id=\"patch_40\">\r\n    <path clip-path=\"url(#pd740bc0cc9)\" d=\"M 325.771591 66.693635 \r\nL 334.226136 66.693635 \r\nL 334.226136 24.431245 \r\nL 325.771591 24.431245 \r\nz\r\n\" style=\"fill:#1f77b4;\"/>\r\n   </g>\r\n   <g id=\"patch_41\">\r\n    <path clip-path=\"url(#pd740bc0cc9)\" d=\"M 334.226136 66.693635 \r\nL 342.680682 66.693635 \r\nL 342.680682 24.431245 \r\nL 334.226136 24.431245 \r\nz\r\n\" style=\"fill:#1f77b4;\"/>\r\n   </g>\r\n   <g id=\"patch_42\">\r\n    <path clip-path=\"url(#pd740bc0cc9)\" d=\"M 342.680682 66.693635 \r\nL 351.135227 66.693635 \r\nL 351.135227 24.431245 \r\nL 342.680682 24.431245 \r\nz\r\n\" style=\"fill:#1f77b4;\"/>\r\n   </g>\r\n   <g id=\"matplotlib.axis_5\">\r\n    <g id=\"xtick_5\">\r\n     <g id=\"line2d_17\">\r\n      <path clip-path=\"url(#pd740bc0cc9)\" d=\"M 264.710985 66.693635 \r\nL 264.710985 22.318125 \r\n\" style=\"fill:none;stroke:#b0b0b0;stroke-linecap:square;stroke-width:0.8;\"/>\r\n     </g>\r\n     <g id=\"line2d_18\">\r\n      <g>\r\n       <use style=\"stroke:#000000;stroke-width:0.8;\" x=\"264.710985\" xlink:href=\"#m5675cb51ae\" y=\"66.693635\"/>\r\n      </g>\r\n     </g>\r\n     <g id=\"text_11\">\r\n      <!-- 0 -->\r\n      <g transform=\"translate(261.529735 81.292073)scale(0.1 -0.1)\">\r\n       <use xlink:href=\"#DejaVuSans-30\"/>\r\n      </g>\r\n     </g>\r\n    </g>\r\n    <g id=\"xtick_6\">\r\n     <g id=\"line2d_19\">\r\n      <path clip-path=\"url(#pd740bc0cc9)\" d=\"M 311.680682 66.693635 \r\nL 311.680682 22.318125 \r\n\" style=\"fill:none;stroke:#b0b0b0;stroke-linecap:square;stroke-width:0.8;\"/>\r\n     </g>\r\n     <g id=\"line2d_20\">\r\n      <g>\r\n       <use style=\"stroke:#000000;stroke-width:0.8;\" x=\"311.680682\" xlink:href=\"#m5675cb51ae\" y=\"66.693635\"/>\r\n      </g>\r\n     </g>\r\n     <g id=\"text_12\">\r\n      <!-- 50 -->\r\n      <g transform=\"translate(305.318182 81.292073)scale(0.1 -0.1)\">\r\n       <use xlink:href=\"#DejaVuSans-35\"/>\r\n       <use x=\"63.623047\" xlink:href=\"#DejaVuSans-30\"/>\r\n      </g>\r\n     </g>\r\n    </g>\r\n   </g>\r\n   <g id=\"matplotlib.axis_6\">\r\n    <g id=\"ytick_5\">\r\n     <g id=\"line2d_21\">\r\n      <path clip-path=\"url(#pd740bc0cc9)\" d=\"M 262.3625 66.693635 \r\nL 355.3625 66.693635 \r\n\" style=\"fill:none;stroke:#b0b0b0;stroke-linecap:square;stroke-width:0.8;\"/>\r\n     </g>\r\n     <g id=\"line2d_22\">\r\n      <g>\r\n       <use style=\"stroke:#000000;stroke-width:0.8;\" x=\"262.3625\" xlink:href=\"#m6e81fd6ea6\" y=\"66.693635\"/>\r\n      </g>\r\n     </g>\r\n     <g id=\"text_13\">\r\n      <!-- 0 -->\r\n      <g transform=\"translate(249 70.492854)scale(0.1 -0.1)\">\r\n       <use xlink:href=\"#DejaVuSans-30\"/>\r\n      </g>\r\n     </g>\r\n    </g>\r\n    <g id=\"ytick_6\">\r\n     <g id=\"line2d_23\">\r\n      <path clip-path=\"url(#pd740bc0cc9)\" d=\"M 262.3625 24.431245 \r\nL 355.3625 24.431245 \r\n\" style=\"fill:none;stroke:#b0b0b0;stroke-linecap:square;stroke-width:0.8;\"/>\r\n     </g>\r\n     <g id=\"line2d_24\">\r\n      <g>\r\n       <use style=\"stroke:#000000;stroke-width:0.8;\" x=\"262.3625\" xlink:href=\"#m6e81fd6ea6\" y=\"24.431245\"/>\r\n      </g>\r\n     </g>\r\n     <g id=\"text_14\">\r\n      <!-- 1 -->\r\n      <g transform=\"translate(249 28.230463)scale(0.1 -0.1)\">\r\n       <use xlink:href=\"#DejaVuSans-31\"/>\r\n      </g>\r\n     </g>\r\n    </g>\r\n   </g>\r\n   <g id=\"patch_43\">\r\n    <path d=\"M 262.3625 66.693635 \r\nL 262.3625 22.318125 \r\n\" style=\"fill:none;stroke:#000000;stroke-linecap:square;stroke-linejoin:miter;stroke-width:0.8;\"/>\r\n   </g>\r\n   <g id=\"patch_44\">\r\n    <path d=\"M 355.3625 66.693635 \r\nL 355.3625 22.318125 \r\n\" style=\"fill:none;stroke:#000000;stroke-linecap:square;stroke-linejoin:miter;stroke-width:0.8;\"/>\r\n   </g>\r\n   <g id=\"patch_45\">\r\n    <path d=\"M 262.3625 66.693635 \r\nL 355.3625 66.693635 \r\n\" style=\"fill:none;stroke:#000000;stroke-linecap:square;stroke-linejoin:miter;stroke-width:0.8;\"/>\r\n   </g>\r\n   <g id=\"patch_46\">\r\n    <path d=\"M 262.3625 22.318125 \r\nL 355.3625 22.318125 \r\n\" style=\"fill:none;stroke:#000000;stroke-linecap:square;stroke-linejoin:miter;stroke-width:0.8;\"/>\r\n   </g>\r\n   <g id=\"text_15\">\r\n    <!-- col2 -->\r\n    <g transform=\"translate(296.407813 16.318125)scale(0.12 -0.12)\">\r\n     <defs>\r\n      <path d=\"M 1228 531 \r\nL 3431 531 \r\nL 3431 0 \r\nL 469 0 \r\nL 469 531 \r\nQ 828 903 1448 1529 \r\nQ 2069 2156 2228 2338 \r\nQ 2531 2678 2651 2914 \r\nQ 2772 3150 2772 3378 \r\nQ 2772 3750 2511 3984 \r\nQ 2250 4219 1831 4219 \r\nQ 1534 4219 1204 4116 \r\nQ 875 4013 500 3803 \r\nL 500 4441 \r\nQ 881 4594 1212 4672 \r\nQ 1544 4750 1819 4750 \r\nQ 2544 4750 2975 4387 \r\nQ 3406 4025 3406 3419 \r\nQ 3406 3131 3298 2873 \r\nQ 3191 2616 2906 2266 \r\nQ 2828 2175 2409 1742 \r\nQ 1991 1309 1228 531 \r\nz\r\n\" id=\"DejaVuSans-32\" transform=\"scale(0.015625)\"/>\r\n     </defs>\r\n     <use xlink:href=\"#DejaVuSans-63\"/>\r\n     <use x=\"54.980469\" xlink:href=\"#DejaVuSans-6f\"/>\r\n     <use x=\"116.162109\" xlink:href=\"#DejaVuSans-6c\"/>\r\n     <use x=\"143.945312\" xlink:href=\"#DejaVuSans-32\"/>\r\n    </g>\r\n   </g>\r\n  </g>\r\n  <g id=\"axes_4\">\r\n   <g id=\"patch_47\">\r\n    <path d=\"M 20.5625 124.381798 \r\nL 113.5625 124.381798 \r\nL 113.5625 80.006288 \r\nL 20.5625 80.006288 \r\nz\r\n\" style=\"fill:#ffffff;\"/>\r\n   </g>\r\n   <g id=\"patch_48\">\r\n    <path clip-path=\"url(#p1f98bf351d)\" d=\"M 24.789773 124.381798 \r\nL 33.244318 124.381798 \r\nL 33.244318 82.119408 \r\nL 24.789773 82.119408 \r\nz\r\n\" style=\"fill:#1f77b4;\"/>\r\n   </g>\r\n   <g id=\"patch_49\">\r\n    <path clip-path=\"url(#p1f98bf351d)\" d=\"M 33.244318 124.381798 \r\nL 41.698864 124.381798 \r\nL 41.698864 82.119408 \r\nL 33.244318 82.119408 \r\nz\r\n\" style=\"fill:#1f77b4;\"/>\r\n   </g>\r\n   <g id=\"patch_50\">\r\n    <path clip-path=\"url(#p1f98bf351d)\" d=\"M 41.698864 124.381798 \r\nL 50.153409 124.381798 \r\nL 50.153409 82.119408 \r\nL 41.698864 82.119408 \r\nz\r\n\" style=\"fill:#1f77b4;\"/>\r\n   </g>\r\n   <g id=\"patch_51\">\r\n    <path clip-path=\"url(#p1f98bf351d)\" d=\"M 50.153409 124.381798 \r\nL 58.607955 124.381798 \r\nL 58.607955 82.119408 \r\nL 50.153409 82.119408 \r\nz\r\n\" style=\"fill:#1f77b4;\"/>\r\n   </g>\r\n   <g id=\"patch_52\">\r\n    <path clip-path=\"url(#p1f98bf351d)\" d=\"M 58.607955 124.381798 \r\nL 67.0625 124.381798 \r\nL 67.0625 82.119408 \r\nL 58.607955 82.119408 \r\nz\r\n\" style=\"fill:#1f77b4;\"/>\r\n   </g>\r\n   <g id=\"patch_53\">\r\n    <path clip-path=\"url(#p1f98bf351d)\" d=\"M 67.0625 124.381798 \r\nL 75.517045 124.381798 \r\nL 75.517045 82.119408 \r\nL 67.0625 82.119408 \r\nz\r\n\" style=\"fill:#1f77b4;\"/>\r\n   </g>\r\n   <g id=\"patch_54\">\r\n    <path clip-path=\"url(#p1f98bf351d)\" d=\"M 75.517045 124.381798 \r\nL 83.971591 124.381798 \r\nL 83.971591 82.119408 \r\nL 75.517045 82.119408 \r\nz\r\n\" style=\"fill:#1f77b4;\"/>\r\n   </g>\r\n   <g id=\"patch_55\">\r\n    <path clip-path=\"url(#p1f98bf351d)\" d=\"M 83.971591 124.381798 \r\nL 92.426136 124.381798 \r\nL 92.426136 82.119408 \r\nL 83.971591 82.119408 \r\nz\r\n\" style=\"fill:#1f77b4;\"/>\r\n   </g>\r\n   <g id=\"patch_56\">\r\n    <path clip-path=\"url(#p1f98bf351d)\" d=\"M 92.426136 124.381798 \r\nL 100.880682 124.381798 \r\nL 100.880682 82.119408 \r\nL 92.426136 82.119408 \r\nz\r\n\" style=\"fill:#1f77b4;\"/>\r\n   </g>\r\n   <g id=\"patch_57\">\r\n    <path clip-path=\"url(#p1f98bf351d)\" d=\"M 100.880682 124.381798 \r\nL 109.335227 124.381798 \r\nL 109.335227 82.119408 \r\nL 100.880682 82.119408 \r\nz\r\n\" style=\"fill:#1f77b4;\"/>\r\n   </g>\r\n   <g id=\"matplotlib.axis_7\">\r\n    <g id=\"xtick_7\">\r\n     <g id=\"line2d_25\">\r\n      <path clip-path=\"url(#p1f98bf351d)\" d=\"M 21.971591 124.381798 \r\nL 21.971591 80.006288 \r\n\" style=\"fill:none;stroke:#b0b0b0;stroke-linecap:square;stroke-width:0.8;\"/>\r\n     </g>\r\n     <g id=\"line2d_26\">\r\n      <g>\r\n       <use style=\"stroke:#000000;stroke-width:0.8;\" x=\"21.971591\" xlink:href=\"#m5675cb51ae\" y=\"124.381798\"/>\r\n      </g>\r\n     </g>\r\n     <g id=\"text_16\">\r\n      <!-- 0 -->\r\n      <g transform=\"translate(18.790341 138.980236)scale(0.1 -0.1)\">\r\n       <use xlink:href=\"#DejaVuSans-30\"/>\r\n      </g>\r\n     </g>\r\n    </g>\r\n    <g id=\"xtick_8\">\r\n     <g id=\"line2d_27\">\r\n      <path clip-path=\"url(#p1f98bf351d)\" d=\"M 68.941288 124.381798 \r\nL 68.941288 80.006288 \r\n\" style=\"fill:none;stroke:#b0b0b0;stroke-linecap:square;stroke-width:0.8;\"/>\r\n     </g>\r\n     <g id=\"line2d_28\">\r\n      <g>\r\n       <use style=\"stroke:#000000;stroke-width:0.8;\" x=\"68.941288\" xlink:href=\"#m5675cb51ae\" y=\"124.381798\"/>\r\n      </g>\r\n     </g>\r\n     <g id=\"text_17\">\r\n      <!-- 50 -->\r\n      <g transform=\"translate(62.578788 138.980236)scale(0.1 -0.1)\">\r\n       <use xlink:href=\"#DejaVuSans-35\"/>\r\n       <use x=\"63.623047\" xlink:href=\"#DejaVuSans-30\"/>\r\n      </g>\r\n     </g>\r\n    </g>\r\n   </g>\r\n   <g id=\"matplotlib.axis_8\">\r\n    <g id=\"ytick_7\">\r\n     <g id=\"line2d_29\">\r\n      <path clip-path=\"url(#p1f98bf351d)\" d=\"M 20.5625 124.381798 \r\nL 113.5625 124.381798 \r\n\" style=\"fill:none;stroke:#b0b0b0;stroke-linecap:square;stroke-width:0.8;\"/>\r\n     </g>\r\n     <g id=\"line2d_30\">\r\n      <g>\r\n       <use style=\"stroke:#000000;stroke-width:0.8;\" x=\"20.5625\" xlink:href=\"#m6e81fd6ea6\" y=\"124.381798\"/>\r\n      </g>\r\n     </g>\r\n     <g id=\"text_18\">\r\n      <!-- 0 -->\r\n      <g transform=\"translate(7.2 128.181017)scale(0.1 -0.1)\">\r\n       <use xlink:href=\"#DejaVuSans-30\"/>\r\n      </g>\r\n     </g>\r\n    </g>\r\n    <g id=\"ytick_8\">\r\n     <g id=\"line2d_31\">\r\n      <path clip-path=\"url(#p1f98bf351d)\" d=\"M 20.5625 82.119408 \r\nL 113.5625 82.119408 \r\n\" style=\"fill:none;stroke:#b0b0b0;stroke-linecap:square;stroke-width:0.8;\"/>\r\n     </g>\r\n     <g id=\"line2d_32\">\r\n      <g>\r\n       <use style=\"stroke:#000000;stroke-width:0.8;\" x=\"20.5625\" xlink:href=\"#m6e81fd6ea6\" y=\"82.119408\"/>\r\n      </g>\r\n     </g>\r\n     <g id=\"text_19\">\r\n      <!-- 1 -->\r\n      <g transform=\"translate(7.2 85.918627)scale(0.1 -0.1)\">\r\n       <use xlink:href=\"#DejaVuSans-31\"/>\r\n      </g>\r\n     </g>\r\n    </g>\r\n   </g>\r\n   <g id=\"patch_58\">\r\n    <path d=\"M 20.5625 124.381798 \r\nL 20.5625 80.006288 \r\n\" style=\"fill:none;stroke:#000000;stroke-linecap:square;stroke-linejoin:miter;stroke-width:0.8;\"/>\r\n   </g>\r\n   <g id=\"patch_59\">\r\n    <path d=\"M 113.5625 124.381798 \r\nL 113.5625 80.006288 \r\n\" style=\"fill:none;stroke:#000000;stroke-linecap:square;stroke-linejoin:miter;stroke-width:0.8;\"/>\r\n   </g>\r\n   <g id=\"patch_60\">\r\n    <path d=\"M 20.5625 124.381798 \r\nL 113.5625 124.381798 \r\n\" style=\"fill:none;stroke:#000000;stroke-linecap:square;stroke-linejoin:miter;stroke-width:0.8;\"/>\r\n   </g>\r\n   <g id=\"patch_61\">\r\n    <path d=\"M 20.5625 80.006288 \r\nL 113.5625 80.006288 \r\n\" style=\"fill:none;stroke:#000000;stroke-linecap:square;stroke-linejoin:miter;stroke-width:0.8;\"/>\r\n   </g>\r\n   <g id=\"text_20\">\r\n    <!-- col3 -->\r\n    <g transform=\"translate(54.607813 74.006288)scale(0.12 -0.12)\">\r\n     <defs>\r\n      <path d=\"M 2597 2516 \r\nQ 3050 2419 3304 2112 \r\nQ 3559 1806 3559 1356 \r\nQ 3559 666 3084 287 \r\nQ 2609 -91 1734 -91 \r\nQ 1441 -91 1130 -33 \r\nQ 819 25 488 141 \r\nL 488 750 \r\nQ 750 597 1062 519 \r\nQ 1375 441 1716 441 \r\nQ 2309 441 2620 675 \r\nQ 2931 909 2931 1356 \r\nQ 2931 1769 2642 2001 \r\nQ 2353 2234 1838 2234 \r\nL 1294 2234 \r\nL 1294 2753 \r\nL 1863 2753 \r\nQ 2328 2753 2575 2939 \r\nQ 2822 3125 2822 3475 \r\nQ 2822 3834 2567 4026 \r\nQ 2313 4219 1838 4219 \r\nQ 1578 4219 1281 4162 \r\nQ 984 4106 628 3988 \r\nL 628 4550 \r\nQ 988 4650 1302 4700 \r\nQ 1616 4750 1894 4750 \r\nQ 2613 4750 3031 4423 \r\nQ 3450 4097 3450 3541 \r\nQ 3450 3153 3228 2886 \r\nQ 3006 2619 2597 2516 \r\nz\r\n\" id=\"DejaVuSans-33\" transform=\"scale(0.015625)\"/>\r\n     </defs>\r\n     <use xlink:href=\"#DejaVuSans-63\"/>\r\n     <use x=\"54.980469\" xlink:href=\"#DejaVuSans-6f\"/>\r\n     <use x=\"116.162109\" xlink:href=\"#DejaVuSans-6c\"/>\r\n     <use x=\"143.945312\" xlink:href=\"#DejaVuSans-33\"/>\r\n    </g>\r\n   </g>\r\n  </g>\r\n  <g id=\"axes_5\">\r\n   <g id=\"patch_62\">\r\n    <path d=\"M 141.4625 124.381798 \r\nL 234.4625 124.381798 \r\nL 234.4625 80.006288 \r\nL 141.4625 80.006288 \r\nz\r\n\" style=\"fill:#ffffff;\"/>\r\n   </g>\r\n   <g id=\"patch_63\">\r\n    <path clip-path=\"url(#p9314424ea0)\" d=\"M 145.689773 124.381798 \r\nL 154.144318 124.381798 \r\nL 154.144318 82.119408 \r\nL 145.689773 82.119408 \r\nz\r\n\" style=\"fill:#1f77b4;\"/>\r\n   </g>\r\n   <g id=\"patch_64\">\r\n    <path clip-path=\"url(#p9314424ea0)\" d=\"M 154.144318 124.381798 \r\nL 162.598864 124.381798 \r\nL 162.598864 82.119408 \r\nL 154.144318 82.119408 \r\nz\r\n\" style=\"fill:#1f77b4;\"/>\r\n   </g>\r\n   <g id=\"patch_65\">\r\n    <path clip-path=\"url(#p9314424ea0)\" d=\"M 162.598864 124.381798 \r\nL 171.053409 124.381798 \r\nL 171.053409 82.119408 \r\nL 162.598864 82.119408 \r\nz\r\n\" style=\"fill:#1f77b4;\"/>\r\n   </g>\r\n   <g id=\"patch_66\">\r\n    <path clip-path=\"url(#p9314424ea0)\" d=\"M 171.053409 124.381798 \r\nL 179.507955 124.381798 \r\nL 179.507955 82.119408 \r\nL 171.053409 82.119408 \r\nz\r\n\" style=\"fill:#1f77b4;\"/>\r\n   </g>\r\n   <g id=\"patch_67\">\r\n    <path clip-path=\"url(#p9314424ea0)\" d=\"M 179.507955 124.381798 \r\nL 187.9625 124.381798 \r\nL 187.9625 82.119408 \r\nL 179.507955 82.119408 \r\nz\r\n\" style=\"fill:#1f77b4;\"/>\r\n   </g>\r\n   <g id=\"patch_68\">\r\n    <path clip-path=\"url(#p9314424ea0)\" d=\"M 187.9625 124.381798 \r\nL 196.417045 124.381798 \r\nL 196.417045 82.119408 \r\nL 187.9625 82.119408 \r\nz\r\n\" style=\"fill:#1f77b4;\"/>\r\n   </g>\r\n   <g id=\"patch_69\">\r\n    <path clip-path=\"url(#p9314424ea0)\" d=\"M 196.417045 124.381798 \r\nL 204.871591 124.381798 \r\nL 204.871591 82.119408 \r\nL 196.417045 82.119408 \r\nz\r\n\" style=\"fill:#1f77b4;\"/>\r\n   </g>\r\n   <g id=\"patch_70\">\r\n    <path clip-path=\"url(#p9314424ea0)\" d=\"M 204.871591 124.381798 \r\nL 213.326136 124.381798 \r\nL 213.326136 82.119408 \r\nL 204.871591 82.119408 \r\nz\r\n\" style=\"fill:#1f77b4;\"/>\r\n   </g>\r\n   <g id=\"patch_71\">\r\n    <path clip-path=\"url(#p9314424ea0)\" d=\"M 213.326136 124.381798 \r\nL 221.780682 124.381798 \r\nL 221.780682 82.119408 \r\nL 213.326136 82.119408 \r\nz\r\n\" style=\"fill:#1f77b4;\"/>\r\n   </g>\r\n   <g id=\"patch_72\">\r\n    <path clip-path=\"url(#p9314424ea0)\" d=\"M 221.780682 124.381798 \r\nL 230.235227 124.381798 \r\nL 230.235227 82.119408 \r\nL 221.780682 82.119408 \r\nz\r\n\" style=\"fill:#1f77b4;\"/>\r\n   </g>\r\n   <g id=\"matplotlib.axis_9\">\r\n    <g id=\"xtick_9\">\r\n     <g id=\"line2d_33\">\r\n      <path clip-path=\"url(#p9314424ea0)\" d=\"M 141.932197 124.381798 \r\nL 141.932197 80.006288 \r\n\" style=\"fill:none;stroke:#b0b0b0;stroke-linecap:square;stroke-width:0.8;\"/>\r\n     </g>\r\n     <g id=\"line2d_34\">\r\n      <g>\r\n       <use style=\"stroke:#000000;stroke-width:0.8;\" x=\"141.932197\" xlink:href=\"#m5675cb51ae\" y=\"124.381798\"/>\r\n      </g>\r\n     </g>\r\n     <g id=\"text_21\">\r\n      <!-- 0 -->\r\n      <g transform=\"translate(138.750947 138.980236)scale(0.1 -0.1)\">\r\n       <use xlink:href=\"#DejaVuSans-30\"/>\r\n      </g>\r\n     </g>\r\n    </g>\r\n    <g id=\"xtick_10\">\r\n     <g id=\"line2d_35\">\r\n      <path clip-path=\"url(#p9314424ea0)\" d=\"M 188.901894 124.381798 \r\nL 188.901894 80.006288 \r\n\" style=\"fill:none;stroke:#b0b0b0;stroke-linecap:square;stroke-width:0.8;\"/>\r\n     </g>\r\n     <g id=\"line2d_36\">\r\n      <g>\r\n       <use style=\"stroke:#000000;stroke-width:0.8;\" x=\"188.901894\" xlink:href=\"#m5675cb51ae\" y=\"124.381798\"/>\r\n      </g>\r\n     </g>\r\n     <g id=\"text_22\">\r\n      <!-- 50 -->\r\n      <g transform=\"translate(182.539394 138.980236)scale(0.1 -0.1)\">\r\n       <use xlink:href=\"#DejaVuSans-35\"/>\r\n       <use x=\"63.623047\" xlink:href=\"#DejaVuSans-30\"/>\r\n      </g>\r\n     </g>\r\n    </g>\r\n   </g>\r\n   <g id=\"matplotlib.axis_10\">\r\n    <g id=\"ytick_9\">\r\n     <g id=\"line2d_37\">\r\n      <path clip-path=\"url(#p9314424ea0)\" d=\"M 141.4625 124.381798 \r\nL 234.4625 124.381798 \r\n\" style=\"fill:none;stroke:#b0b0b0;stroke-linecap:square;stroke-width:0.8;\"/>\r\n     </g>\r\n     <g id=\"line2d_38\">\r\n      <g>\r\n       <use style=\"stroke:#000000;stroke-width:0.8;\" x=\"141.4625\" xlink:href=\"#m6e81fd6ea6\" y=\"124.381798\"/>\r\n      </g>\r\n     </g>\r\n     <g id=\"text_23\">\r\n      <!-- 0 -->\r\n      <g transform=\"translate(128.1 128.181017)scale(0.1 -0.1)\">\r\n       <use xlink:href=\"#DejaVuSans-30\"/>\r\n      </g>\r\n     </g>\r\n    </g>\r\n    <g id=\"ytick_10\">\r\n     <g id=\"line2d_39\">\r\n      <path clip-path=\"url(#p9314424ea0)\" d=\"M 141.4625 82.119408 \r\nL 234.4625 82.119408 \r\n\" style=\"fill:none;stroke:#b0b0b0;stroke-linecap:square;stroke-width:0.8;\"/>\r\n     </g>\r\n     <g id=\"line2d_40\">\r\n      <g>\r\n       <use style=\"stroke:#000000;stroke-width:0.8;\" x=\"141.4625\" xlink:href=\"#m6e81fd6ea6\" y=\"82.119408\"/>\r\n      </g>\r\n     </g>\r\n     <g id=\"text_24\">\r\n      <!-- 1 -->\r\n      <g transform=\"translate(128.1 85.918627)scale(0.1 -0.1)\">\r\n       <use xlink:href=\"#DejaVuSans-31\"/>\r\n      </g>\r\n     </g>\r\n    </g>\r\n   </g>\r\n   <g id=\"patch_73\">\r\n    <path d=\"M 141.4625 124.381798 \r\nL 141.4625 80.006288 \r\n\" style=\"fill:none;stroke:#000000;stroke-linecap:square;stroke-linejoin:miter;stroke-width:0.8;\"/>\r\n   </g>\r\n   <g id=\"patch_74\">\r\n    <path d=\"M 234.4625 124.381798 \r\nL 234.4625 80.006288 \r\n\" style=\"fill:none;stroke:#000000;stroke-linecap:square;stroke-linejoin:miter;stroke-width:0.8;\"/>\r\n   </g>\r\n   <g id=\"patch_75\">\r\n    <path d=\"M 141.4625 124.381798 \r\nL 234.4625 124.381798 \r\n\" style=\"fill:none;stroke:#000000;stroke-linecap:square;stroke-linejoin:miter;stroke-width:0.8;\"/>\r\n   </g>\r\n   <g id=\"patch_76\">\r\n    <path d=\"M 141.4625 80.006288 \r\nL 234.4625 80.006288 \r\n\" style=\"fill:none;stroke:#000000;stroke-linecap:square;stroke-linejoin:miter;stroke-width:0.8;\"/>\r\n   </g>\r\n   <g id=\"text_25\">\r\n    <!-- col4 -->\r\n    <g transform=\"translate(175.507813 74.006288)scale(0.12 -0.12)\">\r\n     <defs>\r\n      <path d=\"M 2419 4116 \r\nL 825 1625 \r\nL 2419 1625 \r\nL 2419 4116 \r\nz\r\nM 2253 4666 \r\nL 3047 4666 \r\nL 3047 1625 \r\nL 3713 1625 \r\nL 3713 1100 \r\nL 3047 1100 \r\nL 3047 0 \r\nL 2419 0 \r\nL 2419 1100 \r\nL 313 1100 \r\nL 313 1709 \r\nL 2253 4666 \r\nz\r\n\" id=\"DejaVuSans-34\" transform=\"scale(0.015625)\"/>\r\n     </defs>\r\n     <use xlink:href=\"#DejaVuSans-63\"/>\r\n     <use x=\"54.980469\" xlink:href=\"#DejaVuSans-6f\"/>\r\n     <use x=\"116.162109\" xlink:href=\"#DejaVuSans-6c\"/>\r\n     <use x=\"143.945312\" xlink:href=\"#DejaVuSans-34\"/>\r\n    </g>\r\n   </g>\r\n  </g>\r\n  <g id=\"axes_6\">\r\n   <g id=\"patch_77\">\r\n    <path d=\"M 262.3625 124.381798 \r\nL 355.3625 124.381798 \r\nL 355.3625 80.006288 \r\nL 262.3625 80.006288 \r\nz\r\n\" style=\"fill:#ffffff;\"/>\r\n   </g>\r\n   <g id=\"patch_78\">\r\n    <path clip-path=\"url(#p9929f946f9)\" d=\"M 266.589773 124.381798 \r\nL 275.044318 124.381798 \r\nL 275.044318 82.119408 \r\nL 266.589773 82.119408 \r\nz\r\n\" style=\"fill:#1f77b4;\"/>\r\n   </g>\r\n   <g id=\"patch_79\">\r\n    <path clip-path=\"url(#p9929f946f9)\" d=\"M 275.044318 124.381798 \r\nL 283.498864 124.381798 \r\nL 283.498864 82.119408 \r\nL 275.044318 82.119408 \r\nz\r\n\" style=\"fill:#1f77b4;\"/>\r\n   </g>\r\n   <g id=\"patch_80\">\r\n    <path clip-path=\"url(#p9929f946f9)\" d=\"M 283.498864 124.381798 \r\nL 291.953409 124.381798 \r\nL 291.953409 82.119408 \r\nL 283.498864 82.119408 \r\nz\r\n\" style=\"fill:#1f77b4;\"/>\r\n   </g>\r\n   <g id=\"patch_81\">\r\n    <path clip-path=\"url(#p9929f946f9)\" d=\"M 291.953409 124.381798 \r\nL 300.407955 124.381798 \r\nL 300.407955 82.119408 \r\nL 291.953409 82.119408 \r\nz\r\n\" style=\"fill:#1f77b4;\"/>\r\n   </g>\r\n   <g id=\"patch_82\">\r\n    <path clip-path=\"url(#p9929f946f9)\" d=\"M 300.407955 124.381798 \r\nL 308.8625 124.381798 \r\nL 308.8625 82.119408 \r\nL 300.407955 82.119408 \r\nz\r\n\" style=\"fill:#1f77b4;\"/>\r\n   </g>\r\n   <g id=\"patch_83\">\r\n    <path clip-path=\"url(#p9929f946f9)\" d=\"M 308.8625 124.381798 \r\nL 317.317045 124.381798 \r\nL 317.317045 82.119408 \r\nL 308.8625 82.119408 \r\nz\r\n\" style=\"fill:#1f77b4;\"/>\r\n   </g>\r\n   <g id=\"patch_84\">\r\n    <path clip-path=\"url(#p9929f946f9)\" d=\"M 317.317045 124.381798 \r\nL 325.771591 124.381798 \r\nL 325.771591 82.119408 \r\nL 317.317045 82.119408 \r\nz\r\n\" style=\"fill:#1f77b4;\"/>\r\n   </g>\r\n   <g id=\"patch_85\">\r\n    <path clip-path=\"url(#p9929f946f9)\" d=\"M 325.771591 124.381798 \r\nL 334.226136 124.381798 \r\nL 334.226136 82.119408 \r\nL 325.771591 82.119408 \r\nz\r\n\" style=\"fill:#1f77b4;\"/>\r\n   </g>\r\n   <g id=\"patch_86\">\r\n    <path clip-path=\"url(#p9929f946f9)\" d=\"M 334.226136 124.381798 \r\nL 342.680682 124.381798 \r\nL 342.680682 82.119408 \r\nL 334.226136 82.119408 \r\nz\r\n\" style=\"fill:#1f77b4;\"/>\r\n   </g>\r\n   <g id=\"patch_87\">\r\n    <path clip-path=\"url(#p9929f946f9)\" d=\"M 342.680682 124.381798 \r\nL 351.135227 124.381798 \r\nL 351.135227 82.119408 \r\nL 342.680682 82.119408 \r\nz\r\n\" style=\"fill:#1f77b4;\"/>\r\n   </g>\r\n   <g id=\"matplotlib.axis_11\">\r\n    <g id=\"xtick_11\">\r\n     <g id=\"line2d_41\">\r\n      <path clip-path=\"url(#p9929f946f9)\" d=\"M 285.377652 124.381798 \r\nL 285.377652 80.006288 \r\n\" style=\"fill:none;stroke:#b0b0b0;stroke-linecap:square;stroke-width:0.8;\"/>\r\n     </g>\r\n     <g id=\"line2d_42\">\r\n      <g>\r\n       <use style=\"stroke:#000000;stroke-width:0.8;\" x=\"285.377652\" xlink:href=\"#m5675cb51ae\" y=\"124.381798\"/>\r\n      </g>\r\n     </g>\r\n     <g id=\"text_26\">\r\n      <!-- 25 -->\r\n      <g transform=\"translate(279.015152 138.980236)scale(0.1 -0.1)\">\r\n       <use xlink:href=\"#DejaVuSans-32\"/>\r\n       <use x=\"63.623047\" xlink:href=\"#DejaVuSans-35\"/>\r\n      </g>\r\n     </g>\r\n    </g>\r\n    <g id=\"xtick_12\">\r\n     <g id=\"line2d_43\">\r\n      <path clip-path=\"url(#p9929f946f9)\" d=\"M 308.8625 124.381798 \r\nL 308.8625 80.006288 \r\n\" style=\"fill:none;stroke:#b0b0b0;stroke-linecap:square;stroke-width:0.8;\"/>\r\n     </g>\r\n     <g id=\"line2d_44\">\r\n      <g>\r\n       <use style=\"stroke:#000000;stroke-width:0.8;\" x=\"308.8625\" xlink:href=\"#m5675cb51ae\" y=\"124.381798\"/>\r\n      </g>\r\n     </g>\r\n     <g id=\"text_27\">\r\n      <!-- 50 -->\r\n      <g transform=\"translate(302.5 138.980236)scale(0.1 -0.1)\">\r\n       <use xlink:href=\"#DejaVuSans-35\"/>\r\n       <use x=\"63.623047\" xlink:href=\"#DejaVuSans-30\"/>\r\n      </g>\r\n     </g>\r\n    </g>\r\n    <g id=\"xtick_13\">\r\n     <g id=\"line2d_45\">\r\n      <path clip-path=\"url(#p9929f946f9)\" d=\"M 332.347348 124.381798 \r\nL 332.347348 80.006288 \r\n\" style=\"fill:none;stroke:#b0b0b0;stroke-linecap:square;stroke-width:0.8;\"/>\r\n     </g>\r\n     <g id=\"line2d_46\">\r\n      <g>\r\n       <use style=\"stroke:#000000;stroke-width:0.8;\" x=\"332.347348\" xlink:href=\"#m5675cb51ae\" y=\"124.381798\"/>\r\n      </g>\r\n     </g>\r\n     <g id=\"text_28\">\r\n      <!-- 75 -->\r\n      <g transform=\"translate(325.984848 138.980236)scale(0.1 -0.1)\">\r\n       <defs>\r\n        <path d=\"M 525 4666 \r\nL 3525 4666 \r\nL 3525 4397 \r\nL 1831 0 \r\nL 1172 0 \r\nL 2766 4134 \r\nL 525 4134 \r\nL 525 4666 \r\nz\r\n\" id=\"DejaVuSans-37\" transform=\"scale(0.015625)\"/>\r\n       </defs>\r\n       <use xlink:href=\"#DejaVuSans-37\"/>\r\n       <use x=\"63.623047\" xlink:href=\"#DejaVuSans-35\"/>\r\n      </g>\r\n     </g>\r\n    </g>\r\n   </g>\r\n   <g id=\"matplotlib.axis_12\">\r\n    <g id=\"ytick_11\">\r\n     <g id=\"line2d_47\">\r\n      <path clip-path=\"url(#p9929f946f9)\" d=\"M 262.3625 124.381798 \r\nL 355.3625 124.381798 \r\n\" style=\"fill:none;stroke:#b0b0b0;stroke-linecap:square;stroke-width:0.8;\"/>\r\n     </g>\r\n     <g id=\"line2d_48\">\r\n      <g>\r\n       <use style=\"stroke:#000000;stroke-width:0.8;\" x=\"262.3625\" xlink:href=\"#m6e81fd6ea6\" y=\"124.381798\"/>\r\n      </g>\r\n     </g>\r\n     <g id=\"text_29\">\r\n      <!-- 0 -->\r\n      <g transform=\"translate(249 128.181017)scale(0.1 -0.1)\">\r\n       <use xlink:href=\"#DejaVuSans-30\"/>\r\n      </g>\r\n     </g>\r\n    </g>\r\n    <g id=\"ytick_12\">\r\n     <g id=\"line2d_49\">\r\n      <path clip-path=\"url(#p9929f946f9)\" d=\"M 262.3625 82.119408 \r\nL 355.3625 82.119408 \r\n\" style=\"fill:none;stroke:#b0b0b0;stroke-linecap:square;stroke-width:0.8;\"/>\r\n     </g>\r\n     <g id=\"line2d_50\">\r\n      <g>\r\n       <use style=\"stroke:#000000;stroke-width:0.8;\" x=\"262.3625\" xlink:href=\"#m6e81fd6ea6\" y=\"82.119408\"/>\r\n      </g>\r\n     </g>\r\n     <g id=\"text_30\">\r\n      <!-- 1 -->\r\n      <g transform=\"translate(249 85.918627)scale(0.1 -0.1)\">\r\n       <use xlink:href=\"#DejaVuSans-31\"/>\r\n      </g>\r\n     </g>\r\n    </g>\r\n   </g>\r\n   <g id=\"patch_88\">\r\n    <path d=\"M 262.3625 124.381798 \r\nL 262.3625 80.006288 \r\n\" style=\"fill:none;stroke:#000000;stroke-linecap:square;stroke-linejoin:miter;stroke-width:0.8;\"/>\r\n   </g>\r\n   <g id=\"patch_89\">\r\n    <path d=\"M 355.3625 124.381798 \r\nL 355.3625 80.006288 \r\n\" style=\"fill:none;stroke:#000000;stroke-linecap:square;stroke-linejoin:miter;stroke-width:0.8;\"/>\r\n   </g>\r\n   <g id=\"patch_90\">\r\n    <path d=\"M 262.3625 124.381798 \r\nL 355.3625 124.381798 \r\n\" style=\"fill:none;stroke:#000000;stroke-linecap:square;stroke-linejoin:miter;stroke-width:0.8;\"/>\r\n   </g>\r\n   <g id=\"patch_91\">\r\n    <path d=\"M 262.3625 80.006288 \r\nL 355.3625 80.006288 \r\n\" style=\"fill:none;stroke:#000000;stroke-linecap:square;stroke-linejoin:miter;stroke-width:0.8;\"/>\r\n   </g>\r\n   <g id=\"text_31\">\r\n    <!-- col5 -->\r\n    <g transform=\"translate(296.407813 74.006288)scale(0.12 -0.12)\">\r\n     <use xlink:href=\"#DejaVuSans-63\"/>\r\n     <use x=\"54.980469\" xlink:href=\"#DejaVuSans-6f\"/>\r\n     <use x=\"116.162109\" xlink:href=\"#DejaVuSans-6c\"/>\r\n     <use x=\"143.945312\" xlink:href=\"#DejaVuSans-35\"/>\r\n    </g>\r\n   </g>\r\n  </g>\r\n  <g id=\"axes_7\">\r\n   <g id=\"patch_92\">\r\n    <path d=\"M 20.5625 182.069962 \r\nL 113.5625 182.069962 \r\nL 113.5625 137.694452 \r\nL 20.5625 137.694452 \r\nz\r\n\" style=\"fill:#ffffff;\"/>\r\n   </g>\r\n   <g id=\"patch_93\">\r\n    <path clip-path=\"url(#pfe62b12ba2)\" d=\"M 24.789773 182.069962 \r\nL 33.244318 182.069962 \r\nL 33.244318 139.807571 \r\nL 24.789773 139.807571 \r\nz\r\n\" style=\"fill:#1f77b4;\"/>\r\n   </g>\r\n   <g id=\"patch_94\">\r\n    <path clip-path=\"url(#pfe62b12ba2)\" d=\"M 33.244318 182.069962 \r\nL 41.698864 182.069962 \r\nL 41.698864 139.807571 \r\nL 33.244318 139.807571 \r\nz\r\n\" style=\"fill:#1f77b4;\"/>\r\n   </g>\r\n   <g id=\"patch_95\">\r\n    <path clip-path=\"url(#pfe62b12ba2)\" d=\"M 41.698864 182.069962 \r\nL 50.153409 182.069962 \r\nL 50.153409 139.807571 \r\nL 41.698864 139.807571 \r\nz\r\n\" style=\"fill:#1f77b4;\"/>\r\n   </g>\r\n   <g id=\"patch_96\">\r\n    <path clip-path=\"url(#pfe62b12ba2)\" d=\"M 50.153409 182.069962 \r\nL 58.607955 182.069962 \r\nL 58.607955 139.807571 \r\nL 50.153409 139.807571 \r\nz\r\n\" style=\"fill:#1f77b4;\"/>\r\n   </g>\r\n   <g id=\"patch_97\">\r\n    <path clip-path=\"url(#pfe62b12ba2)\" d=\"M 58.607955 182.069962 \r\nL 67.0625 182.069962 \r\nL 67.0625 139.807571 \r\nL 58.607955 139.807571 \r\nz\r\n\" style=\"fill:#1f77b4;\"/>\r\n   </g>\r\n   <g id=\"patch_98\">\r\n    <path clip-path=\"url(#pfe62b12ba2)\" d=\"M 67.0625 182.069962 \r\nL 75.517045 182.069962 \r\nL 75.517045 139.807571 \r\nL 67.0625 139.807571 \r\nz\r\n\" style=\"fill:#1f77b4;\"/>\r\n   </g>\r\n   <g id=\"patch_99\">\r\n    <path clip-path=\"url(#pfe62b12ba2)\" d=\"M 75.517045 182.069962 \r\nL 83.971591 182.069962 \r\nL 83.971591 139.807571 \r\nL 75.517045 139.807571 \r\nz\r\n\" style=\"fill:#1f77b4;\"/>\r\n   </g>\r\n   <g id=\"patch_100\">\r\n    <path clip-path=\"url(#pfe62b12ba2)\" d=\"M 83.971591 182.069962 \r\nL 92.426136 182.069962 \r\nL 92.426136 139.807571 \r\nL 83.971591 139.807571 \r\nz\r\n\" style=\"fill:#1f77b4;\"/>\r\n   </g>\r\n   <g id=\"patch_101\">\r\n    <path clip-path=\"url(#pfe62b12ba2)\" d=\"M 92.426136 182.069962 \r\nL 100.880682 182.069962 \r\nL 100.880682 139.807571 \r\nL 92.426136 139.807571 \r\nz\r\n\" style=\"fill:#1f77b4;\"/>\r\n   </g>\r\n   <g id=\"patch_102\">\r\n    <path clip-path=\"url(#pfe62b12ba2)\" d=\"M 100.880682 182.069962 \r\nL 109.335227 182.069962 \r\nL 109.335227 139.807571 \r\nL 100.880682 139.807571 \r\nz\r\n\" style=\"fill:#1f77b4;\"/>\r\n   </g>\r\n   <g id=\"matplotlib.axis_13\">\r\n    <g id=\"xtick_14\">\r\n     <g id=\"line2d_51\">\r\n      <path clip-path=\"url(#pfe62b12ba2)\" d=\"M 66.123106 182.069962 \r\nL 66.123106 137.694452 \r\n\" style=\"fill:none;stroke:#b0b0b0;stroke-linecap:square;stroke-width:0.8;\"/>\r\n     </g>\r\n     <g id=\"line2d_52\">\r\n      <g>\r\n       <use style=\"stroke:#000000;stroke-width:0.8;\" x=\"66.123106\" xlink:href=\"#m5675cb51ae\" y=\"182.069962\"/>\r\n      </g>\r\n     </g>\r\n     <g id=\"text_32\">\r\n      <!-- 50 -->\r\n      <g transform=\"translate(59.760606 196.668399)scale(0.1 -0.1)\">\r\n       <use xlink:href=\"#DejaVuSans-35\"/>\r\n       <use x=\"63.623047\" xlink:href=\"#DejaVuSans-30\"/>\r\n      </g>\r\n     </g>\r\n    </g>\r\n    <g id=\"xtick_15\">\r\n     <g id=\"line2d_53\">\r\n      <path clip-path=\"url(#pfe62b12ba2)\" d=\"M 113.092803 182.069962 \r\nL 113.092803 137.694452 \r\n\" style=\"fill:none;stroke:#b0b0b0;stroke-linecap:square;stroke-width:0.8;\"/>\r\n     </g>\r\n     <g id=\"line2d_54\">\r\n      <g>\r\n       <use style=\"stroke:#000000;stroke-width:0.8;\" x=\"113.092803\" xlink:href=\"#m5675cb51ae\" y=\"182.069962\"/>\r\n      </g>\r\n     </g>\r\n     <g id=\"text_33\">\r\n      <!-- 100 -->\r\n      <g transform=\"translate(103.549053 196.668399)scale(0.1 -0.1)\">\r\n       <use xlink:href=\"#DejaVuSans-31\"/>\r\n       <use x=\"63.623047\" xlink:href=\"#DejaVuSans-30\"/>\r\n       <use x=\"127.246094\" xlink:href=\"#DejaVuSans-30\"/>\r\n      </g>\r\n     </g>\r\n    </g>\r\n   </g>\r\n   <g id=\"matplotlib.axis_14\">\r\n    <g id=\"ytick_13\">\r\n     <g id=\"line2d_55\">\r\n      <path clip-path=\"url(#pfe62b12ba2)\" d=\"M 20.5625 182.069962 \r\nL 113.5625 182.069962 \r\n\" style=\"fill:none;stroke:#b0b0b0;stroke-linecap:square;stroke-width:0.8;\"/>\r\n     </g>\r\n     <g id=\"line2d_56\">\r\n      <g>\r\n       <use style=\"stroke:#000000;stroke-width:0.8;\" x=\"20.5625\" xlink:href=\"#m6e81fd6ea6\" y=\"182.069962\"/>\r\n      </g>\r\n     </g>\r\n     <g id=\"text_34\">\r\n      <!-- 0 -->\r\n      <g transform=\"translate(7.2 185.86918)scale(0.1 -0.1)\">\r\n       <use xlink:href=\"#DejaVuSans-30\"/>\r\n      </g>\r\n     </g>\r\n    </g>\r\n    <g id=\"ytick_14\">\r\n     <g id=\"line2d_57\">\r\n      <path clip-path=\"url(#pfe62b12ba2)\" d=\"M 20.5625 139.807571 \r\nL 113.5625 139.807571 \r\n\" style=\"fill:none;stroke:#b0b0b0;stroke-linecap:square;stroke-width:0.8;\"/>\r\n     </g>\r\n     <g id=\"line2d_58\">\r\n      <g>\r\n       <use style=\"stroke:#000000;stroke-width:0.8;\" x=\"20.5625\" xlink:href=\"#m6e81fd6ea6\" y=\"139.807571\"/>\r\n      </g>\r\n     </g>\r\n     <g id=\"text_35\">\r\n      <!-- 1 -->\r\n      <g transform=\"translate(7.2 143.60679)scale(0.1 -0.1)\">\r\n       <use xlink:href=\"#DejaVuSans-31\"/>\r\n      </g>\r\n     </g>\r\n    </g>\r\n   </g>\r\n   <g id=\"patch_103\">\r\n    <path d=\"M 20.5625 182.069962 \r\nL 20.5625 137.694452 \r\n\" style=\"fill:none;stroke:#000000;stroke-linecap:square;stroke-linejoin:miter;stroke-width:0.8;\"/>\r\n   </g>\r\n   <g id=\"patch_104\">\r\n    <path d=\"M 113.5625 182.069962 \r\nL 113.5625 137.694452 \r\n\" style=\"fill:none;stroke:#000000;stroke-linecap:square;stroke-linejoin:miter;stroke-width:0.8;\"/>\r\n   </g>\r\n   <g id=\"patch_105\">\r\n    <path d=\"M 20.5625 182.069962 \r\nL 113.5625 182.069962 \r\n\" style=\"fill:none;stroke:#000000;stroke-linecap:square;stroke-linejoin:miter;stroke-width:0.8;\"/>\r\n   </g>\r\n   <g id=\"patch_106\">\r\n    <path d=\"M 20.5625 137.694452 \r\nL 113.5625 137.694452 \r\n\" style=\"fill:none;stroke:#000000;stroke-linecap:square;stroke-linejoin:miter;stroke-width:0.8;\"/>\r\n   </g>\r\n   <g id=\"text_36\">\r\n    <!-- col6 -->\r\n    <g transform=\"translate(54.607813 131.694452)scale(0.12 -0.12)\">\r\n     <defs>\r\n      <path d=\"M 2113 2584 \r\nQ 1688 2584 1439 2293 \r\nQ 1191 2003 1191 1497 \r\nQ 1191 994 1439 701 \r\nQ 1688 409 2113 409 \r\nQ 2538 409 2786 701 \r\nQ 3034 994 3034 1497 \r\nQ 3034 2003 2786 2293 \r\nQ 2538 2584 2113 2584 \r\nz\r\nM 3366 4563 \r\nL 3366 3988 \r\nQ 3128 4100 2886 4159 \r\nQ 2644 4219 2406 4219 \r\nQ 1781 4219 1451 3797 \r\nQ 1122 3375 1075 2522 \r\nQ 1259 2794 1537 2939 \r\nQ 1816 3084 2150 3084 \r\nQ 2853 3084 3261 2657 \r\nQ 3669 2231 3669 1497 \r\nQ 3669 778 3244 343 \r\nQ 2819 -91 2113 -91 \r\nQ 1303 -91 875 529 \r\nQ 447 1150 447 2328 \r\nQ 447 3434 972 4092 \r\nQ 1497 4750 2381 4750 \r\nQ 2619 4750 2861 4703 \r\nQ 3103 4656 3366 4563 \r\nz\r\n\" id=\"DejaVuSans-36\" transform=\"scale(0.015625)\"/>\r\n     </defs>\r\n     <use xlink:href=\"#DejaVuSans-63\"/>\r\n     <use x=\"54.980469\" xlink:href=\"#DejaVuSans-6f\"/>\r\n     <use x=\"116.162109\" xlink:href=\"#DejaVuSans-6c\"/>\r\n     <use x=\"143.945312\" xlink:href=\"#DejaVuSans-36\"/>\r\n    </g>\r\n   </g>\r\n  </g>\r\n  <g id=\"axes_8\">\r\n   <g id=\"patch_107\">\r\n    <path d=\"M 141.4625 182.069962 \r\nL 234.4625 182.069962 \r\nL 234.4625 137.694452 \r\nL 141.4625 137.694452 \r\nz\r\n\" style=\"fill:#ffffff;\"/>\r\n   </g>\r\n   <g id=\"patch_108\">\r\n    <path clip-path=\"url(#p15437cdd08)\" d=\"M 145.689773 182.069962 \r\nL 154.144318 182.069962 \r\nL 154.144318 139.807571 \r\nL 145.689773 139.807571 \r\nz\r\n\" style=\"fill:#1f77b4;\"/>\r\n   </g>\r\n   <g id=\"patch_109\">\r\n    <path clip-path=\"url(#p15437cdd08)\" d=\"M 154.144318 182.069962 \r\nL 162.598864 182.069962 \r\nL 162.598864 139.807571 \r\nL 154.144318 139.807571 \r\nz\r\n\" style=\"fill:#1f77b4;\"/>\r\n   </g>\r\n   <g id=\"patch_110\">\r\n    <path clip-path=\"url(#p15437cdd08)\" d=\"M 162.598864 182.069962 \r\nL 171.053409 182.069962 \r\nL 171.053409 139.807571 \r\nL 162.598864 139.807571 \r\nz\r\n\" style=\"fill:#1f77b4;\"/>\r\n   </g>\r\n   <g id=\"patch_111\">\r\n    <path clip-path=\"url(#p15437cdd08)\" d=\"M 171.053409 182.069962 \r\nL 179.507955 182.069962 \r\nL 179.507955 139.807571 \r\nL 171.053409 139.807571 \r\nz\r\n\" style=\"fill:#1f77b4;\"/>\r\n   </g>\r\n   <g id=\"patch_112\">\r\n    <path clip-path=\"url(#p15437cdd08)\" d=\"M 179.507955 182.069962 \r\nL 187.9625 182.069962 \r\nL 187.9625 139.807571 \r\nL 179.507955 139.807571 \r\nz\r\n\" style=\"fill:#1f77b4;\"/>\r\n   </g>\r\n   <g id=\"patch_113\">\r\n    <path clip-path=\"url(#p15437cdd08)\" d=\"M 187.9625 182.069962 \r\nL 196.417045 182.069962 \r\nL 196.417045 139.807571 \r\nL 187.9625 139.807571 \r\nz\r\n\" style=\"fill:#1f77b4;\"/>\r\n   </g>\r\n   <g id=\"patch_114\">\r\n    <path clip-path=\"url(#p15437cdd08)\" d=\"M 196.417045 182.069962 \r\nL 204.871591 182.069962 \r\nL 204.871591 139.807571 \r\nL 196.417045 139.807571 \r\nz\r\n\" style=\"fill:#1f77b4;\"/>\r\n   </g>\r\n   <g id=\"patch_115\">\r\n    <path clip-path=\"url(#p15437cdd08)\" d=\"M 204.871591 182.069962 \r\nL 213.326136 182.069962 \r\nL 213.326136 139.807571 \r\nL 204.871591 139.807571 \r\nz\r\n\" style=\"fill:#1f77b4;\"/>\r\n   </g>\r\n   <g id=\"patch_116\">\r\n    <path clip-path=\"url(#p15437cdd08)\" d=\"M 213.326136 182.069962 \r\nL 221.780682 182.069962 \r\nL 221.780682 139.807571 \r\nL 213.326136 139.807571 \r\nz\r\n\" style=\"fill:#1f77b4;\"/>\r\n   </g>\r\n   <g id=\"patch_117\">\r\n    <path clip-path=\"url(#p15437cdd08)\" d=\"M 221.780682 182.069962 \r\nL 230.235227 182.069962 \r\nL 230.235227 139.807571 \r\nL 221.780682 139.807571 \r\nz\r\n\" style=\"fill:#1f77b4;\"/>\r\n   </g>\r\n   <g id=\"matplotlib.axis_15\">\r\n    <g id=\"xtick_16\">\r\n     <g id=\"line2d_59\">\r\n      <path clip-path=\"url(#p15437cdd08)\" d=\"M 186.083712 182.069962 \r\nL 186.083712 137.694452 \r\n\" style=\"fill:none;stroke:#b0b0b0;stroke-linecap:square;stroke-width:0.8;\"/>\r\n     </g>\r\n     <g id=\"line2d_60\">\r\n      <g>\r\n       <use style=\"stroke:#000000;stroke-width:0.8;\" x=\"186.083712\" xlink:href=\"#m5675cb51ae\" y=\"182.069962\"/>\r\n      </g>\r\n     </g>\r\n     <g id=\"text_37\">\r\n      <!-- 50 -->\r\n      <g transform=\"translate(179.721212 196.668399)scale(0.1 -0.1)\">\r\n       <use xlink:href=\"#DejaVuSans-35\"/>\r\n       <use x=\"63.623047\" xlink:href=\"#DejaVuSans-30\"/>\r\n      </g>\r\n     </g>\r\n    </g>\r\n    <g id=\"xtick_17\">\r\n     <g id=\"line2d_61\">\r\n      <path clip-path=\"url(#p15437cdd08)\" d=\"M 233.053409 182.069962 \r\nL 233.053409 137.694452 \r\n\" style=\"fill:none;stroke:#b0b0b0;stroke-linecap:square;stroke-width:0.8;\"/>\r\n     </g>\r\n     <g id=\"line2d_62\">\r\n      <g>\r\n       <use style=\"stroke:#000000;stroke-width:0.8;\" x=\"233.053409\" xlink:href=\"#m5675cb51ae\" y=\"182.069962\"/>\r\n      </g>\r\n     </g>\r\n     <g id=\"text_38\">\r\n      <!-- 100 -->\r\n      <g transform=\"translate(223.509659 196.668399)scale(0.1 -0.1)\">\r\n       <use xlink:href=\"#DejaVuSans-31\"/>\r\n       <use x=\"63.623047\" xlink:href=\"#DejaVuSans-30\"/>\r\n       <use x=\"127.246094\" xlink:href=\"#DejaVuSans-30\"/>\r\n      </g>\r\n     </g>\r\n    </g>\r\n   </g>\r\n   <g id=\"matplotlib.axis_16\">\r\n    <g id=\"ytick_15\">\r\n     <g id=\"line2d_63\">\r\n      <path clip-path=\"url(#p15437cdd08)\" d=\"M 141.4625 182.069962 \r\nL 234.4625 182.069962 \r\n\" style=\"fill:none;stroke:#b0b0b0;stroke-linecap:square;stroke-width:0.8;\"/>\r\n     </g>\r\n     <g id=\"line2d_64\">\r\n      <g>\r\n       <use style=\"stroke:#000000;stroke-width:0.8;\" x=\"141.4625\" xlink:href=\"#m6e81fd6ea6\" y=\"182.069962\"/>\r\n      </g>\r\n     </g>\r\n     <g id=\"text_39\">\r\n      <!-- 0 -->\r\n      <g transform=\"translate(128.1 185.86918)scale(0.1 -0.1)\">\r\n       <use xlink:href=\"#DejaVuSans-30\"/>\r\n      </g>\r\n     </g>\r\n    </g>\r\n    <g id=\"ytick_16\">\r\n     <g id=\"line2d_65\">\r\n      <path clip-path=\"url(#p15437cdd08)\" d=\"M 141.4625 139.807571 \r\nL 234.4625 139.807571 \r\n\" style=\"fill:none;stroke:#b0b0b0;stroke-linecap:square;stroke-width:0.8;\"/>\r\n     </g>\r\n     <g id=\"line2d_66\">\r\n      <g>\r\n       <use style=\"stroke:#000000;stroke-width:0.8;\" x=\"141.4625\" xlink:href=\"#m6e81fd6ea6\" y=\"139.807571\"/>\r\n      </g>\r\n     </g>\r\n     <g id=\"text_40\">\r\n      <!-- 1 -->\r\n      <g transform=\"translate(128.1 143.60679)scale(0.1 -0.1)\">\r\n       <use xlink:href=\"#DejaVuSans-31\"/>\r\n      </g>\r\n     </g>\r\n    </g>\r\n   </g>\r\n   <g id=\"patch_118\">\r\n    <path d=\"M 141.4625 182.069962 \r\nL 141.4625 137.694452 \r\n\" style=\"fill:none;stroke:#000000;stroke-linecap:square;stroke-linejoin:miter;stroke-width:0.8;\"/>\r\n   </g>\r\n   <g id=\"patch_119\">\r\n    <path d=\"M 234.4625 182.069962 \r\nL 234.4625 137.694452 \r\n\" style=\"fill:none;stroke:#000000;stroke-linecap:square;stroke-linejoin:miter;stroke-width:0.8;\"/>\r\n   </g>\r\n   <g id=\"patch_120\">\r\n    <path d=\"M 141.4625 182.069962 \r\nL 234.4625 182.069962 \r\n\" style=\"fill:none;stroke:#000000;stroke-linecap:square;stroke-linejoin:miter;stroke-width:0.8;\"/>\r\n   </g>\r\n   <g id=\"patch_121\">\r\n    <path d=\"M 141.4625 137.694452 \r\nL 234.4625 137.694452 \r\n\" style=\"fill:none;stroke:#000000;stroke-linecap:square;stroke-linejoin:miter;stroke-width:0.8;\"/>\r\n   </g>\r\n   <g id=\"text_41\">\r\n    <!-- col7 -->\r\n    <g transform=\"translate(175.507813 131.694452)scale(0.12 -0.12)\">\r\n     <use xlink:href=\"#DejaVuSans-63\"/>\r\n     <use x=\"54.980469\" xlink:href=\"#DejaVuSans-6f\"/>\r\n     <use x=\"116.162109\" xlink:href=\"#DejaVuSans-6c\"/>\r\n     <use x=\"143.945312\" xlink:href=\"#DejaVuSans-37\"/>\r\n    </g>\r\n   </g>\r\n  </g>\r\n  <g id=\"axes_9\">\r\n   <g id=\"patch_122\">\r\n    <path d=\"M 262.3625 182.069962 \r\nL 355.3625 182.069962 \r\nL 355.3625 137.694452 \r\nL 262.3625 137.694452 \r\nz\r\n\" style=\"fill:#ffffff;\"/>\r\n   </g>\r\n   <g id=\"patch_123\">\r\n    <path clip-path=\"url(#p3e89be1533)\" d=\"M 266.589773 182.069962 \r\nL 275.044318 182.069962 \r\nL 275.044318 139.807571 \r\nL 266.589773 139.807571 \r\nz\r\n\" style=\"fill:#1f77b4;\"/>\r\n   </g>\r\n   <g id=\"patch_124\">\r\n    <path clip-path=\"url(#p3e89be1533)\" d=\"M 275.044318 182.069962 \r\nL 283.498864 182.069962 \r\nL 283.498864 139.807571 \r\nL 275.044318 139.807571 \r\nz\r\n\" style=\"fill:#1f77b4;\"/>\r\n   </g>\r\n   <g id=\"patch_125\">\r\n    <path clip-path=\"url(#p3e89be1533)\" d=\"M 283.498864 182.069962 \r\nL 291.953409 182.069962 \r\nL 291.953409 139.807571 \r\nL 283.498864 139.807571 \r\nz\r\n\" style=\"fill:#1f77b4;\"/>\r\n   </g>\r\n   <g id=\"patch_126\">\r\n    <path clip-path=\"url(#p3e89be1533)\" d=\"M 291.953409 182.069962 \r\nL 300.407955 182.069962 \r\nL 300.407955 139.807571 \r\nL 291.953409 139.807571 \r\nz\r\n\" style=\"fill:#1f77b4;\"/>\r\n   </g>\r\n   <g id=\"patch_127\">\r\n    <path clip-path=\"url(#p3e89be1533)\" d=\"M 300.407955 182.069962 \r\nL 308.8625 182.069962 \r\nL 308.8625 139.807571 \r\nL 300.407955 139.807571 \r\nz\r\n\" style=\"fill:#1f77b4;\"/>\r\n   </g>\r\n   <g id=\"patch_128\">\r\n    <path clip-path=\"url(#p3e89be1533)\" d=\"M 308.8625 182.069962 \r\nL 317.317045 182.069962 \r\nL 317.317045 139.807571 \r\nL 308.8625 139.807571 \r\nz\r\n\" style=\"fill:#1f77b4;\"/>\r\n   </g>\r\n   <g id=\"patch_129\">\r\n    <path clip-path=\"url(#p3e89be1533)\" d=\"M 317.317045 182.069962 \r\nL 325.771591 182.069962 \r\nL 325.771591 139.807571 \r\nL 317.317045 139.807571 \r\nz\r\n\" style=\"fill:#1f77b4;\"/>\r\n   </g>\r\n   <g id=\"patch_130\">\r\n    <path clip-path=\"url(#p3e89be1533)\" d=\"M 325.771591 182.069962 \r\nL 334.226136 182.069962 \r\nL 334.226136 139.807571 \r\nL 325.771591 139.807571 \r\nz\r\n\" style=\"fill:#1f77b4;\"/>\r\n   </g>\r\n   <g id=\"patch_131\">\r\n    <path clip-path=\"url(#p3e89be1533)\" d=\"M 334.226136 182.069962 \r\nL 342.680682 182.069962 \r\nL 342.680682 139.807571 \r\nL 334.226136 139.807571 \r\nz\r\n\" style=\"fill:#1f77b4;\"/>\r\n   </g>\r\n   <g id=\"patch_132\">\r\n    <path clip-path=\"url(#p3e89be1533)\" d=\"M 342.680682 182.069962 \r\nL 351.135227 182.069962 \r\nL 351.135227 139.807571 \r\nL 342.680682 139.807571 \r\nz\r\n\" style=\"fill:#1f77b4;\"/>\r\n   </g>\r\n   <g id=\"matplotlib.axis_17\">\r\n    <g id=\"xtick_18\">\r\n     <g id=\"line2d_67\">\r\n      <path clip-path=\"url(#p3e89be1533)\" d=\"M 306.044318 182.069962 \r\nL 306.044318 137.694452 \r\n\" style=\"fill:none;stroke:#b0b0b0;stroke-linecap:square;stroke-width:0.8;\"/>\r\n     </g>\r\n     <g id=\"line2d_68\">\r\n      <g>\r\n       <use style=\"stroke:#000000;stroke-width:0.8;\" x=\"306.044318\" xlink:href=\"#m5675cb51ae\" y=\"182.069962\"/>\r\n      </g>\r\n     </g>\r\n     <g id=\"text_42\">\r\n      <!-- 50 -->\r\n      <g transform=\"translate(299.681818 196.668399)scale(0.1 -0.1)\">\r\n       <use xlink:href=\"#DejaVuSans-35\"/>\r\n       <use x=\"63.623047\" xlink:href=\"#DejaVuSans-30\"/>\r\n      </g>\r\n     </g>\r\n    </g>\r\n    <g id=\"xtick_19\">\r\n     <g id=\"line2d_69\">\r\n      <path clip-path=\"url(#p3e89be1533)\" d=\"M 353.014015 182.069962 \r\nL 353.014015 137.694452 \r\n\" style=\"fill:none;stroke:#b0b0b0;stroke-linecap:square;stroke-width:0.8;\"/>\r\n     </g>\r\n     <g id=\"line2d_70\">\r\n      <g>\r\n       <use style=\"stroke:#000000;stroke-width:0.8;\" x=\"353.014015\" xlink:href=\"#m5675cb51ae\" y=\"182.069962\"/>\r\n      </g>\r\n     </g>\r\n     <g id=\"text_43\">\r\n      <!-- 100 -->\r\n      <g transform=\"translate(343.470265 196.668399)scale(0.1 -0.1)\">\r\n       <use xlink:href=\"#DejaVuSans-31\"/>\r\n       <use x=\"63.623047\" xlink:href=\"#DejaVuSans-30\"/>\r\n       <use x=\"127.246094\" xlink:href=\"#DejaVuSans-30\"/>\r\n      </g>\r\n     </g>\r\n    </g>\r\n   </g>\r\n   <g id=\"matplotlib.axis_18\">\r\n    <g id=\"ytick_17\">\r\n     <g id=\"line2d_71\">\r\n      <path clip-path=\"url(#p3e89be1533)\" d=\"M 262.3625 182.069962 \r\nL 355.3625 182.069962 \r\n\" style=\"fill:none;stroke:#b0b0b0;stroke-linecap:square;stroke-width:0.8;\"/>\r\n     </g>\r\n     <g id=\"line2d_72\">\r\n      <g>\r\n       <use style=\"stroke:#000000;stroke-width:0.8;\" x=\"262.3625\" xlink:href=\"#m6e81fd6ea6\" y=\"182.069962\"/>\r\n      </g>\r\n     </g>\r\n     <g id=\"text_44\">\r\n      <!-- 0 -->\r\n      <g transform=\"translate(249 185.86918)scale(0.1 -0.1)\">\r\n       <use xlink:href=\"#DejaVuSans-30\"/>\r\n      </g>\r\n     </g>\r\n    </g>\r\n    <g id=\"ytick_18\">\r\n     <g id=\"line2d_73\">\r\n      <path clip-path=\"url(#p3e89be1533)\" d=\"M 262.3625 139.807571 \r\nL 355.3625 139.807571 \r\n\" style=\"fill:none;stroke:#b0b0b0;stroke-linecap:square;stroke-width:0.8;\"/>\r\n     </g>\r\n     <g id=\"line2d_74\">\r\n      <g>\r\n       <use style=\"stroke:#000000;stroke-width:0.8;\" x=\"262.3625\" xlink:href=\"#m6e81fd6ea6\" y=\"139.807571\"/>\r\n      </g>\r\n     </g>\r\n     <g id=\"text_45\">\r\n      <!-- 1 -->\r\n      <g transform=\"translate(249 143.60679)scale(0.1 -0.1)\">\r\n       <use xlink:href=\"#DejaVuSans-31\"/>\r\n      </g>\r\n     </g>\r\n    </g>\r\n   </g>\r\n   <g id=\"patch_133\">\r\n    <path d=\"M 262.3625 182.069962 \r\nL 262.3625 137.694452 \r\n\" style=\"fill:none;stroke:#000000;stroke-linecap:square;stroke-linejoin:miter;stroke-width:0.8;\"/>\r\n   </g>\r\n   <g id=\"patch_134\">\r\n    <path d=\"M 355.3625 182.069962 \r\nL 355.3625 137.694452 \r\n\" style=\"fill:none;stroke:#000000;stroke-linecap:square;stroke-linejoin:miter;stroke-width:0.8;\"/>\r\n   </g>\r\n   <g id=\"patch_135\">\r\n    <path d=\"M 262.3625 182.069962 \r\nL 355.3625 182.069962 \r\n\" style=\"fill:none;stroke:#000000;stroke-linecap:square;stroke-linejoin:miter;stroke-width:0.8;\"/>\r\n   </g>\r\n   <g id=\"patch_136\">\r\n    <path d=\"M 262.3625 137.694452 \r\nL 355.3625 137.694452 \r\n\" style=\"fill:none;stroke:#000000;stroke-linecap:square;stroke-linejoin:miter;stroke-width:0.8;\"/>\r\n   </g>\r\n   <g id=\"text_46\">\r\n    <!-- col8 -->\r\n    <g transform=\"translate(296.407813 131.694452)scale(0.12 -0.12)\">\r\n     <defs>\r\n      <path d=\"M 2034 2216 \r\nQ 1584 2216 1326 1975 \r\nQ 1069 1734 1069 1313 \r\nQ 1069 891 1326 650 \r\nQ 1584 409 2034 409 \r\nQ 2484 409 2743 651 \r\nQ 3003 894 3003 1313 \r\nQ 3003 1734 2745 1975 \r\nQ 2488 2216 2034 2216 \r\nz\r\nM 1403 2484 \r\nQ 997 2584 770 2862 \r\nQ 544 3141 544 3541 \r\nQ 544 4100 942 4425 \r\nQ 1341 4750 2034 4750 \r\nQ 2731 4750 3128 4425 \r\nQ 3525 4100 3525 3541 \r\nQ 3525 3141 3298 2862 \r\nQ 3072 2584 2669 2484 \r\nQ 3125 2378 3379 2068 \r\nQ 3634 1759 3634 1313 \r\nQ 3634 634 3220 271 \r\nQ 2806 -91 2034 -91 \r\nQ 1263 -91 848 271 \r\nQ 434 634 434 1313 \r\nQ 434 1759 690 2068 \r\nQ 947 2378 1403 2484 \r\nz\r\nM 1172 3481 \r\nQ 1172 3119 1398 2916 \r\nQ 1625 2713 2034 2713 \r\nQ 2441 2713 2670 2916 \r\nQ 2900 3119 2900 3481 \r\nQ 2900 3844 2670 4047 \r\nQ 2441 4250 2034 4250 \r\nQ 1625 4250 1398 4047 \r\nQ 1172 3844 1172 3481 \r\nz\r\n\" id=\"DejaVuSans-38\" transform=\"scale(0.015625)\"/>\r\n     </defs>\r\n     <use xlink:href=\"#DejaVuSans-63\"/>\r\n     <use x=\"54.980469\" xlink:href=\"#DejaVuSans-6f\"/>\r\n     <use x=\"116.162109\" xlink:href=\"#DejaVuSans-6c\"/>\r\n     <use x=\"143.945312\" xlink:href=\"#DejaVuSans-38\"/>\r\n    </g>\r\n   </g>\r\n  </g>\r\n  <g id=\"axes_10\">\r\n   <g id=\"patch_137\">\r\n    <path d=\"M 20.5625 239.758125 \r\nL 113.5625 239.758125 \r\nL 113.5625 195.382615 \r\nL 20.5625 195.382615 \r\nz\r\n\" style=\"fill:#ffffff;\"/>\r\n   </g>\r\n   <g id=\"patch_138\">\r\n    <path clip-path=\"url(#p3c35de3af1)\" d=\"M 24.789773 239.758125 \r\nL 33.244318 239.758125 \r\nL 33.244318 197.495734 \r\nL 24.789773 197.495734 \r\nz\r\n\" style=\"fill:#1f77b4;\"/>\r\n   </g>\r\n   <g id=\"patch_139\">\r\n    <path clip-path=\"url(#p3c35de3af1)\" d=\"M 33.244318 239.758125 \r\nL 41.698864 239.758125 \r\nL 41.698864 197.495734 \r\nL 33.244318 197.495734 \r\nz\r\n\" style=\"fill:#1f77b4;\"/>\r\n   </g>\r\n   <g id=\"patch_140\">\r\n    <path clip-path=\"url(#p3c35de3af1)\" d=\"M 41.698864 239.758125 \r\nL 50.153409 239.758125 \r\nL 50.153409 197.495734 \r\nL 41.698864 197.495734 \r\nz\r\n\" style=\"fill:#1f77b4;\"/>\r\n   </g>\r\n   <g id=\"patch_141\">\r\n    <path clip-path=\"url(#p3c35de3af1)\" d=\"M 50.153409 239.758125 \r\nL 58.607955 239.758125 \r\nL 58.607955 197.495734 \r\nL 50.153409 197.495734 \r\nz\r\n\" style=\"fill:#1f77b4;\"/>\r\n   </g>\r\n   <g id=\"patch_142\">\r\n    <path clip-path=\"url(#p3c35de3af1)\" d=\"M 58.607955 239.758125 \r\nL 67.0625 239.758125 \r\nL 67.0625 197.495734 \r\nL 58.607955 197.495734 \r\nz\r\n\" style=\"fill:#1f77b4;\"/>\r\n   </g>\r\n   <g id=\"patch_143\">\r\n    <path clip-path=\"url(#p3c35de3af1)\" d=\"M 67.0625 239.758125 \r\nL 75.517045 239.758125 \r\nL 75.517045 197.495734 \r\nL 67.0625 197.495734 \r\nz\r\n\" style=\"fill:#1f77b4;\"/>\r\n   </g>\r\n   <g id=\"patch_144\">\r\n    <path clip-path=\"url(#p3c35de3af1)\" d=\"M 75.517045 239.758125 \r\nL 83.971591 239.758125 \r\nL 83.971591 197.495734 \r\nL 75.517045 197.495734 \r\nz\r\n\" style=\"fill:#1f77b4;\"/>\r\n   </g>\r\n   <g id=\"patch_145\">\r\n    <path clip-path=\"url(#p3c35de3af1)\" d=\"M 83.971591 239.758125 \r\nL 92.426136 239.758125 \r\nL 92.426136 197.495734 \r\nL 83.971591 197.495734 \r\nz\r\n\" style=\"fill:#1f77b4;\"/>\r\n   </g>\r\n   <g id=\"patch_146\">\r\n    <path clip-path=\"url(#p3c35de3af1)\" d=\"M 92.426136 239.758125 \r\nL 100.880682 239.758125 \r\nL 100.880682 197.495734 \r\nL 92.426136 197.495734 \r\nz\r\n\" style=\"fill:#1f77b4;\"/>\r\n   </g>\r\n   <g id=\"patch_147\">\r\n    <path clip-path=\"url(#p3c35de3af1)\" d=\"M 100.880682 239.758125 \r\nL 109.335227 239.758125 \r\nL 109.335227 197.495734 \r\nL 100.880682 197.495734 \r\nz\r\n\" style=\"fill:#1f77b4;\"/>\r\n   </g>\r\n   <g id=\"matplotlib.axis_19\">\r\n    <g id=\"xtick_20\">\r\n     <g id=\"line2d_75\">\r\n      <path clip-path=\"url(#p3c35de3af1)\" d=\"M 63.304924 239.758125 \r\nL 63.304924 195.382615 \r\n\" style=\"fill:none;stroke:#b0b0b0;stroke-linecap:square;stroke-width:0.8;\"/>\r\n     </g>\r\n     <g id=\"line2d_76\">\r\n      <g>\r\n       <use style=\"stroke:#000000;stroke-width:0.8;\" x=\"63.304924\" xlink:href=\"#m5675cb51ae\" y=\"239.758125\"/>\r\n      </g>\r\n     </g>\r\n     <g id=\"text_47\">\r\n      <!-- 50 -->\r\n      <g transform=\"translate(56.942424 254.356562)scale(0.1 -0.1)\">\r\n       <use xlink:href=\"#DejaVuSans-35\"/>\r\n       <use x=\"63.623047\" xlink:href=\"#DejaVuSans-30\"/>\r\n      </g>\r\n     </g>\r\n    </g>\r\n    <g id=\"xtick_21\">\r\n     <g id=\"line2d_77\">\r\n      <path clip-path=\"url(#p3c35de3af1)\" d=\"M 110.274621 239.758125 \r\nL 110.274621 195.382615 \r\n\" style=\"fill:none;stroke:#b0b0b0;stroke-linecap:square;stroke-width:0.8;\"/>\r\n     </g>\r\n     <g id=\"line2d_78\">\r\n      <g>\r\n       <use style=\"stroke:#000000;stroke-width:0.8;\" x=\"110.274621\" xlink:href=\"#m5675cb51ae\" y=\"239.758125\"/>\r\n      </g>\r\n     </g>\r\n     <g id=\"text_48\">\r\n      <!-- 100 -->\r\n      <g transform=\"translate(100.730871 254.356562)scale(0.1 -0.1)\">\r\n       <use xlink:href=\"#DejaVuSans-31\"/>\r\n       <use x=\"63.623047\" xlink:href=\"#DejaVuSans-30\"/>\r\n       <use x=\"127.246094\" xlink:href=\"#DejaVuSans-30\"/>\r\n      </g>\r\n     </g>\r\n    </g>\r\n   </g>\r\n   <g id=\"matplotlib.axis_20\">\r\n    <g id=\"ytick_19\">\r\n     <g id=\"line2d_79\">\r\n      <path clip-path=\"url(#p3c35de3af1)\" d=\"M 20.5625 239.758125 \r\nL 113.5625 239.758125 \r\n\" style=\"fill:none;stroke:#b0b0b0;stroke-linecap:square;stroke-width:0.8;\"/>\r\n     </g>\r\n     <g id=\"line2d_80\">\r\n      <g>\r\n       <use style=\"stroke:#000000;stroke-width:0.8;\" x=\"20.5625\" xlink:href=\"#m6e81fd6ea6\" y=\"239.758125\"/>\r\n      </g>\r\n     </g>\r\n     <g id=\"text_49\">\r\n      <!-- 0 -->\r\n      <g transform=\"translate(7.2 243.557344)scale(0.1 -0.1)\">\r\n       <use xlink:href=\"#DejaVuSans-30\"/>\r\n      </g>\r\n     </g>\r\n    </g>\r\n    <g id=\"ytick_20\">\r\n     <g id=\"line2d_81\">\r\n      <path clip-path=\"url(#p3c35de3af1)\" d=\"M 20.5625 197.495734 \r\nL 113.5625 197.495734 \r\n\" style=\"fill:none;stroke:#b0b0b0;stroke-linecap:square;stroke-width:0.8;\"/>\r\n     </g>\r\n     <g id=\"line2d_82\">\r\n      <g>\r\n       <use style=\"stroke:#000000;stroke-width:0.8;\" x=\"20.5625\" xlink:href=\"#m6e81fd6ea6\" y=\"197.495734\"/>\r\n      </g>\r\n     </g>\r\n     <g id=\"text_50\">\r\n      <!-- 1 -->\r\n      <g transform=\"translate(7.2 201.294953)scale(0.1 -0.1)\">\r\n       <use xlink:href=\"#DejaVuSans-31\"/>\r\n      </g>\r\n     </g>\r\n    </g>\r\n   </g>\r\n   <g id=\"patch_148\">\r\n    <path d=\"M 20.5625 239.758125 \r\nL 20.5625 195.382615 \r\n\" style=\"fill:none;stroke:#000000;stroke-linecap:square;stroke-linejoin:miter;stroke-width:0.8;\"/>\r\n   </g>\r\n   <g id=\"patch_149\">\r\n    <path d=\"M 113.5625 239.758125 \r\nL 113.5625 195.382615 \r\n\" style=\"fill:none;stroke:#000000;stroke-linecap:square;stroke-linejoin:miter;stroke-width:0.8;\"/>\r\n   </g>\r\n   <g id=\"patch_150\">\r\n    <path d=\"M 20.5625 239.758125 \r\nL 113.5625 239.758125 \r\n\" style=\"fill:none;stroke:#000000;stroke-linecap:square;stroke-linejoin:miter;stroke-width:0.8;\"/>\r\n   </g>\r\n   <g id=\"patch_151\">\r\n    <path d=\"M 20.5625 195.382615 \r\nL 113.5625 195.382615 \r\n\" style=\"fill:none;stroke:#000000;stroke-linecap:square;stroke-linejoin:miter;stroke-width:0.8;\"/>\r\n   </g>\r\n   <g id=\"text_51\">\r\n    <!-- col9 -->\r\n    <g transform=\"translate(54.607813 189.382615)scale(0.12 -0.12)\">\r\n     <defs>\r\n      <path d=\"M 703 97 \r\nL 703 672 \r\nQ 941 559 1184 500 \r\nQ 1428 441 1663 441 \r\nQ 2288 441 2617 861 \r\nQ 2947 1281 2994 2138 \r\nQ 2813 1869 2534 1725 \r\nQ 2256 1581 1919 1581 \r\nQ 1219 1581 811 2004 \r\nQ 403 2428 403 3163 \r\nQ 403 3881 828 4315 \r\nQ 1253 4750 1959 4750 \r\nQ 2769 4750 3195 4129 \r\nQ 3622 3509 3622 2328 \r\nQ 3622 1225 3098 567 \r\nQ 2575 -91 1691 -91 \r\nQ 1453 -91 1209 -44 \r\nQ 966 3 703 97 \r\nz\r\nM 1959 2075 \r\nQ 2384 2075 2632 2365 \r\nQ 2881 2656 2881 3163 \r\nQ 2881 3666 2632 3958 \r\nQ 2384 4250 1959 4250 \r\nQ 1534 4250 1286 3958 \r\nQ 1038 3666 1038 3163 \r\nQ 1038 2656 1286 2365 \r\nQ 1534 2075 1959 2075 \r\nz\r\n\" id=\"DejaVuSans-39\" transform=\"scale(0.015625)\"/>\r\n     </defs>\r\n     <use xlink:href=\"#DejaVuSans-63\"/>\r\n     <use x=\"54.980469\" xlink:href=\"#DejaVuSans-6f\"/>\r\n     <use x=\"116.162109\" xlink:href=\"#DejaVuSans-6c\"/>\r\n     <use x=\"143.945312\" xlink:href=\"#DejaVuSans-39\"/>\r\n    </g>\r\n   </g>\r\n  </g>\r\n </g>\r\n <defs>\r\n  <clipPath id=\"p8ee5059c99\">\r\n   <rect height=\"44.37551\" width=\"93\" x=\"20.5625\" y=\"22.318125\"/>\r\n  </clipPath>\r\n  <clipPath id=\"p1c4a2434f8\">\r\n   <rect height=\"44.37551\" width=\"93\" x=\"141.4625\" y=\"22.318125\"/>\r\n  </clipPath>\r\n  <clipPath id=\"pd740bc0cc9\">\r\n   <rect height=\"44.37551\" width=\"93\" x=\"262.3625\" y=\"22.318125\"/>\r\n  </clipPath>\r\n  <clipPath id=\"p1f98bf351d\">\r\n   <rect height=\"44.37551\" width=\"93\" x=\"20.5625\" y=\"80.006288\"/>\r\n  </clipPath>\r\n  <clipPath id=\"p9314424ea0\">\r\n   <rect height=\"44.37551\" width=\"93\" x=\"141.4625\" y=\"80.006288\"/>\r\n  </clipPath>\r\n  <clipPath id=\"p9929f946f9\">\r\n   <rect height=\"44.37551\" width=\"93\" x=\"262.3625\" y=\"80.006288\"/>\r\n  </clipPath>\r\n  <clipPath id=\"pfe62b12ba2\">\r\n   <rect height=\"44.37551\" width=\"93\" x=\"20.5625\" y=\"137.694452\"/>\r\n  </clipPath>\r\n  <clipPath id=\"p15437cdd08\">\r\n   <rect height=\"44.37551\" width=\"93\" x=\"141.4625\" y=\"137.694452\"/>\r\n  </clipPath>\r\n  <clipPath id=\"p3e89be1533\">\r\n   <rect height=\"44.37551\" width=\"93\" x=\"262.3625\" y=\"137.694452\"/>\r\n  </clipPath>\r\n  <clipPath id=\"p3c35de3af1\">\r\n   <rect height=\"44.37551\" width=\"93\" x=\"20.5625\" y=\"195.382615\"/>\r\n  </clipPath>\r\n </defs>\r\n</svg>\r\n",
      "image/png": "[encoded data removed]"
     },
     "metadata": {
      "needs_background": "light"
     }
    }
   ],
   "source": [
    "data.hist()"
   ]
  },
  {
   "cell_type": "code",
   "execution_count": 116,
   "metadata": {},
   "outputs": [
    {
     "output_type": "execute_result",
     "data": {
      "text/plain": [
       "'row9'"
      ]
     },
     "metadata": {},
     "execution_count": 116
    }
   ],
   "source": [
    "data.index[9]"
   ]
  },
  {
   "cell_type": "code",
   "execution_count": 117,
   "metadata": {},
   "outputs": [
    {
     "output_type": "execute_result",
     "data": {
      "text/plain": [
       "row0     0\n",
       "row1    10\n",
       "row2    20\n",
       "row3    30\n",
       "row4    40\n",
       "row5    50\n",
       "row6    60\n",
       "row7    70\n",
       "row8    80\n",
       "row9    90\n",
       "Name: col0, dtype: int32"
      ]
     },
     "metadata": {},
     "execution_count": 117
    }
   ],
   "source": [
    "data.col0"
   ]
  },
  {
   "cell_type": "code",
   "execution_count": 119,
   "metadata": {},
   "outputs": [
    {
     "output_type": "execute_result",
     "data": {
      "text/plain": [
       "row0     9\n",
       "row1    19\n",
       "row2    29\n",
       "row3    39\n",
       "row4    49\n",
       "row5    59\n",
       "row6    69\n",
       "row7    79\n",
       "row8    89\n",
       "row9    99\n",
       "Name: col9, dtype: int32"
      ]
     },
     "metadata": {},
     "execution_count": 119
    }
   ],
   "source": [
    "data.col9"
   ]
  },
  {
   "cell_type": "code",
   "execution_count": 122,
   "metadata": {},
   "outputs": [],
   "source": [
    "data = pd.DataFrame([1,2,3,4])"
   ]
  },
  {
   "cell_type": "code",
   "execution_count": 123,
   "metadata": {},
   "outputs": [
    {
     "output_type": "execute_result",
     "data": {
      "text/plain": [
       "   0\n",
       "0  1\n",
       "1  2\n",
       "2  3\n",
       "3  4"
      ],
      "text/html": "<div>\n<style scoped>\n    .dataframe tbody tr th:only-of-type {\n        vertical-align: middle;\n    }\n\n    .dataframe tbody tr th {\n        vertical-align: top;\n    }\n\n    .dataframe thead th {\n        text-align: right;\n    }\n</style>\n<table border=\"1\" class=\"dataframe\">\n  <thead>\n    <tr style=\"text-align: right;\">\n      <th></th>\n      <th>0</th>\n    </tr>\n  </thead>\n  <tbody>\n    <tr>\n      <th>0</th>\n      <td>1</td>\n    </tr>\n    <tr>\n      <th>1</th>\n      <td>2</td>\n    </tr>\n    <tr>\n      <th>2</th>\n      <td>3</td>\n    </tr>\n    <tr>\n      <th>3</th>\n      <td>4</td>\n    </tr>\n  </tbody>\n</table>\n</div>"
     },
     "metadata": {},
     "execution_count": 123
    }
   ],
   "source": [
    "data"
   ]
  },
  {
   "cell_type": "code",
   "execution_count": null,
   "metadata": {},
   "outputs": [],
   "source": []
  }
 ]
}